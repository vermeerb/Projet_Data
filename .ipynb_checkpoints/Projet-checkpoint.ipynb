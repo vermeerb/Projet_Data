{
 "cells": [
  {
   "cell_type": "markdown",
   "id": "671eb033",
   "metadata": {},
   "source": [
    "# Projet numérique de science des données - Bonhomme Vermeer et Rigaut Gaétan"
   ]
  },
  {
   "cell_type": "markdown",
   "id": "8d3f3df8",
   "metadata": {},
   "source": [
    "## Introduction au projet\n",
    "\n",
    "Il s'agit dans ce projet d'utiliser des données cartographiques décrivant des carrées de 30m x 30m pour construire un modèle prédictif de l'espèce d'arbre présente sur un tel carré.\n",
    "\n",
    "Le but final est d'appliquer ce modèle pour faire des prédictions pour des données pour lesquelles vous ne disposez pas d'une étiquette.\n",
    "\n",
    "__Consignes :__ \n",
    "* Vous devez rendre, par binôme :\n",
    "    * un notebook jupyter\n",
    "    * un fichier de prédictions (voir plus bas pour le format)\n",
    "* __Renseignez vos noms/prénoms__ dans le titre du notebook\n",
    "* Vous avez jusqu'au __1er juillet midi heure de Paris__\n",
    "* Déposez vos fichiers [sur Campus](https://campus.mines-paristech.fr/course/view.php?id=404) dans la section dédiée (un seul rendu par binôme est nécessaire)\n",
    "\n",
    "\n",
    "__Déroulé :__\n",
    "* Les séances du lundi 14/06 (15h30-17h) et jeudi 24/06 (15h30-17h) sont dédiées au projet numérique. Faites-en bon usage.\n",
    "* Certaines sections font appel à des notions qui n'auront pas encore été vues le 14/06 ; c'est indiqué le cas échéant."
   ]
  },
  {
   "cell_type": "markdown",
   "id": "aff00f81",
   "metadata": {},
   "source": [
    "## Données"
   ]
  },
  {
   "cell_type": "markdown",
   "id": "5f7f977c",
   "metadata": {},
   "source": [
    "### Données publiques et privées\n",
    "\n",
    "Le dossier `data/` contient deux jeux de données :\n",
    "* `data/foret_public.tsv` contient les données étiquetées, à partir desquelles construire votre modèle\n",
    "* `data/foret_prive.tsv` contient les données non-étiquetées, pour lesquelles faire vos prédictions.\n",
    "\n",
    "Chaque ligne dans les données correspond à un carré de 30 m x 30m, décrit par les variables suivantes :\n",
    "* `altitude` : altitude en mètres\n",
    "* `exposition` : azimut en degrés \n",
    "* `pente` : pente en degrés\n",
    "* `distance_horizontale_hydro` : distance horizontale au point d'eau le plus proche (en mètres)\n",
    "* `distance_verticale_hydro` : distance verticale au point d'eau le plus proche (en mètres)\n",
    "* `distance_horizontale_route` : distance horizontale à la route la plus proche (en mètres)\n",
    "* `ombrage_0900` : index d'ombrages à 9h du matin, au solstice, sur une échelle de 0 à 255\n",
    "* `ombrage_1200` : index d'ombrages à midi, au solstice, sur une échelle de 0 à 255\n",
    "* `ombrage_1500` : index d'ombrages à 15h, au solstice, sur une échelle de 0 à 255\n",
    "* `distance_horizontale_depart_feu` : distance horizontale au départ de feu de forêt le plus proche (en mètres)\n",
    "* `espece` : étiquette : espèce d'arbre présente (0 = pin tordu ; 1 = peuplier)|"
   ]
  },
  {
   "cell_type": "markdown",
   "id": "8ea2ef8d",
   "metadata": {},
   "source": [
    "### Chargement des données étiquetées"
   ]
  },
  {
   "cell_type": "code",
   "execution_count": 50,
   "id": "52a33fd1",
   "metadata": {},
   "outputs": [
    {
     "name": "stdout",
     "output_type": "stream",
     "text": [
      "Populating the interactive namespace from numpy and matplotlib\n"
     ]
    },
    {
     "name": "stderr",
     "output_type": "stream",
     "text": [
      "C:\\Users\\gr\\miniconda3\\lib\\site-packages\\IPython\\core\\magics\\pylab.py:159: UserWarning: pylab import has clobbered these variables: ['grid']\n",
      "`%matplotlib` prevents importing * from pylab and numpy\n",
      "  warn(\"pylab import has clobbered these variables: %s\"  % clobbered +\n"
     ]
    }
   ],
   "source": [
    "%pylab inline"
   ]
  },
  {
   "cell_type": "code",
   "execution_count": 51,
   "id": "d1b5dc19",
   "metadata": {},
   "outputs": [],
   "source": [
    "import pandas as pd"
   ]
  },
  {
   "cell_type": "code",
   "execution_count": 52,
   "id": "a3b091ac",
   "metadata": {},
   "outputs": [],
   "source": [
    "df_public = pd.read_csv('data/foret_public.tsv', delimiter='\\t')\n",
    "df_prive = pd.read_csv('data/foret_prive.tsv' , delimiter='\\t')"
   ]
  },
  {
   "cell_type": "code",
   "execution_count": 53,
   "id": "27bf1801",
   "metadata": {},
   "outputs": [
    {
     "data": {
      "text/html": [
       "<div>\n",
       "<style scoped>\n",
       "    .dataframe tbody tr th:only-of-type {\n",
       "        vertical-align: middle;\n",
       "    }\n",
       "\n",
       "    .dataframe tbody tr th {\n",
       "        vertical-align: top;\n",
       "    }\n",
       "\n",
       "    .dataframe thead th {\n",
       "        text-align: right;\n",
       "    }\n",
       "</style>\n",
       "<table border=\"1\" class=\"dataframe\">\n",
       "  <thead>\n",
       "    <tr style=\"text-align: right;\">\n",
       "      <th></th>\n",
       "      <th>altitude</th>\n",
       "      <th>exposition</th>\n",
       "      <th>pente</th>\n",
       "      <th>distance_horizontale_hydro</th>\n",
       "      <th>distance_verticale_hydro</th>\n",
       "      <th>distance_horizontale_route</th>\n",
       "      <th>ombrage_0900</th>\n",
       "      <th>ombrage_1200</th>\n",
       "      <th>ombrage_1500</th>\n",
       "      <th>distance_horizontale_depart_feu</th>\n",
       "      <th>espece</th>\n",
       "    </tr>\n",
       "  </thead>\n",
       "  <tbody>\n",
       "    <tr>\n",
       "      <th>0</th>\n",
       "      <td>2804</td>\n",
       "      <td>139</td>\n",
       "      <td>9</td>\n",
       "      <td>268</td>\n",
       "      <td>65</td>\n",
       "      <td>3180</td>\n",
       "      <td>234</td>\n",
       "      <td>238</td>\n",
       "      <td>135</td>\n",
       "      <td>6121</td>\n",
       "      <td>0</td>\n",
       "    </tr>\n",
       "    <tr>\n",
       "      <th>1</th>\n",
       "      <td>2785</td>\n",
       "      <td>155</td>\n",
       "      <td>18</td>\n",
       "      <td>242</td>\n",
       "      <td>118</td>\n",
       "      <td>3090</td>\n",
       "      <td>238</td>\n",
       "      <td>238</td>\n",
       "      <td>122</td>\n",
       "      <td>6211</td>\n",
       "      <td>0</td>\n",
       "    </tr>\n",
       "    <tr>\n",
       "      <th>2</th>\n",
       "      <td>2579</td>\n",
       "      <td>132</td>\n",
       "      <td>6</td>\n",
       "      <td>300</td>\n",
       "      <td>-15</td>\n",
       "      <td>67</td>\n",
       "      <td>230</td>\n",
       "      <td>237</td>\n",
       "      <td>140</td>\n",
       "      <td>6031</td>\n",
       "      <td>0</td>\n",
       "    </tr>\n",
       "    <tr>\n",
       "      <th>3</th>\n",
       "      <td>2886</td>\n",
       "      <td>151</td>\n",
       "      <td>11</td>\n",
       "      <td>371</td>\n",
       "      <td>26</td>\n",
       "      <td>5253</td>\n",
       "      <td>234</td>\n",
       "      <td>240</td>\n",
       "      <td>136</td>\n",
       "      <td>4051</td>\n",
       "      <td>0</td>\n",
       "    </tr>\n",
       "    <tr>\n",
       "      <th>4</th>\n",
       "      <td>2742</td>\n",
       "      <td>134</td>\n",
       "      <td>22</td>\n",
       "      <td>150</td>\n",
       "      <td>69</td>\n",
       "      <td>3215</td>\n",
       "      <td>248</td>\n",
       "      <td>224</td>\n",
       "      <td>92</td>\n",
       "      <td>6091</td>\n",
       "      <td>0</td>\n",
       "    </tr>\n",
       "    <tr>\n",
       "      <th>...</th>\n",
       "      <td>...</td>\n",
       "      <td>...</td>\n",
       "      <td>...</td>\n",
       "      <td>...</td>\n",
       "      <td>...</td>\n",
       "      <td>...</td>\n",
       "      <td>...</td>\n",
       "      <td>...</td>\n",
       "      <td>...</td>\n",
       "      <td>...</td>\n",
       "      <td>...</td>\n",
       "    </tr>\n",
       "    <tr>\n",
       "      <th>5995</th>\n",
       "      <td>2935</td>\n",
       "      <td>41</td>\n",
       "      <td>13</td>\n",
       "      <td>42</td>\n",
       "      <td>9</td>\n",
       "      <td>4692</td>\n",
       "      <td>221</td>\n",
       "      <td>211</td>\n",
       "      <td>123</td>\n",
       "      <td>2080</td>\n",
       "      <td>1</td>\n",
       "    </tr>\n",
       "    <tr>\n",
       "      <th>5996</th>\n",
       "      <td>2931</td>\n",
       "      <td>17</td>\n",
       "      <td>9</td>\n",
       "      <td>30</td>\n",
       "      <td>5</td>\n",
       "      <td>4722</td>\n",
       "      <td>213</td>\n",
       "      <td>221</td>\n",
       "      <td>145</td>\n",
       "      <td>2064</td>\n",
       "      <td>1</td>\n",
       "    </tr>\n",
       "    <tr>\n",
       "      <th>5997</th>\n",
       "      <td>2932</td>\n",
       "      <td>323</td>\n",
       "      <td>7</td>\n",
       "      <td>0</td>\n",
       "      <td>0</td>\n",
       "      <td>4752</td>\n",
       "      <td>202</td>\n",
       "      <td>233</td>\n",
       "      <td>170</td>\n",
       "      <td>2048</td>\n",
       "      <td>1</td>\n",
       "    </tr>\n",
       "    <tr>\n",
       "      <th>5998</th>\n",
       "      <td>2935</td>\n",
       "      <td>294</td>\n",
       "      <td>6</td>\n",
       "      <td>0</td>\n",
       "      <td>0</td>\n",
       "      <td>4782</td>\n",
       "      <td>202</td>\n",
       "      <td>239</td>\n",
       "      <td>176</td>\n",
       "      <td>2032</td>\n",
       "      <td>1</td>\n",
       "    </tr>\n",
       "    <tr>\n",
       "      <th>5999</th>\n",
       "      <td>2937</td>\n",
       "      <td>281</td>\n",
       "      <td>8</td>\n",
       "      <td>30</td>\n",
       "      <td>2</td>\n",
       "      <td>4811</td>\n",
       "      <td>197</td>\n",
       "      <td>241</td>\n",
       "      <td>184</td>\n",
       "      <td>2017</td>\n",
       "      <td>1</td>\n",
       "    </tr>\n",
       "  </tbody>\n",
       "</table>\n",
       "<p>6000 rows × 11 columns</p>\n",
       "</div>"
      ],
      "text/plain": [
       "      altitude  exposition  pente  distance_horizontale_hydro  \\\n",
       "0         2804         139      9                         268   \n",
       "1         2785         155     18                         242   \n",
       "2         2579         132      6                         300   \n",
       "3         2886         151     11                         371   \n",
       "4         2742         134     22                         150   \n",
       "...        ...         ...    ...                         ...   \n",
       "5995      2935          41     13                          42   \n",
       "5996      2931          17      9                          30   \n",
       "5997      2932         323      7                           0   \n",
       "5998      2935         294      6                           0   \n",
       "5999      2937         281      8                          30   \n",
       "\n",
       "      distance_verticale_hydro  distance_horizontale_route  ombrage_0900  \\\n",
       "0                           65                        3180           234   \n",
       "1                          118                        3090           238   \n",
       "2                          -15                          67           230   \n",
       "3                           26                        5253           234   \n",
       "4                           69                        3215           248   \n",
       "...                        ...                         ...           ...   \n",
       "5995                         9                        4692           221   \n",
       "5996                         5                        4722           213   \n",
       "5997                         0                        4752           202   \n",
       "5998                         0                        4782           202   \n",
       "5999                         2                        4811           197   \n",
       "\n",
       "      ombrage_1200  ombrage_1500  distance_horizontale_depart_feu  espece  \n",
       "0              238           135                             6121       0  \n",
       "1              238           122                             6211       0  \n",
       "2              237           140                             6031       0  \n",
       "3              240           136                             4051       0  \n",
       "4              224            92                             6091       0  \n",
       "...            ...           ...                              ...     ...  \n",
       "5995           211           123                             2080       1  \n",
       "5996           221           145                             2064       1  \n",
       "5997           233           170                             2048       1  \n",
       "5998           239           176                             2032       1  \n",
       "5999           241           184                             2017       1  \n",
       "\n",
       "[6000 rows x 11 columns]"
      ]
     },
     "execution_count": 53,
     "metadata": {},
     "output_type": "execute_result"
    }
   ],
   "source": [
    "df_public"
   ]
  },
  {
   "cell_type": "markdown",
   "id": "c5b76691",
   "metadata": {},
   "source": [
    "### Extraction de la matrice de design et des étiquettes "
   ]
  },
  {
   "cell_type": "code",
   "execution_count": 54,
   "id": "adf51559",
   "metadata": {},
   "outputs": [],
   "source": [
    "X_public = np.array(df_public.drop(columns=[\"espece\"]))\n",
    "y_public = np.array(df_public[\"espece\"])\n",
    "\n",
    "X_prive = np.array(df_prive)"
   ]
  },
  {
   "cell_type": "markdown",
   "id": "b572e5bc",
   "metadata": {},
   "source": [
    "### Visualisation des variables\n",
    "\n",
    "#### Question 1\n",
    "Visualisez chacune des variables de `X_public` sous la forme de deux histogrammes superposés, l'un correspondant aux observations de la classe positive, l'autre correspondant aux observations de la classe négative.\n",
    "\n",
    "__Conseils :__\n",
    "* utilisez `pos_indices = np.where(y_public==1)[0]` pour déterminer les indices des lignes de `y_public` (et donc dans `X_public`) dont l'étiquette vaut 0.\n",
    "* utilisez l'argument `alpha` de `plt.hist` pour rendre vos histogrammes transparents."
   ]
  },
  {
   "cell_type": "code",
   "execution_count": 55,
   "id": "b3ff302a",
   "metadata": {},
   "outputs": [
    {
     "data": {
      "image/png": "[encoded data removed]",
      "text/plain": [
       "<Figure size 432x288 with 1 Axes>"
      ]
     },
     "metadata": {
      "needs_background": "light"
     },
     "output_type": "display_data"
    },
    {
     "data": {
      "image/png": "[encoded data removed]",
      "text/plain": [
       "<Figure size 432x288 with 1 Axes>"
      ]
     },
     "metadata": {
      "needs_background": "light"
     },
     "output_type": "display_data"
    },
    {
     "data": {
      "image/png": "[encoded data removed]",
      "text/plain": [
       "<Figure size 432x288 with 1 Axes>"
      ]
     },
     "metadata": {
      "needs_background": "light"
     },
     "output_type": "display_data"
    },
    {
     "data": {
      "image/png": "[encoded data removed]",
      "text/plain": [
       "<Figure size 432x288 with 1 Axes>"
      ]
     },
     "metadata": {
      "needs_background": "light"
     },
     "output_type": "display_data"
    },
    {
     "data": {
      "image/png": "[encoded data removed]",
      "text/plain": [
       "<Figure size 432x288 with 1 Axes>"
      ]
     },
     "metadata": {
      "needs_background": "light"
     },
     "output_type": "display_data"
    },
    {
     "data": {
      "image/png": "[encoded data removed]",
      "text/plain": [
       "<Figure size 432x288 with 1 Axes>"
      ]
     },
     "metadata": {
      "needs_background": "light"
     },
     "output_type": "display_data"
    },
    {
     "data": {
      "image/png": "[encoded data removed]",
      "text/plain": [
       "<Figure size 432x288 with 1 Axes>"
      ]
     },
     "metadata": {
      "needs_background": "light"
     },
     "output_type": "display_data"
    },
    {
     "data": {
      "image/png": "[encoded data removed]",
      "text/plain": [
       "<Figure size 432x288 with 1 Axes>"
      ]
     },
     "metadata": {
      "needs_background": "light"
     },
     "output_type": "display_data"
    },
    {
     "data": {
      "image/png": "[encoded data removed]",
      "text/plain": [
       "<Figure size 432x288 with 1 Axes>"
      ]
     },
     "metadata": {
      "needs_background": "light"
     },
     "output_type": "display_data"
    },
    {
     "data": {
      "image/png": "[encoded data removed]",
      "text/plain": [
       "<Figure size 432x288 with 1 Axes>"
      ]
     },
     "metadata": {
      "needs_background": "light"
     },
     "output_type": "display_data"
    }
   ],
   "source": [
    "pos_indices = np.where(y_public==1)[0]\n",
    "pos_indices_2 = np.where(y_public==0)[0]\n",
    "for i in range(10) :\n",
    "    plt.hist([e[i] for e in X_public[pos_indices]],alpha=0.8)\n",
    "    plt.hist([e[i] for e in X_public[pos_indices_2]],alpha = 0.8)\n",
    "    plt.title(df_public.columns.values[i])\n",
    "    plt.legend(['Peuplier','Pin Tordu'])\n",
    "    plt.show()"
   ]
  },
  {
   "cell_type": "markdown",
   "id": "d988c710",
   "metadata": {},
   "source": [
    "#### Question 2\n",
    "Pensez-vous qu'il va être aisé de distinguer les deux classes ?"
   ]
  },
  {
   "cell_type": "markdown",
   "id": "42f232b0",
   "metadata": {},
   "source": [
    "Non car beaucoup de variables ont les mêmes profils d'histogrammes"
   ]
  },
  {
   "cell_type": "markdown",
   "id": "0daa7464",
   "metadata": {},
   "source": [
    "### Pré-traitement des variables"
   ]
  },
  {
   "cell_type": "markdown",
   "id": "ef1b7b86",
   "metadata": {},
   "source": [
    "#### Question 3\n",
    "Transformez vos variables d'une manière qui vous parait judicieuse, en vous appuyant notamment sur la PC 3. Vous pouvez essayer différents pré-traitements, mais ce n'est pas nécessaire. \n",
    "\n",
    "Utilisez un array numpy `X_public_preprocessed` pour enregistrer le résultat."
   ]
  },
  {
   "cell_type": "markdown",
   "id": "cb1392ac",
   "metadata": {},
   "source": [
    "Nous choisissons de centrer réduire les valeurs, pour ne pas que leurs différents ordres de grandeurs n'influent sur les algorithme de classification qu enous allons utiliser"
   ]
  },
  {
   "cell_type": "code",
   "execution_count": 56,
   "id": "8400308f",
   "metadata": {},
   "outputs": [],
   "source": [
    "from sklearn import preprocessing\n",
    "standard_scaler = preprocessing.StandardScaler()\n",
    "standard_scaler.fit(X_public)\n",
    "X_public_preprocessed = standard_scaler.transform(X_public)"
   ]
  },
  {
   "cell_type": "markdown",
   "id": "4e6b4e9e",
   "metadata": {},
   "source": [
    "## Premier modèle : 5-NN"
   ]
  },
  {
   "cell_type": "markdown",
   "id": "44f299ca",
   "metadata": {},
   "source": [
    "### Algorithme des k plus proches voisins"
   ]
  },
  {
   "cell_type": "markdown",
   "id": "52e095a7",
   "metadata": {},
   "source": [
    "Nous n'avons pas encore vu d'algorithme permettant d'entraîner un modèle de classification. Nous allons donc commencer avec un modèle simple : celui des __k plus proches voisins__ (ou __kNN__, pour _k nearest neighbors_).\n",
    "\n",
    "Dans ce modèle, la valeur de la fonction de décision en x est la proportion d'individus d'étiquette positive parmi les k plus proches voisins de x au sein des points du jeu d'entraînement ; k est fixé."
   ]
  },
  {
   "cell_type": "markdown",
   "id": "0c9640ff",
   "metadata": {},
   "source": [
    "Nous allons commencer par utiliser un algorithme des k plus proches voisins avec k fixé à k=5."
   ]
  },
  {
   "cell_type": "markdown",
   "id": "c09214ad",
   "metadata": {},
   "source": [
    "#### Question 4\n",
    "\n",
    "Entraînez un modèle des sur les données `(X_public_preprocessed, y_public)` grâce à la classe `KNeighborsClassifier` du module `neighbors` de `sklearn`, utilisez l'algorithme des 5 plus proches voisins pour entrainer un modèle sur votre jeu d'entraînement.\n",
    "\n",
    "Documentation https://scikit-learn.org/stable/modules/generated/sklearn.neighbors.KNeighborsClassifier.html"
   ]
  },
  {
   "cell_type": "code",
   "execution_count": 57,
   "id": "ffe966ad",
   "metadata": {},
   "outputs": [],
   "source": [
    "from sklearn import neighbors"
   ]
  },
  {
   "cell_type": "code",
   "execution_count": 58,
   "id": "19914bc5",
   "metadata": {},
   "outputs": [],
   "source": [
    "predictor_neigh = neighbors.KNeighborsClassifier(n_neighbors=5)\n",
    "predictor_neigh.fit(X_public_preprocessed, y_public)\n",
    "\n",
    "y_pred_neigh = predictor_neigh.predict(X_public_preprocessed)"
   ]
  },
  {
   "cell_type": "markdown",
   "id": "6da79088",
   "metadata": {},
   "source": [
    "### Performance\n",
    "\n",
    "Il existe de nombreuses métriques pour évaluer les performances d'un algorithme de classification. Nous allons ici utiliser le F-score, dont vous trouverez une description dans la documentation du module `metrics` de `sklearn` : https://scikit-learn.org/stable/modules/generated/sklearn.metrics.f1_score.html#sklearn.metrics.f1_score et https://scikit-learn.org/stable/modules/model_evaluation.html#precision-recall-f-measure-metrics.\n",
    "\n",
    "#### Question 5\n",
    "Quel serait sur nos données le F-score d'un modèle naïf prédisant systématiquement la classe positive ?"
   ]
  },
  {
   "cell_type": "code",
   "execution_count": 59,
   "id": "60b6d79a",
   "metadata": {},
   "outputs": [
    {
     "name": "stdout",
     "output_type": "stream",
     "text": [
      "performances sur un modèle naïf : 0.6666666666666666\n"
     ]
    }
   ],
   "source": [
    "from sklearn import metrics\n",
    "print(\"performances sur un modèle naïf : {}\".format(metrics.f1_score(y_public,np.ones((len(y_public))))))"
   ]
  },
  {
   "cell_type": "markdown",
   "id": "ad88d157",
   "metadata": {},
   "source": [
    "En effet : \n",
    "    \n",
    "    Précision = 0.5\n",
    "    Rappel = 1\n",
    "    F = 2*(Précision*Rappel)/(Précision+Rappel) = 2/3\n",
    "    "
   ]
  },
  {
   "cell_type": "markdown",
   "id": "c6f4d13b",
   "metadata": {},
   "source": [
    "#### Question 6\n",
    "\n",
    "Quelle est le F-score du modèle de 5 plus proches voisins que vous venez d'entraîner, sur les données `(X_public_preprocessed, y_public)` ?"
   ]
  },
  {
   "cell_type": "code",
   "execution_count": 60,
   "id": "108506f0",
   "metadata": {},
   "outputs": [
    {
     "name": "stdout",
     "output_type": "stream",
     "text": [
      "performances sur le set complet : 0.9290079924776682\n"
     ]
    }
   ],
   "source": [
    "f1_5NN = metrics.f1_score(y_public,y_pred_neigh)\n",
    "print(\"performances sur le set complet : {}\".format(f1_5NN))"
   ]
  },
  {
   "cell_type": "markdown",
   "id": "9dcd8cb8",
   "metadata": {},
   "source": [
    "#### Question 7\n",
    "* Que pensez-vous de cette performance ? \n",
    "* Est-ce une bonne idée d'évaluer le modèle sur le jeu d'entraînement ? (Réfléchissez en particulier au cas où k=1.)"
   ]
  },
  {
   "cell_type": "markdown",
   "id": "bb3fdf16",
   "metadata": {},
   "source": [
    "C'est un résultat satisfaisant. Cependant, on vient de tester la prédiction sur les données qui ont servi a créer le modèle, donc le score obtenu n'est pas représentatif de la performance du modèle. Il y a en effet un risque de surapprentissage : si k=1, on prend exactement l'étiquette du point. Ainsi, on n'obtient jamais d'erreur mais en réalité c'est uniquement de \"l'apprentissage par coeur\"."
   ]
  },
  {
   "cell_type": "markdown",
   "id": "519b1524",
   "metadata": {},
   "source": [
    "## Création d'un jeu de test\n",
    "\n",
    "À partir de maintenant, nous allons séparer les données en un jeu d'entraînement, que nous utiliserons pour entraîner différents modèles, et un jeu de test, que nous utiliserons pour les comparer. (Cf CM 8)."
   ]
  },
  {
   "cell_type": "code",
   "execution_count": 61,
   "id": "f270b61c",
   "metadata": {},
   "outputs": [],
   "source": [
    "from sklearn import model_selection"
   ]
  },
  {
   "cell_type": "code",
   "execution_count": 62,
   "id": "af4c6f37",
   "metadata": {},
   "outputs": [
    {
     "data": {
      "text/plain": [
       "((4800, 10), (1200, 10))"
      ]
     },
     "execution_count": 62,
     "metadata": {},
     "output_type": "execute_result"
    }
   ],
   "source": [
    "# Use 20% for testing\n",
    "X_train_public, X_test_public, y_train, y_test = model_selection.train_test_split(X_public, y_public, test_size=0.20,\n",
    "                                                                    stratify=y_public,\n",
    "                                                                    random_state=42) \n",
    "#On centre-réduit les valeurs\n",
    "\n",
    "standard_scaler_train = preprocessing.StandardScaler()\n",
    "standard_scaler_train.fit(X_train_public)\n",
    "X_train = standard_scaler_train.transform(X_train_public)\n",
    "\n",
    "standard_scaler_test = preprocessing.StandardScaler()\n",
    "standard_scaler_test.fit(X_test_public)\n",
    "X_test = standard_scaler_test.transform(X_test_public)\n",
    "\n",
    "X_train.shape, X_test.shape"
   ]
  },
  {
   "cell_type": "markdown",
   "id": "ef515a3b",
   "metadata": {},
   "source": [
    "### Performance sur le jeu de test d'un 5-NN entraîné sur le jeu d'entrainement"
   ]
  },
  {
   "cell_type": "markdown",
   "id": "320e6f8b",
   "metadata": {},
   "source": [
    "#### Question 8.a \n",
    "\n",
    "Entrainez de nouveau un modèle avec l'algorithme des 5 plus proches voisins, mais cette fois, utilisez uniquement le jeu d'entraînement. __Attention__ à bien « entraîner » votre pre-processing sur le jeu d'entraînement seulement ; considérez le jeu de test comme des données que vous ne voyez pas au moment de l'entraînement."
   ]
  },
  {
   "cell_type": "code",
   "execution_count": 63,
   "id": "287e250c",
   "metadata": {},
   "outputs": [
    {
     "data": {
      "text/plain": [
       "KNeighborsClassifier()"
      ]
     },
     "execution_count": 63,
     "metadata": {},
     "output_type": "execute_result"
    }
   ],
   "source": [
    "predictor_neigh_sep = neighbors.KNeighborsClassifier(n_neighbors=5)\n",
    "predictor_neigh_sep.fit(X_train,y_train)"
   ]
  },
  {
   "cell_type": "markdown",
   "id": "bc9d421a",
   "metadata": {},
   "source": [
    "#### Question 8.b\n",
    "Évaluez le F-score sur le jeu de test du modèle entraîné à la question précédente."
   ]
  },
  {
   "cell_type": "code",
   "execution_count": 64,
   "id": "fd1b1b68",
   "metadata": {},
   "outputs": [
    {
     "name": "stdout",
     "output_type": "stream",
     "text": [
      "performances sur le set de test : 0.9019908116385911\n"
     ]
    }
   ],
   "source": [
    "y_pred_5NN = predictor_neigh_sep.predict(X_test)\n",
    "print(\"performances sur le set de test : {}\".format(metrics.f1_score(y_test, y_pred_5NN)))"
   ]
  },
  {
   "cell_type": "markdown",
   "id": "4a422417",
   "metadata": {},
   "source": [
    "#### Question 9\n",
    "Commentez le F-score obtenu ci-dessus."
   ]
  },
  {
   "cell_type": "markdown",
   "id": "24e307ea",
   "metadata": {},
   "source": [
    "Il est du même ordre que celui obtenu auparavant, mais il est plus 'significatif', on sait que l'algorithme a de telles performances sur des données qu'il n'a jamais vu.\n",
    "\n",
    "Cette fois nous pouvons tester la prédiction avec k=1 :"
   ]
  },
  {
   "cell_type": "code",
   "execution_count": 65,
   "id": "249e8ae7",
   "metadata": {},
   "outputs": [
    {
     "name": "stdout",
     "output_type": "stream",
     "text": [
      "performances sur le set de test : 0.9132492113564669\n"
     ]
    }
   ],
   "source": [
    "predictor_neigh_sep_Q9 = neighbors.KNeighborsClassifier(n_neighbors=1)\n",
    "predictor_neigh_sep_Q9.fit(X_train,y_train)\n",
    "y_pred_5NN_Q9 = predictor_neigh_sep_Q9.predict(X_test)\n",
    "print(\"performances sur le set de test : {}\".format(metrics.f1_score(y_test, y_pred_5NN_Q9)))"
   ]
  },
  {
   "cell_type": "markdown",
   "id": "2443745f",
   "metadata": {},
   "source": [
    "Cette fois-ci la prédiction n'est pas parfaite. Et le test est prend du sens car cette fois l'algorithme n'a \"jamais vu\" les données avec lesquelle il est testé."
   ]
  },
  {
   "cell_type": "markdown",
   "id": "6cb037a6",
   "metadata": {},
   "source": [
    "## [À partir du CM 8 / de la PC 4] Sélection du nombre de plus proches voisins"
   ]
  },
  {
   "cell_type": "markdown",
   "id": "51b1c7dd",
   "metadata": {},
   "source": [
    "#### Question 10.a \n",
    "Utilisez maintenant une validation croisée pour sélectionner la valeur optimale du nombre de voisins avec `GridSearchCV` (voir notamment PC4). \n",
    "\n",
    "Vous pouvez utiliser la grille de valeurs de k suivante, ou la modifier :"
   ]
  },
  {
   "cell_type": "code",
   "execution_count": 66,
   "id": "a3dcf558",
   "metadata": {},
   "outputs": [],
   "source": [
    "k_values = np.arange(3,32, step=2)"
   ]
  },
  {
   "cell_type": "code",
   "execution_count": 67,
   "id": "e7d568e8",
   "metadata": {},
   "outputs": [
    {
     "data": {
      "text/plain": [
       "GridSearchCV(cv=5, estimator=KNeighborsClassifier(),\n",
       "             param_grid=[{'n_neighbors': array([ 3,  5,  7,  9, 11, 13, 15, 17, 19, 21, 23, 25, 27, 29, 31])}],\n",
       "             scoring=make_scorer(f1_score))"
      ]
     },
     "execution_count": 67,
     "metadata": {},
     "output_type": "execute_result"
    }
   ],
   "source": [
    "from sklearn.model_selection import GridSearchCV\n",
    "\n",
    "predictor_neigh_grid = neighbors.KNeighborsClassifier()\n",
    "\n",
    "# define gridsearch\n",
    "tuned_parameters = [{'n_neighbors': k_values}]\n",
    "nb_folds = 5\n",
    "grid = GridSearchCV(predictor_neigh_grid, tuned_parameters, cv=nb_folds, refit=True, scoring=metrics.make_scorer(metrics.f1_score))\n",
    "grid.fit(X_train, y_train)\n"
   ]
  },
  {
   "cell_type": "markdown",
   "id": "5d0ed8b7",
   "metadata": {},
   "source": [
    "#### Question 10.b\n",
    "Quel est le F-score correspondant au nombre de voisin optimal ?"
   ]
  },
  {
   "cell_type": "code",
   "execution_count": 68,
   "id": "772fcd5f",
   "metadata": {},
   "outputs": [
    {
     "data": {
      "text/html": [
       "<div>\n",
       "<style scoped>\n",
       "    .dataframe tbody tr th:only-of-type {\n",
       "        vertical-align: middle;\n",
       "    }\n",
       "\n",
       "    .dataframe tbody tr th {\n",
       "        vertical-align: top;\n",
       "    }\n",
       "\n",
       "    .dataframe thead th {\n",
       "        text-align: right;\n",
       "    }\n",
       "</style>\n",
       "<table border=\"1\" class=\"dataframe\">\n",
       "  <thead>\n",
       "    <tr style=\"text-align: right;\">\n",
       "      <th></th>\n",
       "      <th>mean_fit_time</th>\n",
       "      <th>std_fit_time</th>\n",
       "      <th>mean_score_time</th>\n",
       "      <th>std_score_time</th>\n",
       "      <th>param_n_neighbors</th>\n",
       "      <th>params</th>\n",
       "      <th>split0_test_score</th>\n",
       "      <th>split1_test_score</th>\n",
       "      <th>split2_test_score</th>\n",
       "      <th>split3_test_score</th>\n",
       "      <th>split4_test_score</th>\n",
       "      <th>mean_test_score</th>\n",
       "      <th>std_test_score</th>\n",
       "      <th>rank_test_score</th>\n",
       "    </tr>\n",
       "  </thead>\n",
       "  <tbody>\n",
       "    <tr>\n",
       "      <th>0</th>\n",
       "      <td>0.021334</td>\n",
       "      <td>0.014505</td>\n",
       "      <td>0.124172</td>\n",
       "      <td>0.025656</td>\n",
       "      <td>3</td>\n",
       "      <td>{'n_neighbors': 3}</td>\n",
       "      <td>0.897881</td>\n",
       "      <td>0.901163</td>\n",
       "      <td>0.889952</td>\n",
       "      <td>0.883412</td>\n",
       "      <td>0.908913</td>\n",
       "      <td>0.896264</td>\n",
       "      <td>0.008850</td>\n",
       "      <td>1</td>\n",
       "    </tr>\n",
       "    <tr>\n",
       "      <th>1</th>\n",
       "      <td>0.025565</td>\n",
       "      <td>0.006793</td>\n",
       "      <td>0.193769</td>\n",
       "      <td>0.048793</td>\n",
       "      <td>5</td>\n",
       "      <td>{'n_neighbors': 5}</td>\n",
       "      <td>0.892754</td>\n",
       "      <td>0.892514</td>\n",
       "      <td>0.886124</td>\n",
       "      <td>0.871843</td>\n",
       "      <td>0.894027</td>\n",
       "      <td>0.887452</td>\n",
       "      <td>0.008275</td>\n",
       "      <td>2</td>\n",
       "    </tr>\n",
       "    <tr>\n",
       "      <th>2</th>\n",
       "      <td>0.017846</td>\n",
       "      <td>0.007579</td>\n",
       "      <td>0.103754</td>\n",
       "      <td>0.036273</td>\n",
       "      <td>7</td>\n",
       "      <td>{'n_neighbors': 7}</td>\n",
       "      <td>0.888676</td>\n",
       "      <td>0.886990</td>\n",
       "      <td>0.879392</td>\n",
       "      <td>0.860315</td>\n",
       "      <td>0.891841</td>\n",
       "      <td>0.881443</td>\n",
       "      <td>0.011330</td>\n",
       "      <td>3</td>\n",
       "    </tr>\n",
       "    <tr>\n",
       "      <th>3</th>\n",
       "      <td>0.018862</td>\n",
       "      <td>0.005614</td>\n",
       "      <td>0.141500</td>\n",
       "      <td>0.017112</td>\n",
       "      <td>9</td>\n",
       "      <td>{'n_neighbors': 9}</td>\n",
       "      <td>0.879849</td>\n",
       "      <td>0.878417</td>\n",
       "      <td>0.870877</td>\n",
       "      <td>0.861368</td>\n",
       "      <td>0.877589</td>\n",
       "      <td>0.873620</td>\n",
       "      <td>0.006859</td>\n",
       "      <td>4</td>\n",
       "    </tr>\n",
       "    <tr>\n",
       "      <th>4</th>\n",
       "      <td>0.021355</td>\n",
       "      <td>0.006465</td>\n",
       "      <td>0.182143</td>\n",
       "      <td>0.021689</td>\n",
       "      <td>11</td>\n",
       "      <td>{'n_neighbors': 11}</td>\n",
       "      <td>0.870388</td>\n",
       "      <td>0.876173</td>\n",
       "      <td>0.867675</td>\n",
       "      <td>0.859796</td>\n",
       "      <td>0.878187</td>\n",
       "      <td>0.870444</td>\n",
       "      <td>0.006540</td>\n",
       "      <td>6</td>\n",
       "    </tr>\n",
       "    <tr>\n",
       "      <th>5</th>\n",
       "      <td>0.025109</td>\n",
       "      <td>0.007458</td>\n",
       "      <td>0.201743</td>\n",
       "      <td>0.011520</td>\n",
       "      <td>13</td>\n",
       "      <td>{'n_neighbors': 13}</td>\n",
       "      <td>0.870633</td>\n",
       "      <td>0.878505</td>\n",
       "      <td>0.867357</td>\n",
       "      <td>0.855019</td>\n",
       "      <td>0.880907</td>\n",
       "      <td>0.870484</td>\n",
       "      <td>0.009187</td>\n",
       "      <td>5</td>\n",
       "    </tr>\n",
       "    <tr>\n",
       "      <th>6</th>\n",
       "      <td>0.025869</td>\n",
       "      <td>0.003512</td>\n",
       "      <td>0.191940</td>\n",
       "      <td>0.008039</td>\n",
       "      <td>15</td>\n",
       "      <td>{'n_neighbors': 15}</td>\n",
       "      <td>0.868744</td>\n",
       "      <td>0.871415</td>\n",
       "      <td>0.868668</td>\n",
       "      <td>0.850554</td>\n",
       "      <td>0.878049</td>\n",
       "      <td>0.867486</td>\n",
       "      <td>0.009129</td>\n",
       "      <td>7</td>\n",
       "    </tr>\n",
       "    <tr>\n",
       "      <th>7</th>\n",
       "      <td>0.024350</td>\n",
       "      <td>0.003486</td>\n",
       "      <td>0.201376</td>\n",
       "      <td>0.010797</td>\n",
       "      <td>17</td>\n",
       "      <td>{'n_neighbors': 17}</td>\n",
       "      <td>0.864662</td>\n",
       "      <td>0.871415</td>\n",
       "      <td>0.863039</td>\n",
       "      <td>0.848206</td>\n",
       "      <td>0.872897</td>\n",
       "      <td>0.864044</td>\n",
       "      <td>0.008774</td>\n",
       "      <td>8</td>\n",
       "    </tr>\n",
       "    <tr>\n",
       "      <th>8</th>\n",
       "      <td>0.025387</td>\n",
       "      <td>0.003054</td>\n",
       "      <td>0.199231</td>\n",
       "      <td>0.025412</td>\n",
       "      <td>19</td>\n",
       "      <td>{'n_neighbors': 19}</td>\n",
       "      <td>0.860356</td>\n",
       "      <td>0.865314</td>\n",
       "      <td>0.865169</td>\n",
       "      <td>0.844240</td>\n",
       "      <td>0.873134</td>\n",
       "      <td>0.861642</td>\n",
       "      <td>0.009618</td>\n",
       "      <td>9</td>\n",
       "    </tr>\n",
       "    <tr>\n",
       "      <th>9</th>\n",
       "      <td>0.025041</td>\n",
       "      <td>0.006313</td>\n",
       "      <td>0.242564</td>\n",
       "      <td>0.083314</td>\n",
       "      <td>21</td>\n",
       "      <td>{'n_neighbors': 21}</td>\n",
       "      <td>0.856876</td>\n",
       "      <td>0.862419</td>\n",
       "      <td>0.860335</td>\n",
       "      <td>0.843750</td>\n",
       "      <td>0.876404</td>\n",
       "      <td>0.859957</td>\n",
       "      <td>0.010477</td>\n",
       "      <td>10</td>\n",
       "    </tr>\n",
       "    <tr>\n",
       "      <th>10</th>\n",
       "      <td>0.022602</td>\n",
       "      <td>0.001371</td>\n",
       "      <td>0.214771</td>\n",
       "      <td>0.016224</td>\n",
       "      <td>23</td>\n",
       "      <td>{'n_neighbors': 23}</td>\n",
       "      <td>0.860902</td>\n",
       "      <td>0.858202</td>\n",
       "      <td>0.858736</td>\n",
       "      <td>0.837167</td>\n",
       "      <td>0.873477</td>\n",
       "      <td>0.857697</td>\n",
       "      <td>0.011680</td>\n",
       "      <td>11</td>\n",
       "    </tr>\n",
       "    <tr>\n",
       "      <th>11</th>\n",
       "      <td>0.023341</td>\n",
       "      <td>0.004414</td>\n",
       "      <td>0.215481</td>\n",
       "      <td>0.007803</td>\n",
       "      <td>25</td>\n",
       "      <td>{'n_neighbors': 25}</td>\n",
       "      <td>0.857411</td>\n",
       "      <td>0.854764</td>\n",
       "      <td>0.857143</td>\n",
       "      <td>0.838710</td>\n",
       "      <td>0.869972</td>\n",
       "      <td>0.855600</td>\n",
       "      <td>0.009982</td>\n",
       "      <td>12</td>\n",
       "    </tr>\n",
       "    <tr>\n",
       "      <th>12</th>\n",
       "      <td>0.021174</td>\n",
       "      <td>0.003862</td>\n",
       "      <td>0.224026</td>\n",
       "      <td>0.008548</td>\n",
       "      <td>27</td>\n",
       "      <td>{'n_neighbors': 27}</td>\n",
       "      <td>0.855545</td>\n",
       "      <td>0.853974</td>\n",
       "      <td>0.854225</td>\n",
       "      <td>0.837167</td>\n",
       "      <td>0.869159</td>\n",
       "      <td>0.854014</td>\n",
       "      <td>0.010155</td>\n",
       "      <td>14</td>\n",
       "    </tr>\n",
       "    <tr>\n",
       "      <th>13</th>\n",
       "      <td>0.024587</td>\n",
       "      <td>0.003821</td>\n",
       "      <td>0.210652</td>\n",
       "      <td>0.016466</td>\n",
       "      <td>29</td>\n",
       "      <td>{'n_neighbors': 29}</td>\n",
       "      <td>0.852612</td>\n",
       "      <td>0.856082</td>\n",
       "      <td>0.854225</td>\n",
       "      <td>0.839302</td>\n",
       "      <td>0.870787</td>\n",
       "      <td>0.854601</td>\n",
       "      <td>0.010023</td>\n",
       "      <td>13</td>\n",
       "    </tr>\n",
       "    <tr>\n",
       "      <th>14</th>\n",
       "      <td>0.024243</td>\n",
       "      <td>0.005536</td>\n",
       "      <td>0.233188</td>\n",
       "      <td>0.026105</td>\n",
       "      <td>31</td>\n",
       "      <td>{'n_neighbors': 31}</td>\n",
       "      <td>0.857143</td>\n",
       "      <td>0.851852</td>\n",
       "      <td>0.848089</td>\n",
       "      <td>0.834559</td>\n",
       "      <td>0.873477</td>\n",
       "      <td>0.853024</td>\n",
       "      <td>0.012665</td>\n",
       "      <td>15</td>\n",
       "    </tr>\n",
       "  </tbody>\n",
       "</table>\n",
       "</div>"
      ],
      "text/plain": [
       "    mean_fit_time  std_fit_time  mean_score_time  std_score_time  \\\n",
       "0        0.021334      0.014505         0.124172        0.025656   \n",
       "1        0.025565      0.006793         0.193769        0.048793   \n",
       "2        0.017846      0.007579         0.103754        0.036273   \n",
       "3        0.018862      0.005614         0.141500        0.017112   \n",
       "4        0.021355      0.006465         0.182143        0.021689   \n",
       "5        0.025109      0.007458         0.201743        0.011520   \n",
       "6        0.025869      0.003512         0.191940        0.008039   \n",
       "7        0.024350      0.003486         0.201376        0.010797   \n",
       "8        0.025387      0.003054         0.199231        0.025412   \n",
       "9        0.025041      0.006313         0.242564        0.083314   \n",
       "10       0.022602      0.001371         0.214771        0.016224   \n",
       "11       0.023341      0.004414         0.215481        0.007803   \n",
       "12       0.021174      0.003862         0.224026        0.008548   \n",
       "13       0.024587      0.003821         0.210652        0.016466   \n",
       "14       0.024243      0.005536         0.233188        0.026105   \n",
       "\n",
       "   param_n_neighbors               params  split0_test_score  \\\n",
       "0                  3   {'n_neighbors': 3}           0.897881   \n",
       "1                  5   {'n_neighbors': 5}           0.892754   \n",
       "2                  7   {'n_neighbors': 7}           0.888676   \n",
       "3                  9   {'n_neighbors': 9}           0.879849   \n",
       "4                 11  {'n_neighbors': 11}           0.870388   \n",
       "5                 13  {'n_neighbors': 13}           0.870633   \n",
       "6                 15  {'n_neighbors': 15}           0.868744   \n",
       "7                 17  {'n_neighbors': 17}           0.864662   \n",
       "8                 19  {'n_neighbors': 19}           0.860356   \n",
       "9                 21  {'n_neighbors': 21}           0.856876   \n",
       "10                23  {'n_neighbors': 23}           0.860902   \n",
       "11                25  {'n_neighbors': 25}           0.857411   \n",
       "12                27  {'n_neighbors': 27}           0.855545   \n",
       "13                29  {'n_neighbors': 29}           0.852612   \n",
       "14                31  {'n_neighbors': 31}           0.857143   \n",
       "\n",
       "    split1_test_score  split2_test_score  split3_test_score  \\\n",
       "0            0.901163           0.889952           0.883412   \n",
       "1            0.892514           0.886124           0.871843   \n",
       "2            0.886990           0.879392           0.860315   \n",
       "3            0.878417           0.870877           0.861368   \n",
       "4            0.876173           0.867675           0.859796   \n",
       "5            0.878505           0.867357           0.855019   \n",
       "6            0.871415           0.868668           0.850554   \n",
       "7            0.871415           0.863039           0.848206   \n",
       "8            0.865314           0.865169           0.844240   \n",
       "9            0.862419           0.860335           0.843750   \n",
       "10           0.858202           0.858736           0.837167   \n",
       "11           0.854764           0.857143           0.838710   \n",
       "12           0.853974           0.854225           0.837167   \n",
       "13           0.856082           0.854225           0.839302   \n",
       "14           0.851852           0.848089           0.834559   \n",
       "\n",
       "    split4_test_score  mean_test_score  std_test_score  rank_test_score  \n",
       "0            0.908913         0.896264        0.008850                1  \n",
       "1            0.894027         0.887452        0.008275                2  \n",
       "2            0.891841         0.881443        0.011330                3  \n",
       "3            0.877589         0.873620        0.006859                4  \n",
       "4            0.878187         0.870444        0.006540                6  \n",
       "5            0.880907         0.870484        0.009187                5  \n",
       "6            0.878049         0.867486        0.009129                7  \n",
       "7            0.872897         0.864044        0.008774                8  \n",
       "8            0.873134         0.861642        0.009618                9  \n",
       "9            0.876404         0.859957        0.010477               10  \n",
       "10           0.873477         0.857697        0.011680               11  \n",
       "11           0.869972         0.855600        0.009982               12  \n",
       "12           0.869159         0.854014        0.010155               14  \n",
       "13           0.870787         0.854601        0.010023               13  \n",
       "14           0.873477         0.853024        0.012665               15  "
      ]
     },
     "execution_count": 68,
     "metadata": {},
     "output_type": "execute_result"
    }
   ],
   "source": [
    "pd.DataFrame(grid.cv_results_)"
   ]
  },
  {
   "cell_type": "code",
   "execution_count": 89,
   "id": "173913a4",
   "metadata": {},
   "outputs": [
    {
     "name": "stdout",
     "output_type": "stream",
     "text": [
      "Le meilleur F1-score associé au nombre de voisins optimal est : 0.8962641272279832\n"
     ]
    }
   ],
   "source": [
    "print(\"Le meilleur F1-score associé au nombre de voisins optimal est : {}\".format(grid.best_score_))"
   ]
  },
  {
   "cell_type": "markdown",
   "id": "95bd9171",
   "metadata": {},
   "source": [
    "#### Question 10.c\n",
    "\n",
    "Quel est le F-score, sur le jeu de test, d'un modèle obtenu en entraînant un algorithme des k plus proches voisins, avec le k que vous venez de déterminer, sur le jeu d'entraînement ? Commentez."
   ]
  },
  {
   "cell_type": "code",
   "execution_count": 70,
   "id": "1b6e3a63",
   "metadata": {},
   "outputs": [
    {
     "name": "stdout",
     "output_type": "stream",
     "text": [
      "performances sur le set de test : 0.9010819165378671\n"
     ]
    }
   ],
   "source": [
    "predictor_neigh_best = neighbors.KNeighborsClassifier(n_neighbors=3)\n",
    "predictor_neigh_best.fit(X_train,y_train)\n",
    "y_pred_neigh_grid = predictor_neigh_best.predict(X_test)\n",
    "f1_neigh_grid = metrics.f1_score(y_pred_neigh_grid,y_test)\n",
    "print(\"performances sur le set de test : {}\".format(f1_neigh_grid))"
   ]
  },
  {
   "cell_type": "markdown",
   "id": "7b0e485e",
   "metadata": {},
   "source": [
    "Le résultat de ce F-score est plus élevé que celui obtenu par la méthode grid. Cela nous indique que la population d'entrainement n'est pas tout à fait réprésentative de la population de jeu"
   ]
  },
  {
   "cell_type": "markdown",
   "id": "f0cd2b84",
   "metadata": {},
   "source": [
    "## [À partir de la PC 5] Régression logistique"
   ]
  },
  {
   "cell_type": "markdown",
   "id": "72bff0d8",
   "metadata": {},
   "source": [
    "### Régression logistique non-régularisée"
   ]
  },
  {
   "cell_type": "markdown",
   "id": "14ec8ffa",
   "metadata": {},
   "source": [
    "#### Question 11.a\n",
    "\n",
    "Entraînez une régression logistique non-régularisée sur le jeu d'entraînement.\n",
    "\n",
    "__Conseils :__\n",
    "* Vous trouverez les outils nécessaires dans la classe `LogisticRegression` du module `linear_model` de `scikit-learn` ; il s'agit ainsi d'une variante de la PC5. Comme toujours, référez-vous à la [documentation](https://scikit-learn.org/stable/modules/generated/sklearn.linear_model.LogisticRegression.html).\n",
    "* Pour ne pas avoir de régularisation, utilisez `penalty='none'`"
   ]
  },
  {
   "cell_type": "code",
   "execution_count": 71,
   "id": "a9bb0107",
   "metadata": {},
   "outputs": [],
   "source": [
    "from sklearn.linear_model import LogisticRegression\n",
    "predictor_logreg = LogisticRegression(penalty='none')\n",
    "predictor_logreg.fit(X_train,y_train)\n",
    "y_pred_logreg=predictor_logreg.predict(X_test)"
   ]
  },
  {
   "cell_type": "markdown",
   "id": "f4b9fd98",
   "metadata": {},
   "source": [
    "#### Question 11.b\n",
    "Évaluez le F-score de cette régression logistique non-régularisée sur le jeu de test."
   ]
  },
  {
   "cell_type": "code",
   "execution_count": 72,
   "id": "9ae08f6d",
   "metadata": {},
   "outputs": [
    {
     "name": "stdout",
     "output_type": "stream",
     "text": [
      "performances sur le set de test : 0.776954732510288\n"
     ]
    }
   ],
   "source": [
    "f1_logreg_none = metrics.f1_score(y_pred_logreg,y_test)\n",
    "print(\"performances sur le set de test : {}\".format(f1_logreg_none))"
   ]
  },
  {
   "cell_type": "code",
   "execution_count": 73,
   "id": "145e0975",
   "metadata": {},
   "outputs": [
    {
     "name": "stdout",
     "output_type": "stream",
     "text": [
      "performances sur le set d'entrainement : 0.7724933086267243\n"
     ]
    }
   ],
   "source": [
    "print(\"performances sur le set d'entrainement : {}\".format(metrics.f1_score(predictor_logreg.predict(X_train),y_train)))"
   ]
  },
  {
   "cell_type": "markdown",
   "id": "c6f298eb",
   "metadata": {},
   "source": [
    "#### Question 12\n",
    "Vous attendez-vous à ce qu'utiliser une régularisation l2 améliore les performances du modèle ? Pourquoi ?"
   ]
  },
  {
   "cell_type": "markdown",
   "id": "2dae2d91",
   "metadata": {},
   "source": [
    "On constate que les performances de prediction sur le jeu de test sont les mêmes que celles sur le jeu d'entrainement. Ainsi, il n'y a, a priori, pas de sur-apprentissage de la part du modèle. Une régularisation (L2) ne devrait donc pas modifier les performances du modèle, qui parvient déjà à généraliser.  "
   ]
  },
  {
   "cell_type": "markdown",
   "id": "b250114c",
   "metadata": {},
   "source": [
    "#### Question 13.a\n",
    "Déterminez par validation croisée une valeur optimale du coefficient de régularisation d'une régression logistique avec régularisation ridge."
   ]
  },
  {
   "cell_type": "code",
   "execution_count": 74,
   "id": "61c2fc87",
   "metadata": {},
   "outputs": [],
   "source": [
    "C_values = np.logspace(-2, 2, 30)"
   ]
  },
  {
   "cell_type": "code",
   "execution_count": 75,
   "id": "9662910b",
   "metadata": {},
   "outputs": [
    {
     "data": {
      "text/plain": [
       "GridSearchCV(cv=5, estimator=LogisticRegression(),\n",
       "             param_grid=[{'C': array([1.00000000e-02, 1.37382380e-02, 1.88739182e-02, 2.59294380e-02,\n",
       "       3.56224789e-02, 4.89390092e-02, 6.72335754e-02, 9.23670857e-02,\n",
       "       1.26896100e-01, 1.74332882e-01, 2.39502662e-01, 3.29034456e-01,\n",
       "       4.52035366e-01, 6.21016942e-01, 8.53167852e-01, 1.17210230e+00,\n",
       "       1.61026203e+00, 2.21221629e+00, 3.03919538e+00, 4.17531894e+00,\n",
       "       5.73615251e+00, 7.88046282e+00, 1.08263673e+01, 1.48735211e+01,\n",
       "       2.04335972e+01, 2.80721620e+01, 3.85662042e+01, 5.29831691e+01,\n",
       "       7.27895384e+01, 1.00000000e+02])}],\n",
       "             scoring=make_scorer(f1_score))"
      ]
     },
     "execution_count": 75,
     "metadata": {},
     "output_type": "execute_result"
    }
   ],
   "source": [
    "from sklearn.model_selection import GridSearchCV\n",
    "\n",
    "predictor_logreg_grid = LogisticRegression(penalty='l2')\n",
    "\n",
    "# define gridsearch\n",
    "tuned_parameters = [{'C': C_values}]\n",
    "nb_folds = 5\n",
    "grid_ridge = GridSearchCV(predictor_logreg_grid, tuned_parameters, cv=nb_folds, refit=True, scoring=metrics.make_scorer(metrics.f1_score))\n",
    "grid_ridge.fit(X_train, y_train)\n"
   ]
  },
  {
   "cell_type": "code",
   "execution_count": 76,
   "id": "3a452206",
   "metadata": {},
   "outputs": [
    {
     "data": {
      "text/html": [
       "<div>\n",
       "<style scoped>\n",
       "    .dataframe tbody tr th:only-of-type {\n",
       "        vertical-align: middle;\n",
       "    }\n",
       "\n",
       "    .dataframe tbody tr th {\n",
       "        vertical-align: top;\n",
       "    }\n",
       "\n",
       "    .dataframe thead th {\n",
       "        text-align: right;\n",
       "    }\n",
       "</style>\n",
       "<table border=\"1\" class=\"dataframe\">\n",
       "  <thead>\n",
       "    <tr style=\"text-align: right;\">\n",
       "      <th></th>\n",
       "      <th>mean_fit_time</th>\n",
       "      <th>std_fit_time</th>\n",
       "      <th>mean_score_time</th>\n",
       "      <th>std_score_time</th>\n",
       "      <th>param_C</th>\n",
       "      <th>params</th>\n",
       "      <th>split0_test_score</th>\n",
       "      <th>split1_test_score</th>\n",
       "      <th>split2_test_score</th>\n",
       "      <th>split3_test_score</th>\n",
       "      <th>split4_test_score</th>\n",
       "      <th>mean_test_score</th>\n",
       "      <th>std_test_score</th>\n",
       "      <th>rank_test_score</th>\n",
       "    </tr>\n",
       "  </thead>\n",
       "  <tbody>\n",
       "    <tr>\n",
       "      <th>0</th>\n",
       "      <td>0.032661</td>\n",
       "      <td>0.002963</td>\n",
       "      <td>0.002159</td>\n",
       "      <td>0.002285</td>\n",
       "      <td>0.01</td>\n",
       "      <td>{'C': 0.01}</td>\n",
       "      <td>0.773663</td>\n",
       "      <td>0.765073</td>\n",
       "      <td>0.771930</td>\n",
       "      <td>0.761044</td>\n",
       "      <td>0.778689</td>\n",
       "      <td>0.770080</td>\n",
       "      <td>0.006278</td>\n",
       "      <td>26</td>\n",
       "    </tr>\n",
       "    <tr>\n",
       "      <th>1</th>\n",
       "      <td>0.033728</td>\n",
       "      <td>0.003063</td>\n",
       "      <td>0.002662</td>\n",
       "      <td>0.002285</td>\n",
       "      <td>0.0137382</td>\n",
       "      <td>{'C': 0.01373823795883263}</td>\n",
       "      <td>0.776519</td>\n",
       "      <td>0.775130</td>\n",
       "      <td>0.770340</td>\n",
       "      <td>0.758275</td>\n",
       "      <td>0.776978</td>\n",
       "      <td>0.771448</td>\n",
       "      <td>0.006995</td>\n",
       "      <td>10</td>\n",
       "    </tr>\n",
       "    <tr>\n",
       "      <th>2</th>\n",
       "      <td>0.034739</td>\n",
       "      <td>0.005771</td>\n",
       "      <td>0.004579</td>\n",
       "      <td>0.004062</td>\n",
       "      <td>0.0188739</td>\n",
       "      <td>{'C': 0.018873918221350976}</td>\n",
       "      <td>0.774459</td>\n",
       "      <td>0.774327</td>\n",
       "      <td>0.767802</td>\n",
       "      <td>0.758275</td>\n",
       "      <td>0.776181</td>\n",
       "      <td>0.770209</td>\n",
       "      <td>0.006617</td>\n",
       "      <td>25</td>\n",
       "    </tr>\n",
       "    <tr>\n",
       "      <th>3</th>\n",
       "      <td>0.050965</td>\n",
       "      <td>0.011455</td>\n",
       "      <td>0.005018</td>\n",
       "      <td>0.004456</td>\n",
       "      <td>0.0259294</td>\n",
       "      <td>{'C': 0.02592943797404667}</td>\n",
       "      <td>0.770661</td>\n",
       "      <td>0.773057</td>\n",
       "      <td>0.768116</td>\n",
       "      <td>0.760281</td>\n",
       "      <td>0.774459</td>\n",
       "      <td>0.769315</td>\n",
       "      <td>0.005007</td>\n",
       "      <td>30</td>\n",
       "    </tr>\n",
       "    <tr>\n",
       "      <th>4</th>\n",
       "      <td>0.044214</td>\n",
       "      <td>0.003145</td>\n",
       "      <td>0.004468</td>\n",
       "      <td>0.002907</td>\n",
       "      <td>0.0356225</td>\n",
       "      <td>{'C': 0.035622478902624426}</td>\n",
       "      <td>0.771134</td>\n",
       "      <td>0.772257</td>\n",
       "      <td>0.769866</td>\n",
       "      <td>0.759799</td>\n",
       "      <td>0.775720</td>\n",
       "      <td>0.769755</td>\n",
       "      <td>0.005346</td>\n",
       "      <td>28</td>\n",
       "    </tr>\n",
       "    <tr>\n",
       "      <th>5</th>\n",
       "      <td>0.045821</td>\n",
       "      <td>0.003315</td>\n",
       "      <td>0.004717</td>\n",
       "      <td>0.003273</td>\n",
       "      <td>0.048939</td>\n",
       "      <td>{'C': 0.04893900918477494}</td>\n",
       "      <td>0.769390</td>\n",
       "      <td>0.770509</td>\n",
       "      <td>0.773196</td>\n",
       "      <td>0.759036</td>\n",
       "      <td>0.776978</td>\n",
       "      <td>0.769822</td>\n",
       "      <td>0.005993</td>\n",
       "      <td>27</td>\n",
       "    </tr>\n",
       "    <tr>\n",
       "      <th>6</th>\n",
       "      <td>0.046726</td>\n",
       "      <td>0.003987</td>\n",
       "      <td>0.005551</td>\n",
       "      <td>0.005326</td>\n",
       "      <td>0.0672336</td>\n",
       "      <td>{'C': 0.06723357536499334}</td>\n",
       "      <td>0.768116</td>\n",
       "      <td>0.770833</td>\n",
       "      <td>0.773196</td>\n",
       "      <td>0.759036</td>\n",
       "      <td>0.776519</td>\n",
       "      <td>0.769540</td>\n",
       "      <td>0.005935</td>\n",
       "      <td>29</td>\n",
       "    </tr>\n",
       "    <tr>\n",
       "      <th>7</th>\n",
       "      <td>0.049059</td>\n",
       "      <td>0.003512</td>\n",
       "      <td>0.003800</td>\n",
       "      <td>0.003096</td>\n",
       "      <td>0.0923671</td>\n",
       "      <td>{'C': 0.09236708571873861}</td>\n",
       "      <td>0.769390</td>\n",
       "      <td>0.772917</td>\n",
       "      <td>0.774459</td>\n",
       "      <td>0.759036</td>\n",
       "      <td>0.777320</td>\n",
       "      <td>0.770624</td>\n",
       "      <td>0.006334</td>\n",
       "      <td>24</td>\n",
       "    </tr>\n",
       "    <tr>\n",
       "      <th>8</th>\n",
       "      <td>0.048498</td>\n",
       "      <td>0.001658</td>\n",
       "      <td>0.004607</td>\n",
       "      <td>0.001378</td>\n",
       "      <td>0.126896</td>\n",
       "      <td>{'C': 0.12689610031679222}</td>\n",
       "      <td>0.769710</td>\n",
       "      <td>0.774194</td>\n",
       "      <td>0.775258</td>\n",
       "      <td>0.757789</td>\n",
       "      <td>0.777320</td>\n",
       "      <td>0.770854</td>\n",
       "      <td>0.006991</td>\n",
       "      <td>23</td>\n",
       "    </tr>\n",
       "    <tr>\n",
       "      <th>9</th>\n",
       "      <td>0.047891</td>\n",
       "      <td>0.003996</td>\n",
       "      <td>0.005245</td>\n",
       "      <td>0.004572</td>\n",
       "      <td>0.174333</td>\n",
       "      <td>{'C': 0.17433288221999882}</td>\n",
       "      <td>0.769710</td>\n",
       "      <td>0.775468</td>\n",
       "      <td>0.775258</td>\n",
       "      <td>0.757789</td>\n",
       "      <td>0.776058</td>\n",
       "      <td>0.770856</td>\n",
       "      <td>0.006925</td>\n",
       "      <td>22</td>\n",
       "    </tr>\n",
       "    <tr>\n",
       "      <th>10</th>\n",
       "      <td>0.052867</td>\n",
       "      <td>0.004626</td>\n",
       "      <td>0.003249</td>\n",
       "      <td>0.003766</td>\n",
       "      <td>0.239503</td>\n",
       "      <td>{'C': 0.2395026619987486}</td>\n",
       "      <td>0.770984</td>\n",
       "      <td>0.774194</td>\n",
       "      <td>0.775258</td>\n",
       "      <td>0.758551</td>\n",
       "      <td>0.776058</td>\n",
       "      <td>0.771009</td>\n",
       "      <td>0.006463</td>\n",
       "      <td>19</td>\n",
       "    </tr>\n",
       "    <tr>\n",
       "      <th>11</th>\n",
       "      <td>0.051171</td>\n",
       "      <td>0.002020</td>\n",
       "      <td>0.003014</td>\n",
       "      <td>0.003950</td>\n",
       "      <td>0.329034</td>\n",
       "      <td>{'C': 0.32903445623126676}</td>\n",
       "      <td>0.770984</td>\n",
       "      <td>0.774194</td>\n",
       "      <td>0.775258</td>\n",
       "      <td>0.758551</td>\n",
       "      <td>0.776058</td>\n",
       "      <td>0.771009</td>\n",
       "      <td>0.006463</td>\n",
       "      <td>19</td>\n",
       "    </tr>\n",
       "    <tr>\n",
       "      <th>12</th>\n",
       "      <td>0.047220</td>\n",
       "      <td>0.004687</td>\n",
       "      <td>0.002728</td>\n",
       "      <td>0.002366</td>\n",
       "      <td>0.452035</td>\n",
       "      <td>{'C': 0.4520353656360243}</td>\n",
       "      <td>0.770984</td>\n",
       "      <td>0.775000</td>\n",
       "      <td>0.773994</td>\n",
       "      <td>0.758551</td>\n",
       "      <td>0.777320</td>\n",
       "      <td>0.771170</td>\n",
       "      <td>0.006629</td>\n",
       "      <td>18</td>\n",
       "    </tr>\n",
       "    <tr>\n",
       "      <th>13</th>\n",
       "      <td>0.045188</td>\n",
       "      <td>0.002704</td>\n",
       "      <td>0.002254</td>\n",
       "      <td>0.002201</td>\n",
       "      <td>0.621017</td>\n",
       "      <td>{'C': 0.6210169418915616}</td>\n",
       "      <td>0.772257</td>\n",
       "      <td>0.775000</td>\n",
       "      <td>0.774793</td>\n",
       "      <td>0.759315</td>\n",
       "      <td>0.777320</td>\n",
       "      <td>0.771737</td>\n",
       "      <td>0.006414</td>\n",
       "      <td>4</td>\n",
       "    </tr>\n",
       "    <tr>\n",
       "      <th>14</th>\n",
       "      <td>0.045887</td>\n",
       "      <td>0.003124</td>\n",
       "      <td>0.003633</td>\n",
       "      <td>0.001652</td>\n",
       "      <td>0.853168</td>\n",
       "      <td>{'C': 0.8531678524172805}</td>\n",
       "      <td>0.773526</td>\n",
       "      <td>0.773723</td>\n",
       "      <td>0.773526</td>\n",
       "      <td>0.758065</td>\n",
       "      <td>0.777320</td>\n",
       "      <td>0.771232</td>\n",
       "      <td>0.006741</td>\n",
       "      <td>17</td>\n",
       "    </tr>\n",
       "    <tr>\n",
       "      <th>15</th>\n",
       "      <td>0.044512</td>\n",
       "      <td>0.001955</td>\n",
       "      <td>0.003734</td>\n",
       "      <td>0.000951</td>\n",
       "      <td>1.1721</td>\n",
       "      <td>{'C': 1.1721022975334805}</td>\n",
       "      <td>0.772257</td>\n",
       "      <td>0.772443</td>\n",
       "      <td>0.774327</td>\n",
       "      <td>0.758065</td>\n",
       "      <td>0.777320</td>\n",
       "      <td>0.770882</td>\n",
       "      <td>0.006662</td>\n",
       "      <td>21</td>\n",
       "    </tr>\n",
       "    <tr>\n",
       "      <th>16</th>\n",
       "      <td>0.047990</td>\n",
       "      <td>0.001739</td>\n",
       "      <td>0.002301</td>\n",
       "      <td>0.001356</td>\n",
       "      <td>1.61026</td>\n",
       "      <td>{'C': 1.6102620275609392}</td>\n",
       "      <td>0.774327</td>\n",
       "      <td>0.771160</td>\n",
       "      <td>0.774327</td>\n",
       "      <td>0.760081</td>\n",
       "      <td>0.777320</td>\n",
       "      <td>0.771443</td>\n",
       "      <td>0.006006</td>\n",
       "      <td>11</td>\n",
       "    </tr>\n",
       "    <tr>\n",
       "      <th>17</th>\n",
       "      <td>0.045611</td>\n",
       "      <td>0.002235</td>\n",
       "      <td>0.003267</td>\n",
       "      <td>0.001163</td>\n",
       "      <td>2.21222</td>\n",
       "      <td>{'C': 2.212216291070448}</td>\n",
       "      <td>0.774327</td>\n",
       "      <td>0.769874</td>\n",
       "      <td>0.774327</td>\n",
       "      <td>0.760081</td>\n",
       "      <td>0.778579</td>\n",
       "      <td>0.771438</td>\n",
       "      <td>0.006311</td>\n",
       "      <td>12</td>\n",
       "    </tr>\n",
       "    <tr>\n",
       "      <th>18</th>\n",
       "      <td>0.044660</td>\n",
       "      <td>0.005774</td>\n",
       "      <td>0.002591</td>\n",
       "      <td>0.003175</td>\n",
       "      <td>3.0392</td>\n",
       "      <td>{'C': 3.039195382313198}</td>\n",
       "      <td>0.774327</td>\n",
       "      <td>0.769874</td>\n",
       "      <td>0.775595</td>\n",
       "      <td>0.761329</td>\n",
       "      <td>0.778579</td>\n",
       "      <td>0.771941</td>\n",
       "      <td>0.006000</td>\n",
       "      <td>3</td>\n",
       "    </tr>\n",
       "    <tr>\n",
       "      <th>19</th>\n",
       "      <td>0.051173</td>\n",
       "      <td>0.013503</td>\n",
       "      <td>0.004428</td>\n",
       "      <td>0.003765</td>\n",
       "      <td>4.17532</td>\n",
       "      <td>{'C': 4.175318936560401}</td>\n",
       "      <td>0.773526</td>\n",
       "      <td>0.769874</td>\n",
       "      <td>0.776860</td>\n",
       "      <td>0.761329</td>\n",
       "      <td>0.778579</td>\n",
       "      <td>0.772034</td>\n",
       "      <td>0.006125</td>\n",
       "      <td>1</td>\n",
       "    </tr>\n",
       "    <tr>\n",
       "      <th>20</th>\n",
       "      <td>0.048481</td>\n",
       "      <td>0.004695</td>\n",
       "      <td>0.003665</td>\n",
       "      <td>0.004527</td>\n",
       "      <td>5.73615</td>\n",
       "      <td>{'C': 5.736152510448681}</td>\n",
       "      <td>0.773526</td>\n",
       "      <td>0.771160</td>\n",
       "      <td>0.775258</td>\n",
       "      <td>0.761329</td>\n",
       "      <td>0.778579</td>\n",
       "      <td>0.771970</td>\n",
       "      <td>0.005844</td>\n",
       "      <td>2</td>\n",
       "    </tr>\n",
       "    <tr>\n",
       "      <th>21</th>\n",
       "      <td>0.041728</td>\n",
       "      <td>0.002028</td>\n",
       "      <td>0.005730</td>\n",
       "      <td>0.002130</td>\n",
       "      <td>7.88046</td>\n",
       "      <td>{'C': 7.880462815669913}</td>\n",
       "      <td>0.773526</td>\n",
       "      <td>0.771967</td>\n",
       "      <td>0.775258</td>\n",
       "      <td>0.761329</td>\n",
       "      <td>0.776058</td>\n",
       "      <td>0.771628</td>\n",
       "      <td>0.005340</td>\n",
       "      <td>5</td>\n",
       "    </tr>\n",
       "    <tr>\n",
       "      <th>22</th>\n",
       "      <td>0.052838</td>\n",
       "      <td>0.012435</td>\n",
       "      <td>0.004479</td>\n",
       "      <td>0.002323</td>\n",
       "      <td>10.8264</td>\n",
       "      <td>{'C': 10.82636733874054}</td>\n",
       "      <td>0.773526</td>\n",
       "      <td>0.771967</td>\n",
       "      <td>0.775258</td>\n",
       "      <td>0.761329</td>\n",
       "      <td>0.776058</td>\n",
       "      <td>0.771628</td>\n",
       "      <td>0.005340</td>\n",
       "      <td>5</td>\n",
       "    </tr>\n",
       "    <tr>\n",
       "      <th>23</th>\n",
       "      <td>0.044139</td>\n",
       "      <td>0.001099</td>\n",
       "      <td>0.005046</td>\n",
       "      <td>0.000597</td>\n",
       "      <td>14.8735</td>\n",
       "      <td>{'C': 14.873521072935118}</td>\n",
       "      <td>0.772257</td>\n",
       "      <td>0.771967</td>\n",
       "      <td>0.775258</td>\n",
       "      <td>0.761329</td>\n",
       "      <td>0.776058</td>\n",
       "      <td>0.771374</td>\n",
       "      <td>0.005273</td>\n",
       "      <td>13</td>\n",
       "    </tr>\n",
       "    <tr>\n",
       "      <th>24</th>\n",
       "      <td>0.047743</td>\n",
       "      <td>0.001920</td>\n",
       "      <td>0.001154</td>\n",
       "      <td>0.001422</td>\n",
       "      <td>20.4336</td>\n",
       "      <td>{'C': 20.433597178569418}</td>\n",
       "      <td>0.772257</td>\n",
       "      <td>0.771967</td>\n",
       "      <td>0.775258</td>\n",
       "      <td>0.761329</td>\n",
       "      <td>0.776058</td>\n",
       "      <td>0.771374</td>\n",
       "      <td>0.005273</td>\n",
       "      <td>13</td>\n",
       "    </tr>\n",
       "    <tr>\n",
       "      <th>25</th>\n",
       "      <td>0.050880</td>\n",
       "      <td>0.017368</td>\n",
       "      <td>0.007315</td>\n",
       "      <td>0.003499</td>\n",
       "      <td>28.0722</td>\n",
       "      <td>{'C': 28.072162039411758}</td>\n",
       "      <td>0.772257</td>\n",
       "      <td>0.771967</td>\n",
       "      <td>0.775258</td>\n",
       "      <td>0.761329</td>\n",
       "      <td>0.776058</td>\n",
       "      <td>0.771374</td>\n",
       "      <td>0.005273</td>\n",
       "      <td>13</td>\n",
       "    </tr>\n",
       "    <tr>\n",
       "      <th>26</th>\n",
       "      <td>0.046388</td>\n",
       "      <td>0.002452</td>\n",
       "      <td>0.002676</td>\n",
       "      <td>0.002229</td>\n",
       "      <td>38.5662</td>\n",
       "      <td>{'C': 38.56620421163472}</td>\n",
       "      <td>0.772257</td>\n",
       "      <td>0.771967</td>\n",
       "      <td>0.775258</td>\n",
       "      <td>0.761329</td>\n",
       "      <td>0.776058</td>\n",
       "      <td>0.771374</td>\n",
       "      <td>0.005273</td>\n",
       "      <td>13</td>\n",
       "    </tr>\n",
       "    <tr>\n",
       "      <th>27</th>\n",
       "      <td>0.047323</td>\n",
       "      <td>0.003371</td>\n",
       "      <td>0.004683</td>\n",
       "      <td>0.002447</td>\n",
       "      <td>52.9832</td>\n",
       "      <td>{'C': 52.98316906283707}</td>\n",
       "      <td>0.772257</td>\n",
       "      <td>0.771967</td>\n",
       "      <td>0.775258</td>\n",
       "      <td>0.761329</td>\n",
       "      <td>0.777320</td>\n",
       "      <td>0.771626</td>\n",
       "      <td>0.005516</td>\n",
       "      <td>7</td>\n",
       "    </tr>\n",
       "    <tr>\n",
       "      <th>28</th>\n",
       "      <td>0.047461</td>\n",
       "      <td>0.002078</td>\n",
       "      <td>0.002733</td>\n",
       "      <td>0.002256</td>\n",
       "      <td>72.7895</td>\n",
       "      <td>{'C': 72.78953843983146}</td>\n",
       "      <td>0.772257</td>\n",
       "      <td>0.771967</td>\n",
       "      <td>0.775258</td>\n",
       "      <td>0.761329</td>\n",
       "      <td>0.777320</td>\n",
       "      <td>0.771626</td>\n",
       "      <td>0.005516</td>\n",
       "      <td>7</td>\n",
       "    </tr>\n",
       "    <tr>\n",
       "      <th>29</th>\n",
       "      <td>0.046687</td>\n",
       "      <td>0.001438</td>\n",
       "      <td>0.004828</td>\n",
       "      <td>0.001289</td>\n",
       "      <td>100</td>\n",
       "      <td>{'C': 100.0}</td>\n",
       "      <td>0.772257</td>\n",
       "      <td>0.771967</td>\n",
       "      <td>0.775258</td>\n",
       "      <td>0.761329</td>\n",
       "      <td>0.777320</td>\n",
       "      <td>0.771626</td>\n",
       "      <td>0.005516</td>\n",
       "      <td>7</td>\n",
       "    </tr>\n",
       "  </tbody>\n",
       "</table>\n",
       "</div>"
      ],
      "text/plain": [
       "    mean_fit_time  std_fit_time  mean_score_time  std_score_time    param_C  \\\n",
       "0        0.032661      0.002963         0.002159        0.002285       0.01   \n",
       "1        0.033728      0.003063         0.002662        0.002285  0.0137382   \n",
       "2        0.034739      0.005771         0.004579        0.004062  0.0188739   \n",
       "3        0.050965      0.011455         0.005018        0.004456  0.0259294   \n",
       "4        0.044214      0.003145         0.004468        0.002907  0.0356225   \n",
       "5        0.045821      0.003315         0.004717        0.003273   0.048939   \n",
       "6        0.046726      0.003987         0.005551        0.005326  0.0672336   \n",
       "7        0.049059      0.003512         0.003800        0.003096  0.0923671   \n",
       "8        0.048498      0.001658         0.004607        0.001378   0.126896   \n",
       "9        0.047891      0.003996         0.005245        0.004572   0.174333   \n",
       "10       0.052867      0.004626         0.003249        0.003766   0.239503   \n",
       "11       0.051171      0.002020         0.003014        0.003950   0.329034   \n",
       "12       0.047220      0.004687         0.002728        0.002366   0.452035   \n",
       "13       0.045188      0.002704         0.002254        0.002201   0.621017   \n",
       "14       0.045887      0.003124         0.003633        0.001652   0.853168   \n",
       "15       0.044512      0.001955         0.003734        0.000951     1.1721   \n",
       "16       0.047990      0.001739         0.002301        0.001356    1.61026   \n",
       "17       0.045611      0.002235         0.003267        0.001163    2.21222   \n",
       "18       0.044660      0.005774         0.002591        0.003175     3.0392   \n",
       "19       0.051173      0.013503         0.004428        0.003765    4.17532   \n",
       "20       0.048481      0.004695         0.003665        0.004527    5.73615   \n",
       "21       0.041728      0.002028         0.005730        0.002130    7.88046   \n",
       "22       0.052838      0.012435         0.004479        0.002323    10.8264   \n",
       "23       0.044139      0.001099         0.005046        0.000597    14.8735   \n",
       "24       0.047743      0.001920         0.001154        0.001422    20.4336   \n",
       "25       0.050880      0.017368         0.007315        0.003499    28.0722   \n",
       "26       0.046388      0.002452         0.002676        0.002229    38.5662   \n",
       "27       0.047323      0.003371         0.004683        0.002447    52.9832   \n",
       "28       0.047461      0.002078         0.002733        0.002256    72.7895   \n",
       "29       0.046687      0.001438         0.004828        0.001289        100   \n",
       "\n",
       "                         params  split0_test_score  split1_test_score  \\\n",
       "0                   {'C': 0.01}           0.773663           0.765073   \n",
       "1    {'C': 0.01373823795883263}           0.776519           0.775130   \n",
       "2   {'C': 0.018873918221350976}           0.774459           0.774327   \n",
       "3    {'C': 0.02592943797404667}           0.770661           0.773057   \n",
       "4   {'C': 0.035622478902624426}           0.771134           0.772257   \n",
       "5    {'C': 0.04893900918477494}           0.769390           0.770509   \n",
       "6    {'C': 0.06723357536499334}           0.768116           0.770833   \n",
       "7    {'C': 0.09236708571873861}           0.769390           0.772917   \n",
       "8    {'C': 0.12689610031679222}           0.769710           0.774194   \n",
       "9    {'C': 0.17433288221999882}           0.769710           0.775468   \n",
       "10    {'C': 0.2395026619987486}           0.770984           0.774194   \n",
       "11   {'C': 0.32903445623126676}           0.770984           0.774194   \n",
       "12    {'C': 0.4520353656360243}           0.770984           0.775000   \n",
       "13    {'C': 0.6210169418915616}           0.772257           0.775000   \n",
       "14    {'C': 0.8531678524172805}           0.773526           0.773723   \n",
       "15    {'C': 1.1721022975334805}           0.772257           0.772443   \n",
       "16    {'C': 1.6102620275609392}           0.774327           0.771160   \n",
       "17     {'C': 2.212216291070448}           0.774327           0.769874   \n",
       "18     {'C': 3.039195382313198}           0.774327           0.769874   \n",
       "19     {'C': 4.175318936560401}           0.773526           0.769874   \n",
       "20     {'C': 5.736152510448681}           0.773526           0.771160   \n",
       "21     {'C': 7.880462815669913}           0.773526           0.771967   \n",
       "22     {'C': 10.82636733874054}           0.773526           0.771967   \n",
       "23    {'C': 14.873521072935118}           0.772257           0.771967   \n",
       "24    {'C': 20.433597178569418}           0.772257           0.771967   \n",
       "25    {'C': 28.072162039411758}           0.772257           0.771967   \n",
       "26     {'C': 38.56620421163472}           0.772257           0.771967   \n",
       "27     {'C': 52.98316906283707}           0.772257           0.771967   \n",
       "28     {'C': 72.78953843983146}           0.772257           0.771967   \n",
       "29                 {'C': 100.0}           0.772257           0.771967   \n",
       "\n",
       "    split2_test_score  split3_test_score  split4_test_score  mean_test_score  \\\n",
       "0            0.771930           0.761044           0.778689         0.770080   \n",
       "1            0.770340           0.758275           0.776978         0.771448   \n",
       "2            0.767802           0.758275           0.776181         0.770209   \n",
       "3            0.768116           0.760281           0.774459         0.769315   \n",
       "4            0.769866           0.759799           0.775720         0.769755   \n",
       "5            0.773196           0.759036           0.776978         0.769822   \n",
       "6            0.773196           0.759036           0.776519         0.769540   \n",
       "7            0.774459           0.759036           0.777320         0.770624   \n",
       "8            0.775258           0.757789           0.777320         0.770854   \n",
       "9            0.775258           0.757789           0.776058         0.770856   \n",
       "10           0.775258           0.758551           0.776058         0.771009   \n",
       "11           0.775258           0.758551           0.776058         0.771009   \n",
       "12           0.773994           0.758551           0.777320         0.771170   \n",
       "13           0.774793           0.759315           0.777320         0.771737   \n",
       "14           0.773526           0.758065           0.777320         0.771232   \n",
       "15           0.774327           0.758065           0.777320         0.770882   \n",
       "16           0.774327           0.760081           0.777320         0.771443   \n",
       "17           0.774327           0.760081           0.778579         0.771438   \n",
       "18           0.775595           0.761329           0.778579         0.771941   \n",
       "19           0.776860           0.761329           0.778579         0.772034   \n",
       "20           0.775258           0.761329           0.778579         0.771970   \n",
       "21           0.775258           0.761329           0.776058         0.771628   \n",
       "22           0.775258           0.761329           0.776058         0.771628   \n",
       "23           0.775258           0.761329           0.776058         0.771374   \n",
       "24           0.775258           0.761329           0.776058         0.771374   \n",
       "25           0.775258           0.761329           0.776058         0.771374   \n",
       "26           0.775258           0.761329           0.776058         0.771374   \n",
       "27           0.775258           0.761329           0.777320         0.771626   \n",
       "28           0.775258           0.761329           0.777320         0.771626   \n",
       "29           0.775258           0.761329           0.777320         0.771626   \n",
       "\n",
       "    std_test_score  rank_test_score  \n",
       "0         0.006278               26  \n",
       "1         0.006995               10  \n",
       "2         0.006617               25  \n",
       "3         0.005007               30  \n",
       "4         0.005346               28  \n",
       "5         0.005993               27  \n",
       "6         0.005935               29  \n",
       "7         0.006334               24  \n",
       "8         0.006991               23  \n",
       "9         0.006925               22  \n",
       "10        0.006463               19  \n",
       "11        0.006463               19  \n",
       "12        0.006629               18  \n",
       "13        0.006414                4  \n",
       "14        0.006741               17  \n",
       "15        0.006662               21  \n",
       "16        0.006006               11  \n",
       "17        0.006311               12  \n",
       "18        0.006000                3  \n",
       "19        0.006125                1  \n",
       "20        0.005844                2  \n",
       "21        0.005340                5  \n",
       "22        0.005340                5  \n",
       "23        0.005273               13  \n",
       "24        0.005273               13  \n",
       "25        0.005273               13  \n",
       "26        0.005273               13  \n",
       "27        0.005516                7  \n",
       "28        0.005516                7  \n",
       "29        0.005516                7  "
      ]
     },
     "execution_count": 76,
     "metadata": {},
     "output_type": "execute_result"
    }
   ],
   "source": [
    "pd.DataFrame(grid_ridge.cv_results_)"
   ]
  },
  {
   "cell_type": "markdown",
   "id": "38a9d685",
   "metadata": {},
   "source": [
    "Le tableau nous donne comme valeur optimale : 4.175318936560401"
   ]
  },
  {
   "cell_type": "markdown",
   "id": "7fcf3583",
   "metadata": {
    "tags": []
   },
   "source": [
    "#### Question 13.b\n",
    "Quel est le F-score, sur le jeu de test, d'une régression logistique avec régularisation ridge et ce coefficient de régularisation optimal, entraînée sur le jeu d'entraînement ?"
   ]
  },
  {
   "cell_type": "code",
   "execution_count": 92,
   "id": "88a48655",
   "metadata": {},
   "outputs": [],
   "source": [
    "predict_ridge = grid_ridge.best_estimator_\n",
    "predict_ridge.fit(X_train,y_train)\n",
    "y_pred_ridge=predict_ridge.predict(X_test)"
   ]
  },
  {
   "cell_type": "code",
   "execution_count": 94,
   "id": "3eb542a6",
   "metadata": {},
   "outputs": [
    {
     "name": "stdout",
     "output_type": "stream",
     "text": [
      "performance sur le set de test : 0.7765869744435284\n"
     ]
    }
   ],
   "source": [
    "f1_logreg_ridge = metrics.f1_score(y_pred_ridge,y_test)\n",
    "print(\"performance sur le set de test : {}\".format(f1_logreg_ridge))"
   ]
  },
  {
   "cell_type": "markdown",
   "id": "0d930300",
   "metadata": {},
   "source": [
    "#### Question 13.c\n",
    "Commentez ce résultat en regard de votre réponse à la question 12."
   ]
  },
  {
   "cell_type": "markdown",
   "id": "ef5b5fd8",
   "metadata": {},
   "source": [
    "Comme on s'y attendait, même en optimisant le coefficient de régularisation L2, nous n'obtenons pas de meilleures performances car il n'y a pas eu de sur apprentissage. "
   ]
  },
  {
   "cell_type": "markdown",
   "id": "bb8d5aa0",
   "metadata": {},
   "source": [
    "#### Question 14\n",
    "\n",
    "Entraînez une forêt aléatoire sur le jeu d'entraînement et évaluez son F-score sur le jeu de test.\n",
    "\n",
    "__Conseils :__\n",
    "* Vous trouverez les outils nécessaires dans la classe `RandomForestClassifier` du module `ensemble` de `scikit-learn`.\n",
    "* Choisissez le nombre d'arbres par validation croisée."
   ]
  },
  {
   "cell_type": "code",
   "execution_count": 80,
   "id": "44926bb1",
   "metadata": {},
   "outputs": [
    {
     "data": {
      "text/html": [
       "<div>\n",
       "<style scoped>\n",
       "    .dataframe tbody tr th:only-of-type {\n",
       "        vertical-align: middle;\n",
       "    }\n",
       "\n",
       "    .dataframe tbody tr th {\n",
       "        vertical-align: top;\n",
       "    }\n",
       "\n",
       "    .dataframe thead th {\n",
       "        text-align: right;\n",
       "    }\n",
       "</style>\n",
       "<table border=\"1\" class=\"dataframe\">\n",
       "  <thead>\n",
       "    <tr style=\"text-align: right;\">\n",
       "      <th></th>\n",
       "      <th>mean_fit_time</th>\n",
       "      <th>std_fit_time</th>\n",
       "      <th>mean_score_time</th>\n",
       "      <th>std_score_time</th>\n",
       "      <th>param_n_estimators</th>\n",
       "      <th>params</th>\n",
       "      <th>split0_test_score</th>\n",
       "      <th>split1_test_score</th>\n",
       "      <th>split2_test_score</th>\n",
       "      <th>split3_test_score</th>\n",
       "      <th>split4_test_score</th>\n",
       "      <th>mean_test_score</th>\n",
       "      <th>std_test_score</th>\n",
       "      <th>rank_test_score</th>\n",
       "    </tr>\n",
       "  </thead>\n",
       "  <tbody>\n",
       "    <tr>\n",
       "      <th>0</th>\n",
       "      <td>5.889160</td>\n",
       "      <td>0.581864</td>\n",
       "      <td>0.231472</td>\n",
       "      <td>0.086051</td>\n",
       "      <td>300</td>\n",
       "      <td>{'n_estimators': 300}</td>\n",
       "      <td>0.937626</td>\n",
       "      <td>0.934673</td>\n",
       "      <td>0.924925</td>\n",
       "      <td>0.928929</td>\n",
       "      <td>0.936428</td>\n",
       "      <td>0.932516</td>\n",
       "      <td>0.004828</td>\n",
       "      <td>2</td>\n",
       "    </tr>\n",
       "    <tr>\n",
       "      <th>1</th>\n",
       "      <td>8.533767</td>\n",
       "      <td>0.544489</td>\n",
       "      <td>0.305086</td>\n",
       "      <td>0.055021</td>\n",
       "      <td>400</td>\n",
       "      <td>{'n_estimators': 400}</td>\n",
       "      <td>0.933602</td>\n",
       "      <td>0.930931</td>\n",
       "      <td>0.930140</td>\n",
       "      <td>0.929719</td>\n",
       "      <td>0.931452</td>\n",
       "      <td>0.931169</td>\n",
       "      <td>0.001358</td>\n",
       "      <td>5</td>\n",
       "    </tr>\n",
       "    <tr>\n",
       "      <th>2</th>\n",
       "      <td>10.053252</td>\n",
       "      <td>0.851851</td>\n",
       "      <td>0.365865</td>\n",
       "      <td>0.037123</td>\n",
       "      <td>500</td>\n",
       "      <td>{'n_estimators': 500}</td>\n",
       "      <td>0.933868</td>\n",
       "      <td>0.930792</td>\n",
       "      <td>0.934000</td>\n",
       "      <td>0.933602</td>\n",
       "      <td>0.931313</td>\n",
       "      <td>0.932715</td>\n",
       "      <td>0.001373</td>\n",
       "      <td>1</td>\n",
       "    </tr>\n",
       "    <tr>\n",
       "      <th>3</th>\n",
       "      <td>11.613264</td>\n",
       "      <td>0.775778</td>\n",
       "      <td>0.471035</td>\n",
       "      <td>0.063346</td>\n",
       "      <td>600</td>\n",
       "      <td>{'n_estimators': 600}</td>\n",
       "      <td>0.934410</td>\n",
       "      <td>0.932798</td>\n",
       "      <td>0.929071</td>\n",
       "      <td>0.928929</td>\n",
       "      <td>0.932255</td>\n",
       "      <td>0.931493</td>\n",
       "      <td>0.002156</td>\n",
       "      <td>4</td>\n",
       "    </tr>\n",
       "    <tr>\n",
       "      <th>4</th>\n",
       "      <td>13.674510</td>\n",
       "      <td>0.649573</td>\n",
       "      <td>0.396179</td>\n",
       "      <td>0.049935</td>\n",
       "      <td>700</td>\n",
       "      <td>{'n_estimators': 700}</td>\n",
       "      <td>0.932663</td>\n",
       "      <td>0.934804</td>\n",
       "      <td>0.930931</td>\n",
       "      <td>0.928643</td>\n",
       "      <td>0.930653</td>\n",
       "      <td>0.931539</td>\n",
       "      <td>0.002072</td>\n",
       "      <td>3</td>\n",
       "    </tr>\n",
       "  </tbody>\n",
       "</table>\n",
       "</div>"
      ],
      "text/plain": [
       "   mean_fit_time  std_fit_time  mean_score_time  std_score_time  \\\n",
       "0       5.889160      0.581864         0.231472        0.086051   \n",
       "1       8.533767      0.544489         0.305086        0.055021   \n",
       "2      10.053252      0.851851         0.365865        0.037123   \n",
       "3      11.613264      0.775778         0.471035        0.063346   \n",
       "4      13.674510      0.649573         0.396179        0.049935   \n",
       "\n",
       "  param_n_estimators                 params  split0_test_score  \\\n",
       "0                300  {'n_estimators': 300}           0.937626   \n",
       "1                400  {'n_estimators': 400}           0.933602   \n",
       "2                500  {'n_estimators': 500}           0.933868   \n",
       "3                600  {'n_estimators': 600}           0.934410   \n",
       "4                700  {'n_estimators': 700}           0.932663   \n",
       "\n",
       "   split1_test_score  split2_test_score  split3_test_score  split4_test_score  \\\n",
       "0           0.934673           0.924925           0.928929           0.936428   \n",
       "1           0.930931           0.930140           0.929719           0.931452   \n",
       "2           0.930792           0.934000           0.933602           0.931313   \n",
       "3           0.932798           0.929071           0.928929           0.932255   \n",
       "4           0.934804           0.930931           0.928643           0.930653   \n",
       "\n",
       "   mean_test_score  std_test_score  rank_test_score  \n",
       "0         0.932516        0.004828                2  \n",
       "1         0.931169        0.001358                5  \n",
       "2         0.932715        0.001373                1  \n",
       "3         0.931493        0.002156                4  \n",
       "4         0.931539        0.002072                3  "
      ]
     },
     "execution_count": 80,
     "metadata": {},
     "output_type": "execute_result"
    }
   ],
   "source": [
    "from sklearn.ensemble import RandomForestClassifier\n",
    "\n",
    "predictor_forest = RandomForestClassifier()\n",
    "n_values = np.arange(300, 800, 100)\n",
    "# define gridsearch\n",
    "tuned_parameters = [{'n_estimators': n_values}]\n",
    "nb_folds = 5\n",
    "grid_forest = GridSearchCV(predictor_forest, tuned_parameters, cv=nb_folds, refit=True, scoring=metrics.make_scorer(metrics.f1_score))\n",
    "grid_forest.fit(X_train, y_train)\n",
    "\n",
    "pd.DataFrame(grid_forest.cv_results_)"
   ]
  },
  {
   "cell_type": "code",
   "execution_count": 81,
   "id": "69ab7063",
   "metadata": {},
   "outputs": [
    {
     "name": "stdout",
     "output_type": "stream",
     "text": [
      "performances sur le set de test : 0.932714970714683\n"
     ]
    }
   ],
   "source": [
    "predict_forest = grid_forest.best_estimator_\n",
    "predict_forest.fit(X_train,y_train)\n",
    "y_pred_forest=predict_ridge.predict(X_test)\n",
    "f1_forest = grid_forest.best_score_\n",
    "print(\"performances sur le set de test : {}\".format(f1_forest))"
   ]
  },
  {
   "cell_type": "markdown",
   "id": "ca70a3f1",
   "metadata": {},
   "source": [
    "## Modèle final"
   ]
  },
  {
   "cell_type": "markdown",
   "id": "8976321c",
   "metadata": {},
   "source": [
    "#### Question 15.a\n",
    "Visualisez les performances des différents modèles (et pré-traitements) que vous avez évalués sur le jeu de test."
   ]
  },
  {
   "cell_type": "code",
   "execution_count": 82,
   "id": "59da4ab4",
   "metadata": {},
   "outputs": [
    {
     "data": {
      "image/png": "[encoded data removed]",
      "text/plain": [
       "<Figure size 1152x648 with 1 Axes>"
      ]
     },
     "metadata": {
      "needs_background": "light"
     },
     "output_type": "display_data"
    }
   ],
   "source": [
    "fig = plt.figure(figsize=(16, 9))\n",
    "\n",
    "\n",
    "import numpy as np\n",
    "import matplotlib.pyplot as plt\n",
    " \n",
    "\n",
    "    \n",
    "data = {'Neighbors initial':f1_5NN, 'Neighbors grid':f1_neigh_grid, 'Logistic Regression reg : none':f1_logreg_none,\n",
    "        'Logistic Regression reg : L2':f1_logreg_ridge, 'Random tree forest grid': f1_forest }\n",
    "model = list(data.keys())\n",
    "f1_score = list(data.values())\n",
    "  \n",
    "\n",
    "plt.bar(model, f1_score,\n",
    "        width = 0.4)\n",
    "plt.ylabel(\"F1 score\")\n",
    "for index, value in enumerate(f1_score):\n",
    "    plt.text(index -0.05 , value+0.01, str(round(value*100,1))+\"%\", fontweight = 'bold')\n",
    "plt.title(\"Performance comparision\")\n",
    "plt.show()\n"
   ]
  },
  {
   "cell_type": "markdown",
   "id": "eb5ccc23",
   "metadata": {},
   "source": [
    "#### Question 15.b\n",
    "Utilisez cette figure pour __sélectionner votre modèle favori__. Quel pré-traitement choisissez-vous ? Quel algorithme choisissez-vous, avec quel hyper-paramètre ? "
   ]
  },
  {
   "cell_type": "markdown",
   "id": "a933c9f3",
   "metadata": {},
   "source": [
    "En se basant sur le F1-score, le modele ayant le meilleur score est celui utilisant une forêt aléatoire.\n",
    "L'hyper paramètre associé est n_estimators= 500"
   ]
  },
  {
   "cell_type": "markdown",
   "id": "9c0453b2",
   "metadata": {},
   "source": [
    "#### Question 16.a\n",
    "Chargez les données privées de `data/foret_prive.tsv` pour obtenir un array `X_private`. Le fichier suit la même syntaxe que `data/foret_public.tsv`, mais sans la colonne des étiquettes."
   ]
  },
  {
   "cell_type": "code",
   "execution_count": 83,
   "id": "68f294e7",
   "metadata": {},
   "outputs": [],
   "source": [
    "X_private = X_prive"
   ]
  },
  {
   "cell_type": "markdown",
   "id": "f498949e",
   "metadata": {},
   "source": [
    "#### Question 16.b\n",
    "Appliquez le pré-traitement que vous avez choisi à l'intégralité du jeu de données public `X_public` pour obtenir `X_public_preprocessed`."
   ]
  },
  {
   "cell_type": "code",
   "execution_count": 84,
   "id": "95abfbe3",
   "metadata": {},
   "outputs": [],
   "source": [
    "standard_scaler2 = preprocessing.StandardScaler()\n",
    "standard_scaler2.fit(X_public)\n",
    "X_public_preprocessed = standard_scaler2.transform(X_public)"
   ]
  },
  {
   "cell_type": "markdown",
   "id": "c863afe7",
   "metadata": {},
   "source": [
    "#### Question 16.c\n",
    "Appliquez à `X_private` le pré-traitement que vous avez choisi ; enregistrez le résultat dans `X_private_preprocessed`."
   ]
  },
  {
   "cell_type": "code",
   "execution_count": 85,
   "id": "956c31bb",
   "metadata": {},
   "outputs": [],
   "source": [
    "standard_scaler3 = preprocessing.StandardScaler()\n",
    "standard_scaler3.fit(X_private)\n",
    "X_private_preprocessed = standard_scaler3.transform(X_private)"
   ]
  },
  {
   "cell_type": "markdown",
   "id": "95c57b2f",
   "metadata": {},
   "source": [
    "#### Question 16.d\n",
    "Entraînez l'algorithme que vous avez sélectionné sur l'intégralité des données publiques `(X_public_processed, y_public)`. "
   ]
  },
  {
   "cell_type": "code",
   "execution_count": 86,
   "id": "fd566c3b",
   "metadata": {},
   "outputs": [
    {
     "data": {
      "text/plain": [
       "RandomForestClassifier(n_estimators=500)"
      ]
     },
     "execution_count": 86,
     "metadata": {},
     "output_type": "execute_result"
    }
   ],
   "source": [
    "predict_forest_final = RandomForestClassifier(n_estimators=500)\n",
    "predict_forest_final.fit(X_public_preprocessed,y_public)"
   ]
  },
  {
   "cell_type": "markdown",
   "id": "db04b074",
   "metadata": {},
   "source": [
    "#### Question 16.e\n",
    "Prédisez les étiquettes de `X_private_preprocessed` ; enregistrez le résultat dans un array `y_pred_final`"
   ]
  },
  {
   "cell_type": "code",
   "execution_count": 87,
   "id": "b828088c",
   "metadata": {},
   "outputs": [],
   "source": [
    "y_pred_final=predict_forest_final.predict(X_private_preprocessed)"
   ]
  },
  {
   "cell_type": "markdown",
   "id": "d05b0666",
   "metadata": {},
   "source": [
    "#### Question 16.f\n",
    "Utilisez le code suivant pour créer le fichier de prédictions que vous rendrez. \n",
    "\n",
    "__Attention__ Si vous ouvrez ce fichier avec un programme externe type Microsoft Excel ou LibreOffice Calc pour le lire, il est possible que ce programme modifie le fichier sans que vous ne le réalisiez. Préférez utiliser une commande bash type `less` ou `cat` ou éditeur de texte simple ; ou alors assurez-vous de relancer la commande."
   ]
  },
  {
   "cell_type": "code",
   "execution_count": 88,
   "id": "29fa6161",
   "metadata": {},
   "outputs": [],
   "source": [
    "# Save array to file\n",
    "np.savetxt(\"test_file.tsv\", \n",
    "           y_pred_final,\n",
    "           fmt=('%d'), \n",
    "           header='Prediction',\n",
    "           delimiter='\\t', comments=\"\")"
   ]
  },
  {
   "cell_type": "markdown",
   "id": "f4fb36c5",
   "metadata": {},
   "source": [
    "## Bonus"
   ]
  },
  {
   "cell_type": "markdown",
   "id": "e4f7ff78",
   "metadata": {},
   "source": [
    "1. En alternative au F-score, utilisez des courbes ROC (et l'aire sous ces courbes) pour comparer vos modèles. Attention à utiliser les méthodes `predict_proba()` plutôt que `predict()` pour obtenir des scores non-seuillés plutôt que des prédictions binaires. Documentation pertinente : https://scikit-learn.org/stable/modules/generated/sklearn.metrics.plot_roc_curve.html et  https://scikit-learn.org/stable/modules/generated/sklearn.metrics.roc_auc_score.html.\n",
    "\n",
    "1. Explorez d'autres pré-traitements (comme par exemple le fait de réduire la dimension des données) et d'autres algorithmes d'apprentissage implémentés dans scikit-learn (par exemple SVM, perceptrons multi-couches) pour essayer d'améliorer vos prédictions et reprenez la question 15."
   ]
  },
  {
   "cell_type": "code",
   "execution_count": 127,
   "id": "99b5fd75",
   "metadata": {
    "scrolled": false
   },
   "outputs": [
    {
     "name": "stdout",
     "output_type": "stream",
     "text": [
      "Performance de KNN sur le set de test : 0.9066874027993779\n",
      "Performance de la régression Logistique sur le set de test : 0.7775947281713345\n",
      "Performance de la forêt aléatoire sur le set de test : 0.9419354838709678\n"
     ]
    }
   ],
   "source": [
    "#Pré-traitement : transformation minmax\n",
    "minmax_scaler = preprocessing.MinMaxScaler()\n",
    "minmax_scaler.fit(X_train)\n",
    "X_train_minmax = minmax_scaler.transform(X_train)\n",
    "X_test_minmax = minmax_scaler.transform(X_test)\n",
    "\n",
    "#KNN\n",
    "predictor_neigh_minmax = neighbors.KNeighborsClassifier()\n",
    "\n",
    "tuned_parameters = [{'n_neighbors': k_values}]\n",
    "nb_folds = 5\n",
    "grid_minmax_neigh = GridSearchCV(predictor_neigh_minmax, tuned_parameters, cv=nb_folds, refit=True, scoring=metrics.make_scorer(metrics.f1_score))\n",
    "grid_minmax_neigh.fit(X_train, y_train)\n",
    "\n",
    "neigh_minmax = grid_minmax_neigh.best_estimator_\n",
    "neigh_minmax.fit(X_train_minmax,y_train)\n",
    "f1_score_minmax_neigh = metrics.f1_score(y_test,neigh_minmax.predict(X_test_minmax))\n",
    "print(\"Performance de KNN sur le set de test : {}\".format(f1_score_minmax_neigh))\n",
    "\n",
    "#Regression Logistique pénalisée l2\n",
    "\n",
    "predictor_logreg_minmax = LogisticRegression(penalty='l2')\n",
    "tuned_parameters = [{'C': C_values}]\n",
    "nb_folds = 5\n",
    "grid_minmax_ridge = GridSearchCV(predictor_logreg_minmax, tuned_parameters, cv=nb_folds, refit=True, scoring=metrics.make_scorer(metrics.f1_score))\n",
    "grid_minmax_ridge.fit(X_train_minmax, y_train)\n",
    "\n",
    "logreg_minmax = grid_minmax_ridge.best_estimator_\n",
    "logreg_minmax.fit(X_train_minmax,y_train)\n",
    "f1_score_minmax_logreg = metrics.f1_score(y_test,logreg_minmax.predict(X_test_minmax))\n",
    "print(\"Performance de la régression Logistique sur le set de test : {}\".format(f1_score_minmax_logreg))\n",
    "\n",
    "#Forêt Aléatoire\n",
    "\n",
    "predictor_forest_minmax = RandomForestClassifier()\n",
    "n_values = np.arange(300, 800, 100)\n",
    "# define gridsearch\n",
    "tuned_parameters = [{'n_estimators': n_values}]\n",
    "nb_folds = 5\n",
    "grid_minmax_forest = GridSearchCV(predictor_forest_minmax, tuned_parameters, cv=nb_folds, refit=True, scoring=metrics.make_scorer(metrics.f1_score))\n",
    "grid_minmax_forest.fit(X_train_minmax, y_train)\n",
    "\n",
    "forest_minmax = grid_minmax_forest.best_estimator_\n",
    "forest_minmax.fit(X_train_minmax,y_train)\n",
    "f1_score_minmax_forest = metrics.f1_score(y_test,forest_minmax.predict(X_test_minmax))\n",
    "print(\"Performance de la forêt aléatoire sur le set de test : {}\".format(f1_score_minmax_forest))"
   ]
  },
  {
   "cell_type": "code",
   "execution_count": 128,
   "id": "dddc1c77",
   "metadata": {
    "scrolled": true
   },
   "outputs": [
    {
     "data": {
      "image/png": "[encoded data removed]",
      "text/plain": [
       "<Figure size 432x288 with 1 Axes>"
      ]
     },
     "metadata": {
      "needs_background": "light"
     },
     "output_type": "display_data"
    }
   ],
   "source": [
    "data = {'Neighbors initial':f1_5NN, 'Neighbors grid':f1_neigh_grid, 'Logistic Regression reg : none':f1_logreg_none,\n",
    "        'Logistic Regression reg : L2':f1_logreg_ridge, 'Random tree forest grid': f1_forest, \"Neighbors with MinMAx\" : f1_score_minmax_neigh,\n",
    "        \"Logistic Regresion MinMAx\" : f1_score_minmax_logreg, \"Forest MinMax\" : f1_score_minmax_forest}\n",
    "\n",
    "model = list(data.keys())\n",
    "f1_score = list(data.values())\n",
    "  \n",
    "\n",
    "plt.bar(model, f1_score,\n",
    "        width = 0.4)\n",
    "\n",
    "plt.ylabel(\"F1 score\")\n",
    "for index, value in enumerate(f1_score):\n",
    "    plt.text(index -0.05 , value+0.01, str(round(value*100,1))+\"%\", fontweight = 'bold')\n",
    "plt.xticks(rotation = 90)\n",
    "plt.title(\"Performance comparision\")\n",
    "plt.show()"
   ]
  },
  {
   "cell_type": "markdown",
   "id": "f81cc77b",
   "metadata": {},
   "source": [
    "Il semble donc qu'appliquer une transfromation minmax puis un algorithme de forêt alétoire conduirait à de meilleurs résultats"
   ]
  },
  {
   "cell_type": "markdown",
   "id": "16e6b302",
   "metadata": {},
   "source": [
    "Nous ne traitons pas la transformation Box-Cox car certaines valeurs sont négatives"
   ]
  },
  {
   "cell_type": "markdown",
   "id": "f850f6b9",
   "metadata": {},
   "source": [
    "Nous allons essayer de réduire la dimension :"
   ]
  },
  {
   "cell_type": "code",
   "execution_count": 107,
   "id": "686723df",
   "metadata": {},
   "outputs": [
    {
     "data": {
      "image/png": "[encoded data removed]",
      "text/plain": [
       "<Figure size 432x288 with 1 Axes>"
      ]
     },
     "metadata": {
      "needs_background": "light"
     },
     "output_type": "display_data"
    }
   ],
   "source": [
    "#Réduction de dimension :\n",
    "\n",
    "from sklearn import decomposition\n",
    "pca = decomposition.PCA(n_components=10)\n",
    "pca.fit(X_train)\n",
    "\n",
    "cumulative_pca = [0]\n",
    "for e in pca.explained_variance_ratio_ :\n",
    "    cumulative_pca.append(e+cumulative_pca[-1])\n",
    "    \n",
    "plt.plot(np.arange(11), cumulative_pca, marker='o')\n",
    "\n",
    "plt.xlabel(\"Nombre de composantes principales\")\n",
    "plt.ylabel(\"Proportion de variance expliquée\")\n",
    "plt.show()"
   ]
  },
  {
   "cell_type": "markdown",
   "id": "728d0e2e",
   "metadata": {},
   "source": [
    "On se rend compte qu'avec 3 composantes il est possible d'expliquer plus de 50% de la variance, et qu'avec 6 composantes on peut monter à 90% de la variance.\n",
    "\n",
    "Nous allons comparer les résultats obtenus en projettant sur les 6 premières composantes."
   ]
  },
  {
   "cell_type": "code",
   "execution_count": 138,
   "id": "735570d5",
   "metadata": {},
   "outputs": [],
   "source": [
    "pca1 = decomposition.PCA(n_components=6)\n",
    "pca1.fit(X_train)\n",
    "X_train_proj = pca1.transform(X_train)\n",
    "pca2 = decomposition.PCA(n_components=6)\n",
    "pca2.fit(X_train)\n",
    "X_test_proj = pca2.transform(X_test)"
   ]
  },
  {
   "cell_type": "code",
   "execution_count": 139,
   "id": "721492fb",
   "metadata": {},
   "outputs": [
    {
     "name": "stdout",
     "output_type": "stream",
     "text": [
      "Performance de KNN sur le set de test : 0.875968992248062\n",
      "Performance de la régression Logistique sur le set de test : 0.7440381558028617\n",
      "Performance de la forêt aléatoire sur le set de test : 0.882494004796163\n"
     ]
    }
   ],
   "source": [
    "#KNN\n",
    "predictor_neigh_proj = neighbors.KNeighborsClassifier()\n",
    "\n",
    "tuned_parameters = [{'n_neighbors': k_values}]\n",
    "nb_folds = 5\n",
    "grid_proj_neigh = GridSearchCV(predictor_neigh_proj, tuned_parameters, cv=nb_folds, refit=True, scoring=metrics.make_scorer(metrics.f1_score))\n",
    "grid_proj_neigh.fit(X_train_proj, y_train)\n",
    "\n",
    "neigh_proj = grid_proj_neigh.best_estimator_\n",
    "neigh_proj.fit(X_train_proj,y_train)\n",
    "f1_score_proj_neigh = metrics.f1_score(y_test,neigh_proj.predict(X_test_proj))\n",
    "print(\"Performance de KNN sur le set de test : {}\".format(f1_score_proj_neigh))\n",
    "\n",
    "#Regression Logistique pénalisée l2\n",
    "\n",
    "predictor_logreg_proj = LogisticRegression(penalty='l2')\n",
    "tuned_parameters = [{'C': C_values}]\n",
    "nb_folds = 5\n",
    "grid_proj_ridge = GridSearchCV(predictor_logreg_proj, tuned_parameters, cv=nb_folds, refit=True, scoring=metrics.make_scorer(metrics.f1_score))\n",
    "grid_proj_ridge.fit(X_train_proj, y_train)\n",
    "\n",
    "logreg_proj = grid_proj_ridge.best_estimator_\n",
    "logreg_proj.fit(X_train_proj,y_train)\n",
    "f1_score_proj_logreg = metrics.f1_score(y_test,logreg_proj.predict(X_test_proj))\n",
    "print(\"Performance de la régression Logistique sur le set de test : {}\".format(f1_score_proj_logreg))\n",
    "\n",
    "#Forêt Aléatoire\n",
    "\n",
    "predictor_forest_proj = RandomForestClassifier()\n",
    "n_values = np.arange(300, 800, 100)\n",
    "# define gridsearch\n",
    "tuned_parameters = [{'n_estimators': n_values}]\n",
    "nb_folds = 5\n",
    "grid_proj_forest = GridSearchCV(predictor_forest_proj, tuned_parameters, cv=nb_folds, refit=True, scoring=metrics.make_scorer(metrics.f1_score))\n",
    "grid_proj_forest.fit(X_train_proj, y_train)\n",
    "\n",
    "forest_proj = grid_proj_forest.best_estimator_\n",
    "forest_proj.fit(X_train_proj,y_train)\n",
    "f1_score_proj_forest = metrics.f1_score(y_test,forest_proj.predict(X_test_proj))\n",
    "print(\"Performance de la forêt aléatoire sur le set de test : {}\".format(f1_score_proj_forest))"
   ]
  },
  {
   "cell_type": "code",
   "execution_count": 140,
   "id": "3d27bed6",
   "metadata": {},
   "outputs": [
    {
     "data": {
      "image/png": "[encoded data removed]",
      "text/plain": [
       "<Figure size 432x288 with 1 Axes>"
      ]
     },
     "metadata": {
      "needs_background": "light"
     },
     "output_type": "display_data"
    }
   ],
   "source": [
    "data = {'Neighbors initial':f1_5NN, 'Neighbors grid':f1_neigh_grid, 'Logistic Regression reg : none':f1_logreg_none,\n",
    "        'Logistic Regression reg : L2':f1_logreg_ridge, 'Random tree forest grid': f1_forest, \"Neighbors with MinMAx\" : f1_score_minmax_neigh,\n",
    "        \"Logistic Regresion MinMAx\" : f1_score_minmax_logreg, \"Forest MinMax\" : f1_score_minmax_forest, \"Neighbors with PCA\" : f1_score_proj_neigh,\n",
    "        \"Logistic Regresion PCA\" : f1_score_proj_logreg, \"Forest PCA\" : f1_score_proj_forest}\n",
    "\n",
    "model = list(data.keys())\n",
    "f1_score = list(data.values())\n",
    "  \n",
    "\n",
    "plt.bar(model, f1_score,\n",
    "        width = 0.4)\n",
    "\n",
    "plt.ylabel(\"F1 score\")\n",
    "for index, value in enumerate(f1_score):\n",
    "    plt.text(index -0.05 , value+0.01, str(round(value*100,1))+\"%\", fontweight = 'bold')\n",
    "plt.xticks(rotation = 90)\n",
    "plt.title(\"Performance comparision\")\n",
    "plt.show()"
   ]
  },
  {
   "cell_type": "markdown",
   "id": "222c6a9e",
   "metadata": {},
   "source": [
    "Au vu de tous ces résultats, la meilleur méthode semble être celle d'un forêt aléatoire entrainée avec un jeu de données transformé par une transformation Min Max"
   ]
  }
 ],
 "metadata": {
  "kernelspec": {
   "display_name": "Python 3",
   "language": "python",
   "name": "python3"
  },
  "language_info": {
   "codemirror_mode": {
    "name": "ipython",
    "version": 3
   },
   "file_extension": ".py",
   "mimetype": "text/x-python",
   "name": "python",
   "nbconvert_exporter": "python",
   "pygments_lexer": "ipython3",
   "version": "3.8.3"
  }
 },
 "nbformat": 4,
 "nbformat_minor": 5
}
