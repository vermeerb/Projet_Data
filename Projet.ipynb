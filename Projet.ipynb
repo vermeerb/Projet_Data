{
 "cells": [
  {
   "cell_type": "markdown",
   "id": "671eb033",
   "metadata": {},
   "source": [
    "# Projet numérique de science des données - Bonhomme Vermeer et Rigaut Gaétan"
   ]
  },
  {
   "cell_type": "markdown",
   "id": "8d3f3df8",
   "metadata": {},
   "source": [
    "## Introduction au projet\n",
    "\n",
    "Il s'agit dans ce projet d'utiliser des données cartographiques décrivant des carrées de 30m x 30m pour construire un modèle prédictif de l'espèce d'arbre présente sur un tel carré.\n",
    "\n",
    "Le but final est d'appliquer ce modèle pour faire des prédictions pour des données pour lesquelles vous ne disposez pas d'une étiquette.\n",
    "\n",
    "__Consignes :__ \n",
    "* Vous devez rendre, par binôme :\n",
    "    * un notebook jupyter\n",
    "    * un fichier de prédictions (voir plus bas pour le format)\n",
    "* __Renseignez vos noms/prénoms__ dans le titre du notebook\n",
    "* Vous avez jusqu'au __1er juillet midi heure de Paris__\n",
    "* Déposez vos fichiers [sur Campus](https://campus.mines-paristech.fr/course/view.php?id=404) dans la section dédiée (un seul rendu par binôme est nécessaire)\n",
    "\n",
    "\n",
    "__Déroulé :__\n",
    "* Les séances du lundi 14/06 (15h30-17h) et jeudi 24/06 (15h30-17h) sont dédiées au projet numérique. Faites-en bon usage.\n",
    "* Certaines sections font appel à des notions qui n'auront pas encore été vues le 14/06 ; c'est indiqué le cas échéant."
   ]
  },
  {
   "cell_type": "markdown",
   "id": "aff00f81",
   "metadata": {},
   "source": [
    "## Données"
   ]
  },
  {
   "cell_type": "markdown",
   "id": "5f7f977c",
   "metadata": {},
   "source": [
    "### Données publiques et privées\n",
    "\n",
    "Le dossier `data/` contient deux jeux de données :\n",
    "* `data/foret_public.tsv` contient les données étiquetées, à partir desquelles construire votre modèle\n",
    "* `data/foret_prive.tsv` contient les données non-étiquetées, pour lesquelles faire vos prédictions.\n",
    "\n",
    "Chaque ligne dans les données correspond à un carré de 30 m x 30m, décrit par les variables suivantes :\n",
    "* `altitude` : altitude en mètres\n",
    "* `exposition` : azimut en degrés \n",
    "* `pente` : pente en degrés\n",
    "* `distance_horizontale_hydro` : distance horizontale au point d'eau le plus proche (en mètres)\n",
    "* `distance_verticale_hydro` : distance verticale au point d'eau le plus proche (en mètres)\n",
    "* `distance_horizontale_route` : distance horizontale à la route la plus proche (en mètres)\n",
    "* `ombrage_0900` : index d'ombrages à 9h du matin, au solstice, sur une échelle de 0 à 255\n",
    "* `ombrage_1200` : index d'ombrages à midi, au solstice, sur une échelle de 0 à 255\n",
    "* `ombrage_1500` : index d'ombrages à 15h, au solstice, sur une échelle de 0 à 255\n",
    "* `distance_horizontale_depart_feu` : distance horizontale au départ de feu de forêt le plus proche (en mètres)\n",
    "* `espece` : étiquette : espèce d'arbre présente (0 = pin tordu ; 1 = peuplier)|"
   ]
  },
  {
   "cell_type": "markdown",
   "id": "8ea2ef8d",
   "metadata": {},
   "source": [
    "### Chargement des données étiquetées"
   ]
  },
  {
   "cell_type": "code",
   "execution_count": 3,
   "id": "52a33fd1",
   "metadata": {},
   "outputs": [
    {
     "name": "stdout",
     "output_type": "stream",
     "text": [
      "Populating the interactive namespace from numpy and matplotlib\n"
     ]
    }
   ],
   "source": [
    "%pylab inline"
   ]
  },
  {
   "cell_type": "code",
   "execution_count": 4,
   "id": "d1b5dc19",
   "metadata": {},
   "outputs": [],
   "source": [
    "import pandas as pd"
   ]
  },
  {
   "cell_type": "code",
   "execution_count": 5,
   "id": "a3b091ac",
   "metadata": {},
   "outputs": [],
   "source": [
    "df_public = pd.read_csv('data/foret_public.tsv', delimiter='\\t')"
   ]
  },
  {
   "cell_type": "code",
   "execution_count": 6,
   "id": "27bf1801",
   "metadata": {},
   "outputs": [
    {
     "data": {
      "text/html": [
       "<div>\n",
       "<style scoped>\n",
       "    .dataframe tbody tr th:only-of-type {\n",
       "        vertical-align: middle;\n",
       "    }\n",
       "\n",
       "    .dataframe tbody tr th {\n",
       "        vertical-align: top;\n",
       "    }\n",
       "\n",
       "    .dataframe thead th {\n",
       "        text-align: right;\n",
       "    }\n",
       "</style>\n",
       "<table border=\"1\" class=\"dataframe\">\n",
       "  <thead>\n",
       "    <tr style=\"text-align: right;\">\n",
       "      <th></th>\n",
       "      <th>altitude</th>\n",
       "      <th>exposition</th>\n",
       "      <th>pente</th>\n",
       "      <th>distance_horizontale_hydro</th>\n",
       "      <th>distance_verticale_hydro</th>\n",
       "      <th>distance_horizontale_route</th>\n",
       "      <th>ombrage_0900</th>\n",
       "      <th>ombrage_1200</th>\n",
       "      <th>ombrage_1500</th>\n",
       "      <th>distance_horizontale_depart_feu</th>\n",
       "      <th>espece</th>\n",
       "    </tr>\n",
       "  </thead>\n",
       "  <tbody>\n",
       "    <tr>\n",
       "      <th>0</th>\n",
       "      <td>2804</td>\n",
       "      <td>139</td>\n",
       "      <td>9</td>\n",
       "      <td>268</td>\n",
       "      <td>65</td>\n",
       "      <td>3180</td>\n",
       "      <td>234</td>\n",
       "      <td>238</td>\n",
       "      <td>135</td>\n",
       "      <td>6121</td>\n",
       "      <td>0</td>\n",
       "    </tr>\n",
       "    <tr>\n",
       "      <th>1</th>\n",
       "      <td>2785</td>\n",
       "      <td>155</td>\n",
       "      <td>18</td>\n",
       "      <td>242</td>\n",
       "      <td>118</td>\n",
       "      <td>3090</td>\n",
       "      <td>238</td>\n",
       "      <td>238</td>\n",
       "      <td>122</td>\n",
       "      <td>6211</td>\n",
       "      <td>0</td>\n",
       "    </tr>\n",
       "    <tr>\n",
       "      <th>2</th>\n",
       "      <td>2579</td>\n",
       "      <td>132</td>\n",
       "      <td>6</td>\n",
       "      <td>300</td>\n",
       "      <td>-15</td>\n",
       "      <td>67</td>\n",
       "      <td>230</td>\n",
       "      <td>237</td>\n",
       "      <td>140</td>\n",
       "      <td>6031</td>\n",
       "      <td>0</td>\n",
       "    </tr>\n",
       "    <tr>\n",
       "      <th>3</th>\n",
       "      <td>2886</td>\n",
       "      <td>151</td>\n",
       "      <td>11</td>\n",
       "      <td>371</td>\n",
       "      <td>26</td>\n",
       "      <td>5253</td>\n",
       "      <td>234</td>\n",
       "      <td>240</td>\n",
       "      <td>136</td>\n",
       "      <td>4051</td>\n",
       "      <td>0</td>\n",
       "    </tr>\n",
       "    <tr>\n",
       "      <th>4</th>\n",
       "      <td>2742</td>\n",
       "      <td>134</td>\n",
       "      <td>22</td>\n",
       "      <td>150</td>\n",
       "      <td>69</td>\n",
       "      <td>3215</td>\n",
       "      <td>248</td>\n",
       "      <td>224</td>\n",
       "      <td>92</td>\n",
       "      <td>6091</td>\n",
       "      <td>0</td>\n",
       "    </tr>\n",
       "    <tr>\n",
       "      <th>...</th>\n",
       "      <td>...</td>\n",
       "      <td>...</td>\n",
       "      <td>...</td>\n",
       "      <td>...</td>\n",
       "      <td>...</td>\n",
       "      <td>...</td>\n",
       "      <td>...</td>\n",
       "      <td>...</td>\n",
       "      <td>...</td>\n",
       "      <td>...</td>\n",
       "      <td>...</td>\n",
       "    </tr>\n",
       "    <tr>\n",
       "      <th>5995</th>\n",
       "      <td>2935</td>\n",
       "      <td>41</td>\n",
       "      <td>13</td>\n",
       "      <td>42</td>\n",
       "      <td>9</td>\n",
       "      <td>4692</td>\n",
       "      <td>221</td>\n",
       "      <td>211</td>\n",
       "      <td>123</td>\n",
       "      <td>2080</td>\n",
       "      <td>1</td>\n",
       "    </tr>\n",
       "    <tr>\n",
       "      <th>5996</th>\n",
       "      <td>2931</td>\n",
       "      <td>17</td>\n",
       "      <td>9</td>\n",
       "      <td>30</td>\n",
       "      <td>5</td>\n",
       "      <td>4722</td>\n",
       "      <td>213</td>\n",
       "      <td>221</td>\n",
       "      <td>145</td>\n",
       "      <td>2064</td>\n",
       "      <td>1</td>\n",
       "    </tr>\n",
       "    <tr>\n",
       "      <th>5997</th>\n",
       "      <td>2932</td>\n",
       "      <td>323</td>\n",
       "      <td>7</td>\n",
       "      <td>0</td>\n",
       "      <td>0</td>\n",
       "      <td>4752</td>\n",
       "      <td>202</td>\n",
       "      <td>233</td>\n",
       "      <td>170</td>\n",
       "      <td>2048</td>\n",
       "      <td>1</td>\n",
       "    </tr>\n",
       "    <tr>\n",
       "      <th>5998</th>\n",
       "      <td>2935</td>\n",
       "      <td>294</td>\n",
       "      <td>6</td>\n",
       "      <td>0</td>\n",
       "      <td>0</td>\n",
       "      <td>4782</td>\n",
       "      <td>202</td>\n",
       "      <td>239</td>\n",
       "      <td>176</td>\n",
       "      <td>2032</td>\n",
       "      <td>1</td>\n",
       "    </tr>\n",
       "    <tr>\n",
       "      <th>5999</th>\n",
       "      <td>2937</td>\n",
       "      <td>281</td>\n",
       "      <td>8</td>\n",
       "      <td>30</td>\n",
       "      <td>2</td>\n",
       "      <td>4811</td>\n",
       "      <td>197</td>\n",
       "      <td>241</td>\n",
       "      <td>184</td>\n",
       "      <td>2017</td>\n",
       "      <td>1</td>\n",
       "    </tr>\n",
       "  </tbody>\n",
       "</table>\n",
       "<p>6000 rows × 11 columns</p>\n",
       "</div>"
      ],
      "text/plain": [
       "      altitude  exposition  pente  distance_horizontale_hydro  \\\n",
       "0         2804         139      9                         268   \n",
       "1         2785         155     18                         242   \n",
       "2         2579         132      6                         300   \n",
       "3         2886         151     11                         371   \n",
       "4         2742         134     22                         150   \n",
       "...        ...         ...    ...                         ...   \n",
       "5995      2935          41     13                          42   \n",
       "5996      2931          17      9                          30   \n",
       "5997      2932         323      7                           0   \n",
       "5998      2935         294      6                           0   \n",
       "5999      2937         281      8                          30   \n",
       "\n",
       "      distance_verticale_hydro  distance_horizontale_route  ombrage_0900  \\\n",
       "0                           65                        3180           234   \n",
       "1                          118                        3090           238   \n",
       "2                          -15                          67           230   \n",
       "3                           26                        5253           234   \n",
       "4                           69                        3215           248   \n",
       "...                        ...                         ...           ...   \n",
       "5995                         9                        4692           221   \n",
       "5996                         5                        4722           213   \n",
       "5997                         0                        4752           202   \n",
       "5998                         0                        4782           202   \n",
       "5999                         2                        4811           197   \n",
       "\n",
       "      ombrage_1200  ombrage_1500  distance_horizontale_depart_feu  espece  \n",
       "0              238           135                             6121       0  \n",
       "1              238           122                             6211       0  \n",
       "2              237           140                             6031       0  \n",
       "3              240           136                             4051       0  \n",
       "4              224            92                             6091       0  \n",
       "...            ...           ...                              ...     ...  \n",
       "5995           211           123                             2080       1  \n",
       "5996           221           145                             2064       1  \n",
       "5997           233           170                             2048       1  \n",
       "5998           239           176                             2032       1  \n",
       "5999           241           184                             2017       1  \n",
       "\n",
       "[6000 rows x 11 columns]"
      ]
     },
     "execution_count": 6,
     "metadata": {},
     "output_type": "execute_result"
    }
   ],
   "source": [
    "df_public"
   ]
  },
  {
   "cell_type": "markdown",
   "id": "c5b76691",
   "metadata": {},
   "source": [
    "### Extraction de la matrice de design et des étiquettes "
   ]
  },
  {
   "cell_type": "code",
   "execution_count": 7,
   "id": "adf51559",
   "metadata": {},
   "outputs": [],
   "source": [
    "X_public = np.array(df_public.drop(columns=[\"espece\"]))\n",
    "y_public = np.array(df_public[\"espece\"])"
   ]
  },
  {
   "cell_type": "markdown",
   "id": "b572e5bc",
   "metadata": {},
   "source": [
    "### Visualisation des variables\n",
    "\n",
    "#### Question 1\n",
    "Visualisez chacune des variables de `X_public` sous la forme de deux histogrammes superposés, l'un correspondant aux observations de la classe positive, l'autre correspondant aux observations de la classe négative.\n",
    "\n",
    "__Conseils :__\n",
    "* utilisez `pos_indices = np.where(y_public==1)[0]` pour déterminer les indices des lignes de `y_public` (et donc dans `X_public`) dont l'étiquette vaut 0.\n",
    "* utilisez l'argument `alpha` de `plt.hist` pour rendre vos histogrammes transparents."
   ]
  },
  {
   "cell_type": "code",
   "execution_count": 8,
   "id": "b3ff302a",
   "metadata": {},
   "outputs": [
    {
     "data": {
      "image/png": "[encoded data removed]",
      "text/plain": [
       "<Figure size 432x288 with 1 Axes>"
      ]
     },
     "metadata": {
      "needs_background": "light"
     },
     "output_type": "display_data"
    },
    {
     "data": {
      "image/png": "[encoded data removed]",
      "text/plain": [
       "<Figure size 432x288 with 1 Axes>"
      ]
     },
     "metadata": {
      "needs_background": "light"
     },
     "output_type": "display_data"
    },
    {
     "data": {
      "image/png": "[encoded data removed]",
      "text/plain": [
       "<Figure size 432x288 with 1 Axes>"
      ]
     },
     "metadata": {
      "needs_background": "light"
     },
     "output_type": "display_data"
    },
    {
     "data": {
      "image/png": "[encoded data removed]",
      "text/plain": [
       "<Figure size 432x288 with 1 Axes>"
      ]
     },
     "metadata": {
      "needs_background": "light"
     },
     "output_type": "display_data"
    },
    {
     "data": {
      "image/png": "[encoded data removed]",
      "text/plain": [
       "<Figure size 432x288 with 1 Axes>"
      ]
     },
     "metadata": {
      "needs_background": "light"
     },
     "output_type": "display_data"
    },
    {
     "data": {
      "image/png": "[encoded data removed]",
      "text/plain": [
       "<Figure size 432x288 with 1 Axes>"
      ]
     },
     "metadata": {
      "needs_background": "light"
     },
     "output_type": "display_data"
    },
    {
     "data": {
      "image/png": "[encoded data removed]",
      "text/plain": [
       "<Figure size 432x288 with 1 Axes>"
      ]
     },
     "metadata": {
      "needs_background": "light"
     },
     "output_type": "display_data"
    },
    {
     "data": {
      "image/png": "[encoded data removed]",
      "text/plain": [
       "<Figure size 432x288 with 1 Axes>"
      ]
     },
     "metadata": {
      "needs_background": "light"
     },
     "output_type": "display_data"
    },
    {
     "data": {
      "image/png": "[encoded data removed]",
      "text/plain": [
       "<Figure size 432x288 with 1 Axes>"
      ]
     },
     "metadata": {
      "needs_background": "light"
     },
     "output_type": "display_data"
    },
    {
     "data": {
      "image/png": "[encoded data removed]",
      "text/plain": [
       "<Figure size 432x288 with 1 Axes>"
      ]
     },
     "metadata": {
      "needs_background": "light"
     },
     "output_type": "display_data"
    }
   ],
   "source": [
    "pos_indices = np.where(y_public==1)[0]\n",
    "pos_indices_2 = np.where(y_public==0)[0]\n",
    "for i in range(10) :\n",
    "    plt.hist([e[i] for e in X_public[pos_indices]],alpha=0.8)\n",
    "    plt.hist([e[i] for e in X_public[pos_indices_2]],alpha = 0.8)\n",
    "    plt.title(df_public.columns.values[i])\n",
    "    plt.legend(['Peuplier','Pin Tordu'])\n",
    "    plt.show()"
   ]
  },
  {
   "cell_type": "markdown",
   "id": "d988c710",
   "metadata": {},
   "source": [
    "#### Question 2\n",
    "Pensez-vous qu'il va être aisé de distinguer les deux classes ?"
   ]
  },
  {
   "cell_type": "markdown",
   "id": "42f232b0",
   "metadata": {},
   "source": [
    "Non car beaucoup de variables ont les mêmes profils d'histogrammes"
   ]
  },
  {
   "cell_type": "markdown",
   "id": "0daa7464",
   "metadata": {},
   "source": [
    "### Pré-traitement des variables"
   ]
  },
  {
   "cell_type": "markdown",
   "id": "ef1b7b86",
   "metadata": {},
   "source": [
    "#### Question 3\n",
    "Transformez vos variables d'une manière qui vous parait judicieuse, en vous appuyant notamment sur la PC 3. Vous pouvez essayer différents pré-traitements, mais ce n'est pas nécessaire. \n",
    "\n",
    "Utilisez un array numpy `X_public_preprocessed` pour enregistrer le résultat."
   ]
  },
  {
   "cell_type": "markdown",
   "id": "573d4018",
   "metadata": {},
   "source": [
    "Nous choisissons de centrer réduire les valeurs, pour ne pas que leurs différents ordres de grandeurs n'influent sur les algorithme de classification qu enous allons utiliser"
   ]
  },
  {
   "cell_type": "code",
   "execution_count": 9,
   "id": "8400308f",
   "metadata": {},
   "outputs": [],
   "source": [
    "from sklearn import preprocessing\n",
    "standard_scaler = preprocessing.StandardScaler()\n",
    "standard_scaler.fit(X_public)\n",
    "X_public_preprocessed = standard_scaler.transform(X_public)"
   ]
  },
  {
   "cell_type": "markdown",
   "id": "4e6b4e9e",
   "metadata": {},
   "source": [
    "## Premier modèle : 5-NN"
   ]
  },
  {
   "cell_type": "markdown",
   "id": "44f299ca",
   "metadata": {},
   "source": [
    "### Algorithme des k plus proches voisins"
   ]
  },
  {
   "cell_type": "markdown",
   "id": "52e095a7",
   "metadata": {},
   "source": [
    "Nous n'avons pas encore vu d'algorithme permettant d'entraîner un modèle de classification. Nous allons donc commencer avec un modèle simple : celui des __k plus proches voisins__ (ou __kNN__, pour _k nearest neighbors_).\n",
    "\n",
    "Dans ce modèle, la valeur de la fonction de décision en x est la proportion d'individus d'étiquette positive parmi les k plus proches voisins de x au sein des points du jeu d'entraînement ; k est fixé."
   ]
  },
  {
   "cell_type": "markdown",
   "id": "0c9640ff",
   "metadata": {},
   "source": [
    "Nous allons commencer par utiliser un algorithme des k plus proches voisins avec k fixé à k=5."
   ]
  },
  {
   "cell_type": "markdown",
   "id": "c09214ad",
   "metadata": {},
   "source": [
    "#### Question 4\n",
    "\n",
    "Entraînez un modèle des sur les données `(X_public_preprocessed, y_public)` grâce à la classe `KNeighborsClassifier` du module `neighbors` de `sklearn`, utilisez l'algorithme des 5 plus proches voisins pour entrainer un modèle sur votre jeu d'entraînement.\n",
    "\n",
    "Documentation https://scikit-learn.org/stable/modules/generated/sklearn.neighbors.KNeighborsClassifier.html"
   ]
  },
  {
   "cell_type": "code",
   "execution_count": 10,
   "id": "ffe966ad",
   "metadata": {},
   "outputs": [],
   "source": [
    "from sklearn import neighbors"
   ]
  },
  {
   "cell_type": "code",
   "execution_count": 11,
   "id": "19914bc5",
   "metadata": {},
   "outputs": [],
   "source": [
    "predictor_neigh = neighbors.KNeighborsClassifier(n_neighbors=5)\n",
    "predictor_neigh.fit(X_public_preprocessed, y_public)\n",
    "\n",
    "y_pred_neigh = predictor_neigh.predict(X_public_preprocessed)"
   ]
  },
  {
   "cell_type": "markdown",
   "id": "6da79088",
   "metadata": {},
   "source": [
    "### Performance\n",
    "\n",
    "Il existe de nombreuses métriques pour évaluer les performances d'un algorithme de classification. Nous allons ici utiliser le F-score, dont vous trouverez une description dans la documentation du module `metrics` de `sklearn` : https://scikit-learn.org/stable/modules/generated/sklearn.metrics.f1_score.html#sklearn.metrics.f1_score et https://scikit-learn.org/stable/modules/model_evaluation.html#precision-recall-f-measure-metrics.\n",
    "\n",
    "#### Question 5\n",
    "Quel serait sur nos données le F-score d'un modèle naïf prédisant systématiquement la classe positive ?"
   ]
  },
  {
   "cell_type": "code",
   "execution_count": 12,
   "id": "60b6d79a",
   "metadata": {},
   "outputs": [
    {
     "name": "stdout",
     "output_type": "stream",
     "text": [
      "performances sur un modèle naïf : 0.6666666666666666\n"
     ]
    }
   ],
   "source": [
    "from sklearn import metrics\n",
    "print(\"performances sur un modèle naïf : {}\".format(metrics.f1_score(y_public,np.ones((len(y_public))))))"
   ]
  },
  {
   "cell_type": "markdown",
   "id": "ad88d157",
   "metadata": {},
   "source": [
    "En effet : \n",
    "    \n",
    "    Précision = 0.5\n",
    "    Rappel = 1\n",
    "    F = 2*(Précision*Rappel)/(Précision+Rappel) = 2/3\n",
    "    "
   ]
  },
  {
   "cell_type": "markdown",
   "id": "c6f4d13b",
   "metadata": {},
   "source": [
    "#### Question 6\n",
    "\n",
    "Quelle est le F-score du modèle de 5 plus proches voisins que vous venez d'entraîner, sur les données `(X_public_preprocessed, y_public)` ?"
   ]
  },
  {
   "cell_type": "code",
   "execution_count": 13,
   "id": "108506f0",
   "metadata": {},
   "outputs": [
    {
     "name": "stdout",
     "output_type": "stream",
     "text": [
      "performances sur le set complet : 0.9290079924776682\n"
     ]
    }
   ],
   "source": [
    "f1_5NN = metrics.f1_score(y_public,y_pred_neigh)\n",
    "print(\"performances sur le set complet : {}\".format(f1_5NN))"
   ]
  },
  {
   "cell_type": "markdown",
   "id": "9dcd8cb8",
   "metadata": {},
   "source": [
    "#### Question 7\n",
    "* Que pensez-vous de cette performance ? \n",
    "* Est-ce une bonne idée d'évaluer le modèle sur le jeu d'entraînement ? (Réfléchissez en particulier au cas où k=1.)"
   ]
  },
  {
   "cell_type": "markdown",
   "id": "bb3fdf16",
   "metadata": {},
   "source": [
    "C'est un résultat satisfaisant. Cependant, on vient de tester la prédiction sur les données qui ont servi a créer le modèle, donc le score obtenu n'est pas représentatif de la performance du modèle. Il y a en effet un risque de surapprentissage : si k=1, on prend exactement l'étiquette du point. Ainsi, on n'obtient jamais d'erreur mais en réalité c'est uniquement de \"l'apprentissage par coeur\"."
   ]
  },
  {
   "cell_type": "markdown",
   "id": "519b1524",
   "metadata": {},
   "source": [
    "## Création d'un jeu de test\n",
    "\n",
    "À partir de maintenant, nous allons séparer les données en un jeu d'entraînement, que nous utiliserons pour entraîner différents modèles, et un jeu de test, que nous utiliserons pour les comparer. (Cf CM 8)."
   ]
  },
  {
   "cell_type": "code",
   "execution_count": 14,
   "id": "f270b61c",
   "metadata": {},
   "outputs": [],
   "source": [
    "from sklearn import model_selection"
   ]
  },
  {
   "cell_type": "code",
   "execution_count": 15,
   "id": "af4c6f37",
   "metadata": {},
   "outputs": [
    {
     "data": {
      "text/plain": [
       "((4800, 10), (1200, 10))"
      ]
     },
     "execution_count": 15,
     "metadata": {},
     "output_type": "execute_result"
    }
   ],
   "source": [
    "# Use 20% for testing\n",
    "X_train_public, X_test_public, y_train, y_test = model_selection.train_test_split(X_public, y_public, test_size=0.20,\n",
    "                                                                    stratify=y_public,\n",
    "                                                                    random_state=42) \n",
    "#On centre-réduit les valeurs\n",
    "\n",
    "standard_scaler_train = preprocessing.StandardScaler()\n",
    "standard_scaler_train.fit(X_train_public)\n",
    "X_train = standard_scaler_train.transform(X_train_public)\n",
    "\n",
    "standard_scaler_test = preprocessing.StandardScaler()\n",
    "standard_scaler_test.fit(X_test_public)\n",
    "X_test = standard_scaler_test.transform(X_test_public)\n",
    "\n",
    "X_train.shape, X_test.shape"
   ]
  },
  {
   "cell_type": "markdown",
   "id": "ef515a3b",
   "metadata": {},
   "source": [
    "### Performance sur le jeu de test d'un 5-NN entraîné sur le jeu d'entrainement"
   ]
  },
  {
   "cell_type": "markdown",
   "id": "320e6f8b",
   "metadata": {},
   "source": [
    "#### Question 8.a \n",
    "\n",
    "Entrainez de nouveau un modèle avec l'algorithme des 5 plus proches voisins, mais cette fois, utilisez uniquement le jeu d'entraînement. __Attention__ à bien « entraîner » votre pre-processing sur le jeu d'entraînement seulement ; considérez le jeu de test comme des données que vous ne voyez pas au moment de l'entraînement."
   ]
  },
  {
   "cell_type": "code",
   "execution_count": 16,
   "id": "287e250c",
   "metadata": {},
   "outputs": [
    {
     "data": {
      "text/plain": [
       "KNeighborsClassifier()"
      ]
     },
     "execution_count": 16,
     "metadata": {},
     "output_type": "execute_result"
    }
   ],
   "source": [
    "predictor_neigh_sep = neighbors.KNeighborsClassifier(n_neighbors=5)\n",
    "predictor_neigh_sep.fit(X_train,y_train)"
   ]
  },
  {
   "cell_type": "markdown",
   "id": "bc9d421a",
   "metadata": {},
   "source": [
    "#### Question 8.b\n",
    "Évaluez le F-score sur le jeu de test du modèle entraîné à la question précédente."
   ]
  },
  {
   "cell_type": "code",
   "execution_count": 17,
   "id": "fd1b1b68",
   "metadata": {},
   "outputs": [
    {
     "name": "stdout",
     "output_type": "stream",
     "text": [
      "performances sur le set de test : 0.9019908116385911\n"
     ]
    }
   ],
   "source": [
    "y_pred_5NN = predictor_neigh_sep.predict(X_test)\n",
    "print(\"performances sur le set de test : {}\".format(metrics.f1_score(y_test, y_pred_5NN)))"
   ]
  },
  {
   "cell_type": "markdown",
   "id": "4a422417",
   "metadata": {},
   "source": [
    "#### Question 9\n",
    "Commentez le F-score obtenu ci-dessus."
   ]
  },
  {
   "cell_type": "markdown",
   "id": "24e307ea",
   "metadata": {},
   "source": [
    "Il est du même ordre que celui obtenu auparavant, mais il est plus 'significatif', on sait que l'algorithme a de telles performances sur des données qu'il n'a jamais vu.\n",
    "\n",
    "Cette fois nous pouvons tester la prédiction avec k=1 :"
   ]
  },
  {
   "cell_type": "code",
   "execution_count": 18,
   "id": "249e8ae7",
   "metadata": {},
   "outputs": [
    {
     "name": "stdout",
     "output_type": "stream",
     "text": [
      "performances sur le set de test : 0.9132492113564669\n"
     ]
    }
   ],
   "source": [
    "predictor_neigh_sep_Q9 = neighbors.KNeighborsClassifier(n_neighbors=1)\n",
    "predictor_neigh_sep_Q9.fit(X_train,y_train)\n",
    "y_pred_5NN_Q9 = predictor_neigh_sep_Q9.predict(X_test)\n",
    "print(\"performances sur le set de test : {}\".format(metrics.f1_score(y_test, y_pred_5NN_Q9)))"
   ]
  },
  {
   "cell_type": "markdown",
   "id": "2443745f",
   "metadata": {},
   "source": [
    "Cette fois-ci la prédiction n'est pas parfaite. Et le test est prend du sens car cette fois l'algorithme n'a \"jamais vu\" les données avec lesquelle il est testé."
   ]
  },
  {
   "cell_type": "markdown",
   "id": "6cb037a6",
   "metadata": {},
   "source": [
    "## [À partir du CM 8 / de la PC 4] Sélection du nombre de plus proches voisins"
   ]
  },
  {
   "cell_type": "markdown",
   "id": "51b1c7dd",
   "metadata": {},
   "source": [
    "#### Question 10.a \n",
    "Utilisez maintenant une validation croisée pour sélectionner la valeur optimale du nombre de voisins avec `GridSearchCV` (voir notamment PC4). \n",
    "\n",
    "Vous pouvez utiliser la grille de valeurs de k suivante, ou la modifier :"
   ]
  },
  {
   "cell_type": "code",
   "execution_count": 19,
   "id": "a3dcf558",
   "metadata": {},
   "outputs": [],
   "source": [
    "k_values = np.arange(3,32, step=2)"
   ]
  },
  {
   "cell_type": "code",
   "execution_count": 20,
   "id": "e7d568e8",
   "metadata": {},
   "outputs": [
    {
     "data": {
      "text/plain": [
       "GridSearchCV(cv=5, estimator=KNeighborsClassifier(),\n",
       "             param_grid=[{'n_neighbors': array([ 3,  5,  7,  9, 11, 13, 15, 17, 19, 21, 23, 25, 27, 29, 31])}],\n",
       "             scoring=make_scorer(f1_score))"
      ]
     },
     "execution_count": 20,
     "metadata": {},
     "output_type": "execute_result"
    }
   ],
   "source": [
    "from sklearn.model_selection import GridSearchCV\n",
    "\n",
    "predictor_neigh_grid = neighbors.KNeighborsClassifier()\n",
    "\n",
    "# define gridsearch\n",
    "tuned_parameters = [{'n_neighbors': k_values}]\n",
    "nb_folds = 5\n",
    "grid = GridSearchCV(predictor_neigh_grid, tuned_parameters, cv=nb_folds, refit=True, scoring=metrics.make_scorer(metrics.f1_score))\n",
    "grid.fit(X_train, y_train)\n"
   ]
  },
  {
   "cell_type": "markdown",
   "id": "5d0ed8b7",
   "metadata": {},
   "source": [
    "#### Question 10.b\n",
    "Quel est le F-score correspondant au nombre de voisin optimal ?"
   ]
  },
  {
   "cell_type": "code",
   "execution_count": 21,
   "id": "772fcd5f",
   "metadata": {},
   "outputs": [
    {
     "data": {
      "text/html": [
       "<div>\n",
       "<style scoped>\n",
       "    .dataframe tbody tr th:only-of-type {\n",
       "        vertical-align: middle;\n",
       "    }\n",
       "\n",
       "    .dataframe tbody tr th {\n",
       "        vertical-align: top;\n",
       "    }\n",
       "\n",
       "    .dataframe thead th {\n",
       "        text-align: right;\n",
       "    }\n",
       "</style>\n",
       "<table border=\"1\" class=\"dataframe\">\n",
       "  <thead>\n",
       "    <tr style=\"text-align: right;\">\n",
       "      <th></th>\n",
       "      <th>mean_fit_time</th>\n",
       "      <th>std_fit_time</th>\n",
       "      <th>mean_score_time</th>\n",
       "      <th>std_score_time</th>\n",
       "      <th>param_n_neighbors</th>\n",
       "      <th>params</th>\n",
       "      <th>split0_test_score</th>\n",
       "      <th>split1_test_score</th>\n",
       "      <th>split2_test_score</th>\n",
       "      <th>split3_test_score</th>\n",
       "      <th>split4_test_score</th>\n",
       "      <th>mean_test_score</th>\n",
       "      <th>std_test_score</th>\n",
       "      <th>rank_test_score</th>\n",
       "    </tr>\n",
       "  </thead>\n",
       "  <tbody>\n",
       "    <tr>\n",
       "      <th>0</th>\n",
       "      <td>0.016387</td>\n",
       "      <td>0.003748</td>\n",
       "      <td>0.135719</td>\n",
       "      <td>0.045351</td>\n",
       "      <td>3</td>\n",
       "      <td>{'n_neighbors': 3}</td>\n",
       "      <td>0.897881</td>\n",
       "      <td>0.901163</td>\n",
       "      <td>0.889952</td>\n",
       "      <td>0.883412</td>\n",
       "      <td>0.908913</td>\n",
       "      <td>0.896264</td>\n",
       "      <td>0.008850</td>\n",
       "      <td>1</td>\n",
       "    </tr>\n",
       "    <tr>\n",
       "      <th>1</th>\n",
       "      <td>0.016579</td>\n",
       "      <td>0.001349</td>\n",
       "      <td>0.142767</td>\n",
       "      <td>0.035339</td>\n",
       "      <td>5</td>\n",
       "      <td>{'n_neighbors': 5}</td>\n",
       "      <td>0.892754</td>\n",
       "      <td>0.892514</td>\n",
       "      <td>0.886124</td>\n",
       "      <td>0.871843</td>\n",
       "      <td>0.894027</td>\n",
       "      <td>0.887452</td>\n",
       "      <td>0.008275</td>\n",
       "      <td>2</td>\n",
       "    </tr>\n",
       "    <tr>\n",
       "      <th>2</th>\n",
       "      <td>0.017279</td>\n",
       "      <td>0.000584</td>\n",
       "      <td>0.119758</td>\n",
       "      <td>0.010164</td>\n",
       "      <td>7</td>\n",
       "      <td>{'n_neighbors': 7}</td>\n",
       "      <td>0.888676</td>\n",
       "      <td>0.886990</td>\n",
       "      <td>0.879392</td>\n",
       "      <td>0.860315</td>\n",
       "      <td>0.891841</td>\n",
       "      <td>0.881443</td>\n",
       "      <td>0.011330</td>\n",
       "      <td>3</td>\n",
       "    </tr>\n",
       "    <tr>\n",
       "      <th>3</th>\n",
       "      <td>0.023676</td>\n",
       "      <td>0.006263</td>\n",
       "      <td>0.174599</td>\n",
       "      <td>0.064724</td>\n",
       "      <td>9</td>\n",
       "      <td>{'n_neighbors': 9}</td>\n",
       "      <td>0.879849</td>\n",
       "      <td>0.878417</td>\n",
       "      <td>0.870877</td>\n",
       "      <td>0.861368</td>\n",
       "      <td>0.877589</td>\n",
       "      <td>0.873620</td>\n",
       "      <td>0.006859</td>\n",
       "      <td>4</td>\n",
       "    </tr>\n",
       "    <tr>\n",
       "      <th>4</th>\n",
       "      <td>0.023097</td>\n",
       "      <td>0.007982</td>\n",
       "      <td>0.242345</td>\n",
       "      <td>0.068891</td>\n",
       "      <td>11</td>\n",
       "      <td>{'n_neighbors': 11}</td>\n",
       "      <td>0.870388</td>\n",
       "      <td>0.876173</td>\n",
       "      <td>0.867675</td>\n",
       "      <td>0.859796</td>\n",
       "      <td>0.878187</td>\n",
       "      <td>0.870444</td>\n",
       "      <td>0.006540</td>\n",
       "      <td>6</td>\n",
       "    </tr>\n",
       "    <tr>\n",
       "      <th>5</th>\n",
       "      <td>0.018993</td>\n",
       "      <td>0.005189</td>\n",
       "      <td>0.181444</td>\n",
       "      <td>0.040566</td>\n",
       "      <td>13</td>\n",
       "      <td>{'n_neighbors': 13}</td>\n",
       "      <td>0.870633</td>\n",
       "      <td>0.878505</td>\n",
       "      <td>0.867357</td>\n",
       "      <td>0.855019</td>\n",
       "      <td>0.880907</td>\n",
       "      <td>0.870484</td>\n",
       "      <td>0.009187</td>\n",
       "      <td>5</td>\n",
       "    </tr>\n",
       "    <tr>\n",
       "      <th>6</th>\n",
       "      <td>0.021307</td>\n",
       "      <td>0.008803</td>\n",
       "      <td>0.195908</td>\n",
       "      <td>0.029048</td>\n",
       "      <td>15</td>\n",
       "      <td>{'n_neighbors': 15}</td>\n",
       "      <td>0.868744</td>\n",
       "      <td>0.871415</td>\n",
       "      <td>0.868668</td>\n",
       "      <td>0.850554</td>\n",
       "      <td>0.878049</td>\n",
       "      <td>0.867486</td>\n",
       "      <td>0.009129</td>\n",
       "      <td>7</td>\n",
       "    </tr>\n",
       "    <tr>\n",
       "      <th>7</th>\n",
       "      <td>0.016181</td>\n",
       "      <td>0.003548</td>\n",
       "      <td>0.191462</td>\n",
       "      <td>0.028849</td>\n",
       "      <td>17</td>\n",
       "      <td>{'n_neighbors': 17}</td>\n",
       "      <td>0.864662</td>\n",
       "      <td>0.871415</td>\n",
       "      <td>0.863039</td>\n",
       "      <td>0.848206</td>\n",
       "      <td>0.872897</td>\n",
       "      <td>0.864044</td>\n",
       "      <td>0.008774</td>\n",
       "      <td>8</td>\n",
       "    </tr>\n",
       "    <tr>\n",
       "      <th>8</th>\n",
       "      <td>0.027166</td>\n",
       "      <td>0.011295</td>\n",
       "      <td>0.184499</td>\n",
       "      <td>0.027157</td>\n",
       "      <td>19</td>\n",
       "      <td>{'n_neighbors': 19}</td>\n",
       "      <td>0.860356</td>\n",
       "      <td>0.865314</td>\n",
       "      <td>0.865169</td>\n",
       "      <td>0.844240</td>\n",
       "      <td>0.873134</td>\n",
       "      <td>0.861642</td>\n",
       "      <td>0.009618</td>\n",
       "      <td>9</td>\n",
       "    </tr>\n",
       "    <tr>\n",
       "      <th>9</th>\n",
       "      <td>0.019508</td>\n",
       "      <td>0.005853</td>\n",
       "      <td>0.171771</td>\n",
       "      <td>0.031485</td>\n",
       "      <td>21</td>\n",
       "      <td>{'n_neighbors': 21}</td>\n",
       "      <td>0.856876</td>\n",
       "      <td>0.862419</td>\n",
       "      <td>0.860335</td>\n",
       "      <td>0.843750</td>\n",
       "      <td>0.876404</td>\n",
       "      <td>0.859957</td>\n",
       "      <td>0.010477</td>\n",
       "      <td>10</td>\n",
       "    </tr>\n",
       "    <tr>\n",
       "      <th>10</th>\n",
       "      <td>0.017860</td>\n",
       "      <td>0.001201</td>\n",
       "      <td>0.173520</td>\n",
       "      <td>0.029369</td>\n",
       "      <td>23</td>\n",
       "      <td>{'n_neighbors': 23}</td>\n",
       "      <td>0.860902</td>\n",
       "      <td>0.858202</td>\n",
       "      <td>0.858736</td>\n",
       "      <td>0.837167</td>\n",
       "      <td>0.873477</td>\n",
       "      <td>0.857697</td>\n",
       "      <td>0.011680</td>\n",
       "      <td>11</td>\n",
       "    </tr>\n",
       "    <tr>\n",
       "      <th>11</th>\n",
       "      <td>0.017792</td>\n",
       "      <td>0.001740</td>\n",
       "      <td>0.229284</td>\n",
       "      <td>0.053540</td>\n",
       "      <td>25</td>\n",
       "      <td>{'n_neighbors': 25}</td>\n",
       "      <td>0.857411</td>\n",
       "      <td>0.854764</td>\n",
       "      <td>0.857143</td>\n",
       "      <td>0.838710</td>\n",
       "      <td>0.869972</td>\n",
       "      <td>0.855600</td>\n",
       "      <td>0.009982</td>\n",
       "      <td>12</td>\n",
       "    </tr>\n",
       "    <tr>\n",
       "      <th>12</th>\n",
       "      <td>0.018919</td>\n",
       "      <td>0.002975</td>\n",
       "      <td>0.192913</td>\n",
       "      <td>0.047924</td>\n",
       "      <td>27</td>\n",
       "      <td>{'n_neighbors': 27}</td>\n",
       "      <td>0.855545</td>\n",
       "      <td>0.853974</td>\n",
       "      <td>0.854225</td>\n",
       "      <td>0.837167</td>\n",
       "      <td>0.869159</td>\n",
       "      <td>0.854014</td>\n",
       "      <td>0.010155</td>\n",
       "      <td>14</td>\n",
       "    </tr>\n",
       "    <tr>\n",
       "      <th>13</th>\n",
       "      <td>0.013818</td>\n",
       "      <td>0.005590</td>\n",
       "      <td>0.175798</td>\n",
       "      <td>0.031312</td>\n",
       "      <td>29</td>\n",
       "      <td>{'n_neighbors': 29}</td>\n",
       "      <td>0.852612</td>\n",
       "      <td>0.856082</td>\n",
       "      <td>0.854225</td>\n",
       "      <td>0.839302</td>\n",
       "      <td>0.870787</td>\n",
       "      <td>0.854601</td>\n",
       "      <td>0.010023</td>\n",
       "      <td>13</td>\n",
       "    </tr>\n",
       "    <tr>\n",
       "      <th>14</th>\n",
       "      <td>0.020167</td>\n",
       "      <td>0.003341</td>\n",
       "      <td>0.193724</td>\n",
       "      <td>0.034110</td>\n",
       "      <td>31</td>\n",
       "      <td>{'n_neighbors': 31}</td>\n",
       "      <td>0.857143</td>\n",
       "      <td>0.851852</td>\n",
       "      <td>0.848089</td>\n",
       "      <td>0.834559</td>\n",
       "      <td>0.873477</td>\n",
       "      <td>0.853024</td>\n",
       "      <td>0.012665</td>\n",
       "      <td>15</td>\n",
       "    </tr>\n",
       "  </tbody>\n",
       "</table>\n",
       "</div>"
      ],
      "text/plain": [
       "    mean_fit_time  std_fit_time  mean_score_time  std_score_time  \\\n",
       "0        0.016387      0.003748         0.135719        0.045351   \n",
       "1        0.016579      0.001349         0.142767        0.035339   \n",
       "2        0.017279      0.000584         0.119758        0.010164   \n",
       "3        0.023676      0.006263         0.174599        0.064724   \n",
       "4        0.023097      0.007982         0.242345        0.068891   \n",
       "5        0.018993      0.005189         0.181444        0.040566   \n",
       "6        0.021307      0.008803         0.195908        0.029048   \n",
       "7        0.016181      0.003548         0.191462        0.028849   \n",
       "8        0.027166      0.011295         0.184499        0.027157   \n",
       "9        0.019508      0.005853         0.171771        0.031485   \n",
       "10       0.017860      0.001201         0.173520        0.029369   \n",
       "11       0.017792      0.001740         0.229284        0.053540   \n",
       "12       0.018919      0.002975         0.192913        0.047924   \n",
       "13       0.013818      0.005590         0.175798        0.031312   \n",
       "14       0.020167      0.003341         0.193724        0.034110   \n",
       "\n",
       "   param_n_neighbors               params  split0_test_score  \\\n",
       "0                  3   {'n_neighbors': 3}           0.897881   \n",
       "1                  5   {'n_neighbors': 5}           0.892754   \n",
       "2                  7   {'n_neighbors': 7}           0.888676   \n",
       "3                  9   {'n_neighbors': 9}           0.879849   \n",
       "4                 11  {'n_neighbors': 11}           0.870388   \n",
       "5                 13  {'n_neighbors': 13}           0.870633   \n",
       "6                 15  {'n_neighbors': 15}           0.868744   \n",
       "7                 17  {'n_neighbors': 17}           0.864662   \n",
       "8                 19  {'n_neighbors': 19}           0.860356   \n",
       "9                 21  {'n_neighbors': 21}           0.856876   \n",
       "10                23  {'n_neighbors': 23}           0.860902   \n",
       "11                25  {'n_neighbors': 25}           0.857411   \n",
       "12                27  {'n_neighbors': 27}           0.855545   \n",
       "13                29  {'n_neighbors': 29}           0.852612   \n",
       "14                31  {'n_neighbors': 31}           0.857143   \n",
       "\n",
       "    split1_test_score  split2_test_score  split3_test_score  \\\n",
       "0            0.901163           0.889952           0.883412   \n",
       "1            0.892514           0.886124           0.871843   \n",
       "2            0.886990           0.879392           0.860315   \n",
       "3            0.878417           0.870877           0.861368   \n",
       "4            0.876173           0.867675           0.859796   \n",
       "5            0.878505           0.867357           0.855019   \n",
       "6            0.871415           0.868668           0.850554   \n",
       "7            0.871415           0.863039           0.848206   \n",
       "8            0.865314           0.865169           0.844240   \n",
       "9            0.862419           0.860335           0.843750   \n",
       "10           0.858202           0.858736           0.837167   \n",
       "11           0.854764           0.857143           0.838710   \n",
       "12           0.853974           0.854225           0.837167   \n",
       "13           0.856082           0.854225           0.839302   \n",
       "14           0.851852           0.848089           0.834559   \n",
       "\n",
       "    split4_test_score  mean_test_score  std_test_score  rank_test_score  \n",
       "0            0.908913         0.896264        0.008850                1  \n",
       "1            0.894027         0.887452        0.008275                2  \n",
       "2            0.891841         0.881443        0.011330                3  \n",
       "3            0.877589         0.873620        0.006859                4  \n",
       "4            0.878187         0.870444        0.006540                6  \n",
       "5            0.880907         0.870484        0.009187                5  \n",
       "6            0.878049         0.867486        0.009129                7  \n",
       "7            0.872897         0.864044        0.008774                8  \n",
       "8            0.873134         0.861642        0.009618                9  \n",
       "9            0.876404         0.859957        0.010477               10  \n",
       "10           0.873477         0.857697        0.011680               11  \n",
       "11           0.869972         0.855600        0.009982               12  \n",
       "12           0.869159         0.854014        0.010155               14  \n",
       "13           0.870787         0.854601        0.010023               13  \n",
       "14           0.873477         0.853024        0.012665               15  "
      ]
     },
     "execution_count": 21,
     "metadata": {},
     "output_type": "execute_result"
    }
   ],
   "source": [
    "pd.DataFrame(grid.cv_results_)"
   ]
  },
  {
   "cell_type": "code",
   "execution_count": 22,
   "id": "173913a4",
   "metadata": {},
   "outputs": [
    {
     "name": "stdout",
     "output_type": "stream",
     "text": [
      "Le meilleur F1-score associé au nombre de voisins optimal est : 0.8962641272279832\n"
     ]
    }
   ],
   "source": [
    "print(\"Le meilleur F1-score associé au nombre de voisins optimal est : {}\".format(grid.best_score_))"
   ]
  },
  {
   "cell_type": "markdown",
   "id": "95bd9171",
   "metadata": {},
   "source": [
    "#### Question 10.c\n",
    "\n",
    "Quel est le F-score, sur le jeu de test, d'un modèle obtenu en entraînant un algorithme des k plus proches voisins, avec le k que vous venez de déterminer, sur le jeu d'entraînement ? Commentez."
   ]
  },
  {
   "cell_type": "code",
   "execution_count": 23,
   "id": "1b6e3a63",
   "metadata": {},
   "outputs": [
    {
     "name": "stdout",
     "output_type": "stream",
     "text": [
      "performances sur le set de test : 0.9010819165378671\n"
     ]
    }
   ],
   "source": [
    "predictor_neigh_best = neighbors.KNeighborsClassifier(n_neighbors=3)\n",
    "predictor_neigh_best.fit(X_train,y_train)\n",
    "y_pred_neigh_grid = predictor_neigh_best.predict(X_test)\n",
    "f1_neigh_grid = metrics.f1_score(y_pred_neigh_grid,y_test)\n",
    "print(\"performances sur le set de test : {}\".format(f1_neigh_grid))"
   ]
  },
  {
   "cell_type": "markdown",
   "id": "7b0e485e",
   "metadata": {},
   "source": [
    "Le résultat de ce F-score est plus élevé que celui obtenu par la méthode grid. Cela nous indique que la population d'entrainement n'est pas tout à fait réprésentative de la population de jeu"
   ]
  },
  {
   "cell_type": "markdown",
   "id": "f0cd2b84",
   "metadata": {},
   "source": [
    "## [À partir de la PC 5] Régression logistique"
   ]
  },
  {
   "cell_type": "markdown",
   "id": "72bff0d8",
   "metadata": {},
   "source": [
    "### Régression logistique non-régularisée"
   ]
  },
  {
   "cell_type": "markdown",
   "id": "14ec8ffa",
   "metadata": {},
   "source": [
    "#### Question 11.a\n",
    "\n",
    "Entraînez une régression logistique non-régularisée sur le jeu d'entraînement.\n",
    "\n",
    "__Conseils :__\n",
    "* Vous trouverez les outils nécessaires dans la classe `LogisticRegression` du module `linear_model` de `scikit-learn` ; il s'agit ainsi d'une variante de la PC5. Comme toujours, référez-vous à la [documentation](https://scikit-learn.org/stable/modules/generated/sklearn.linear_model.LogisticRegression.html).\n",
    "* Pour ne pas avoir de régularisation, utilisez `penalty='none'`"
   ]
  },
  {
   "cell_type": "code",
   "execution_count": 24,
   "id": "a9bb0107",
   "metadata": {},
   "outputs": [],
   "source": [
    "from sklearn.linear_model import LogisticRegression\n",
    "predictor_logreg = LogisticRegression(penalty='none')\n",
    "predictor_logreg.fit(X_train,y_train)\n",
    "y_pred_logreg=predictor_logreg.predict(X_test)"
   ]
  },
  {
   "cell_type": "markdown",
   "id": "f4b9fd98",
   "metadata": {},
   "source": [
    "#### Question 11.b\n",
    "Évaluez le F-score de cette régression logistique non-régularisée sur le jeu de test."
   ]
  },
  {
   "cell_type": "code",
   "execution_count": 25,
   "id": "9ae08f6d",
   "metadata": {},
   "outputs": [
    {
     "name": "stdout",
     "output_type": "stream",
     "text": [
      "performances sur le set de test : 0.776954732510288\n"
     ]
    }
   ],
   "source": [
    "f1_logreg_none = metrics.f1_score(y_pred_logreg,y_test)\n",
    "print(\"performances sur le set de test : {}\".format(f1_logreg_none))"
   ]
  },
  {
   "cell_type": "code",
   "execution_count": 26,
   "id": "145e0975",
   "metadata": {},
   "outputs": [
    {
     "name": "stdout",
     "output_type": "stream",
     "text": [
      "performances sur le set d'entrainement : 0.7724933086267243\n"
     ]
    }
   ],
   "source": [
    "print(\"performances sur le set d'entrainement : {}\".format(metrics.f1_score(predictor_logreg.predict(X_train),y_train)))"
   ]
  },
  {
   "cell_type": "markdown",
   "id": "c6f298eb",
   "metadata": {},
   "source": [
    "#### Question 12\n",
    "Vous attendez-vous à ce qu'utiliser une régularisation l2 améliore les performances du modèle ? Pourquoi ?"
   ]
  },
  {
   "cell_type": "markdown",
   "id": "2dae2d91",
   "metadata": {},
   "source": [
    "On constate que les performances de prediction sur le jeu de test sont les mêmes que celles sur le jeu d'entrainement. Ainsi, il n'y a, a priori, pas de sur-apprentissage de la part du modèle. Une régularisation (L2) ne devrait donc pas modifier les performances du modèle, qui parvient déjà à généraliser.  "
   ]
  },
  {
   "cell_type": "markdown",
   "id": "b250114c",
   "metadata": {},
   "source": [
    "#### Question 13.a\n",
    "Déterminez par validation croisée une valeur optimale du coefficient de régularisation d'une régression logistique avec régularisation ridge."
   ]
  },
  {
   "cell_type": "code",
   "execution_count": 27,
   "id": "61c2fc87",
   "metadata": {},
   "outputs": [],
   "source": [
    "C_values = np.logspace(-2, 2, 50)"
   ]
  },
  {
   "cell_type": "code",
   "execution_count": 28,
   "id": "9662910b",
   "metadata": {},
   "outputs": [
    {
     "data": {
      "text/plain": [
       "GridSearchCV(cv=5, estimator=LogisticRegression(),\n",
       "             param_grid=[{'C': array([1.00000000e-02, 1.20679264e-02, 1.45634848e-02, 1.75751062e-02,\n",
       "       2.12095089e-02, 2.55954792e-02, 3.08884360e-02, 3.72759372e-02,\n",
       "       4.49843267e-02, 5.42867544e-02, 6.55128557e-02, 7.90604321e-02,\n",
       "       9.54095476e-02, 1.15139540e-01, 1.38949549e-01, 1.67683294e-01,\n",
       "       2.02358965e-01, 2.44205309e-01, 2.94705...\n",
       "       1.93069773e+00, 2.32995181e+00, 2.81176870e+00, 3.39322177e+00,\n",
       "       4.09491506e+00, 4.94171336e+00, 5.96362332e+00, 7.19685673e+00,\n",
       "       8.68511374e+00, 1.04811313e+01, 1.26485522e+01, 1.52641797e+01,\n",
       "       1.84206997e+01, 2.22299648e+01, 2.68269580e+01, 3.23745754e+01,\n",
       "       3.90693994e+01, 4.71486636e+01, 5.68986603e+01, 6.86648845e+01,\n",
       "       8.28642773e+01, 1.00000000e+02])}],\n",
       "             scoring=make_scorer(f1_score))"
      ]
     },
     "execution_count": 28,
     "metadata": {},
     "output_type": "execute_result"
    }
   ],
   "source": [
    "from sklearn.model_selection import GridSearchCV\n",
    "\n",
    "predictor_logreg_grid = LogisticRegression(penalty='l2')\n",
    "\n",
    "# define gridsearch\n",
    "tuned_parameters = [{'C': C_values}]\n",
    "nb_folds = 5\n",
    "grid_ridge = GridSearchCV(predictor_logreg_grid, tuned_parameters, cv=nb_folds, refit=True, scoring=metrics.make_scorer(metrics.f1_score))\n",
    "grid_ridge.fit(X_train, y_train)\n"
   ]
  },
  {
   "cell_type": "code",
   "execution_count": 29,
   "id": "3a452206",
   "metadata": {},
   "outputs": [
    {
     "data": {
      "text/html": [
       "<div>\n",
       "<style scoped>\n",
       "    .dataframe tbody tr th:only-of-type {\n",
       "        vertical-align: middle;\n",
       "    }\n",
       "\n",
       "    .dataframe tbody tr th {\n",
       "        vertical-align: top;\n",
       "    }\n",
       "\n",
       "    .dataframe thead th {\n",
       "        text-align: right;\n",
       "    }\n",
       "</style>\n",
       "<table border=\"1\" class=\"dataframe\">\n",
       "  <thead>\n",
       "    <tr style=\"text-align: right;\">\n",
       "      <th></th>\n",
       "      <th>mean_fit_time</th>\n",
       "      <th>std_fit_time</th>\n",
       "      <th>mean_score_time</th>\n",
       "      <th>std_score_time</th>\n",
       "      <th>param_C</th>\n",
       "      <th>params</th>\n",
       "      <th>split0_test_score</th>\n",
       "      <th>split1_test_score</th>\n",
       "      <th>split2_test_score</th>\n",
       "      <th>split3_test_score</th>\n",
       "      <th>split4_test_score</th>\n",
       "      <th>mean_test_score</th>\n",
       "      <th>std_test_score</th>\n",
       "      <th>rank_test_score</th>\n",
       "    </tr>\n",
       "  </thead>\n",
       "  <tbody>\n",
       "    <tr>\n",
       "      <th>0</th>\n",
       "      <td>0.034674</td>\n",
       "      <td>0.008560</td>\n",
       "      <td>0.002397</td>\n",
       "      <td>0.001957</td>\n",
       "      <td>0.01</td>\n",
       "      <td>{'C': 0.01}</td>\n",
       "      <td>0.773663</td>\n",
       "      <td>0.765073</td>\n",
       "      <td>0.771930</td>\n",
       "      <td>0.761044</td>\n",
       "      <td>0.778689</td>\n",
       "      <td>0.770080</td>\n",
       "      <td>0.006278</td>\n",
       "      <td>42</td>\n",
       "    </tr>\n",
       "    <tr>\n",
       "      <th>1</th>\n",
       "      <td>0.045883</td>\n",
       "      <td>0.005623</td>\n",
       "      <td>0.003905</td>\n",
       "      <td>0.003629</td>\n",
       "      <td>0.0120679</td>\n",
       "      <td>{'C': 0.012067926406393288}</td>\n",
       "      <td>0.775258</td>\n",
       "      <td>0.769710</td>\n",
       "      <td>0.773196</td>\n",
       "      <td>0.759036</td>\n",
       "      <td>0.779487</td>\n",
       "      <td>0.771337</td>\n",
       "      <td>0.006917</td>\n",
       "      <td>27</td>\n",
       "    </tr>\n",
       "    <tr>\n",
       "      <th>2</th>\n",
       "      <td>0.042101</td>\n",
       "      <td>0.005563</td>\n",
       "      <td>0.004121</td>\n",
       "      <td>0.003485</td>\n",
       "      <td>0.0145635</td>\n",
       "      <td>{'C': 0.014563484775012436}</td>\n",
       "      <td>0.776519</td>\n",
       "      <td>0.775130</td>\n",
       "      <td>0.769072</td>\n",
       "      <td>0.757028</td>\n",
       "      <td>0.776978</td>\n",
       "      <td>0.770945</td>\n",
       "      <td>0.007512</td>\n",
       "      <td>36</td>\n",
       "    </tr>\n",
       "    <tr>\n",
       "      <th>3</th>\n",
       "      <td>0.031214</td>\n",
       "      <td>0.002714</td>\n",
       "      <td>0.002978</td>\n",
       "      <td>0.001508</td>\n",
       "      <td>0.0175751</td>\n",
       "      <td>{'C': 0.017575106248547922}</td>\n",
       "      <td>0.774459</td>\n",
       "      <td>0.776398</td>\n",
       "      <td>0.767802</td>\n",
       "      <td>0.758275</td>\n",
       "      <td>0.776181</td>\n",
       "      <td>0.770623</td>\n",
       "      <td>0.006919</td>\n",
       "      <td>41</td>\n",
       "    </tr>\n",
       "    <tr>\n",
       "      <th>4</th>\n",
       "      <td>0.026212</td>\n",
       "      <td>0.007636</td>\n",
       "      <td>0.003659</td>\n",
       "      <td>0.001617</td>\n",
       "      <td>0.0212095</td>\n",
       "      <td>{'C': 0.021209508879201904}</td>\n",
       "      <td>0.771930</td>\n",
       "      <td>0.775130</td>\n",
       "      <td>0.768595</td>\n",
       "      <td>0.758275</td>\n",
       "      <td>0.776181</td>\n",
       "      <td>0.770022</td>\n",
       "      <td>0.006445</td>\n",
       "      <td>43</td>\n",
       "    </tr>\n",
       "    <tr>\n",
       "      <th>5</th>\n",
       "      <td>0.035224</td>\n",
       "      <td>0.002017</td>\n",
       "      <td>0.003561</td>\n",
       "      <td>0.001394</td>\n",
       "      <td>0.0255955</td>\n",
       "      <td>{'C': 0.025595479226995357}</td>\n",
       "      <td>0.770661</td>\n",
       "      <td>0.774327</td>\n",
       "      <td>0.769390</td>\n",
       "      <td>0.759519</td>\n",
       "      <td>0.775720</td>\n",
       "      <td>0.769923</td>\n",
       "      <td>0.005693</td>\n",
       "      <td>46</td>\n",
       "    </tr>\n",
       "    <tr>\n",
       "      <th>6</th>\n",
       "      <td>0.035239</td>\n",
       "      <td>0.003939</td>\n",
       "      <td>0.002451</td>\n",
       "      <td>0.001383</td>\n",
       "      <td>0.0308884</td>\n",
       "      <td>{'C': 0.030888435964774818}</td>\n",
       "      <td>0.769866</td>\n",
       "      <td>0.771458</td>\n",
       "      <td>0.771930</td>\n",
       "      <td>0.759799</td>\n",
       "      <td>0.776978</td>\n",
       "      <td>0.770006</td>\n",
       "      <td>0.005633</td>\n",
       "      <td>44</td>\n",
       "    </tr>\n",
       "    <tr>\n",
       "      <th>7</th>\n",
       "      <td>0.032060</td>\n",
       "      <td>0.003455</td>\n",
       "      <td>0.002588</td>\n",
       "      <td>0.002337</td>\n",
       "      <td>0.0372759</td>\n",
       "      <td>{'C': 0.0372759372031494}</td>\n",
       "      <td>0.769866</td>\n",
       "      <td>0.772257</td>\n",
       "      <td>0.769866</td>\n",
       "      <td>0.758551</td>\n",
       "      <td>0.775720</td>\n",
       "      <td>0.769252</td>\n",
       "      <td>0.005764</td>\n",
       "      <td>49</td>\n",
       "    </tr>\n",
       "    <tr>\n",
       "      <th>8</th>\n",
       "      <td>0.027412</td>\n",
       "      <td>0.010521</td>\n",
       "      <td>0.001825</td>\n",
       "      <td>0.002298</td>\n",
       "      <td>0.0449843</td>\n",
       "      <td>{'C': 0.04498432668969444}</td>\n",
       "      <td>0.769390</td>\n",
       "      <td>0.770984</td>\n",
       "      <td>0.771134</td>\n",
       "      <td>0.758551</td>\n",
       "      <td>0.775720</td>\n",
       "      <td>0.769156</td>\n",
       "      <td>0.005707</td>\n",
       "      <td>50</td>\n",
       "    </tr>\n",
       "    <tr>\n",
       "      <th>9</th>\n",
       "      <td>0.029966</td>\n",
       "      <td>0.007168</td>\n",
       "      <td>0.003999</td>\n",
       "      <td>0.001208</td>\n",
       "      <td>0.0542868</td>\n",
       "      <td>{'C': 0.054286754393238594}</td>\n",
       "      <td>0.768116</td>\n",
       "      <td>0.771310</td>\n",
       "      <td>0.773196</td>\n",
       "      <td>0.759036</td>\n",
       "      <td>0.775720</td>\n",
       "      <td>0.769476</td>\n",
       "      <td>0.005780</td>\n",
       "      <td>48</td>\n",
       "    </tr>\n",
       "    <tr>\n",
       "      <th>10</th>\n",
       "      <td>0.038513</td>\n",
       "      <td>0.009024</td>\n",
       "      <td>0.003447</td>\n",
       "      <td>0.001858</td>\n",
       "      <td>0.0655129</td>\n",
       "      <td>{'C': 0.0655128556859551}</td>\n",
       "      <td>0.768116</td>\n",
       "      <td>0.770833</td>\n",
       "      <td>0.773196</td>\n",
       "      <td>0.759036</td>\n",
       "      <td>0.777778</td>\n",
       "      <td>0.769792</td>\n",
       "      <td>0.006244</td>\n",
       "      <td>47</td>\n",
       "    </tr>\n",
       "    <tr>\n",
       "      <th>11</th>\n",
       "      <td>0.037053</td>\n",
       "      <td>0.001765</td>\n",
       "      <td>0.003997</td>\n",
       "      <td>0.000654</td>\n",
       "      <td>0.0790604</td>\n",
       "      <td>{'C': 0.07906043210907697}</td>\n",
       "      <td>0.768116</td>\n",
       "      <td>0.770833</td>\n",
       "      <td>0.774459</td>\n",
       "      <td>0.759036</td>\n",
       "      <td>0.777320</td>\n",
       "      <td>0.769953</td>\n",
       "      <td>0.006291</td>\n",
       "      <td>45</td>\n",
       "    </tr>\n",
       "    <tr>\n",
       "      <th>12</th>\n",
       "      <td>0.038806</td>\n",
       "      <td>0.003184</td>\n",
       "      <td>0.004899</td>\n",
       "      <td>0.002637</td>\n",
       "      <td>0.0954095</td>\n",
       "      <td>{'C': 0.09540954763499938}</td>\n",
       "      <td>0.770186</td>\n",
       "      <td>0.772917</td>\n",
       "      <td>0.774459</td>\n",
       "      <td>0.759036</td>\n",
       "      <td>0.777320</td>\n",
       "      <td>0.770784</td>\n",
       "      <td>0.006311</td>\n",
       "      <td>38</td>\n",
       "    </tr>\n",
       "    <tr>\n",
       "      <th>13</th>\n",
       "      <td>0.038073</td>\n",
       "      <td>0.002941</td>\n",
       "      <td>0.006131</td>\n",
       "      <td>0.003285</td>\n",
       "      <td>0.11514</td>\n",
       "      <td>{'C': 0.1151395399326447}</td>\n",
       "      <td>0.770186</td>\n",
       "      <td>0.774194</td>\n",
       "      <td>0.775258</td>\n",
       "      <td>0.757789</td>\n",
       "      <td>0.777320</td>\n",
       "      <td>0.770949</td>\n",
       "      <td>0.006978</td>\n",
       "      <td>35</td>\n",
       "    </tr>\n",
       "    <tr>\n",
       "      <th>14</th>\n",
       "      <td>0.040117</td>\n",
       "      <td>0.001373</td>\n",
       "      <td>0.003015</td>\n",
       "      <td>0.000427</td>\n",
       "      <td>0.13895</td>\n",
       "      <td>{'C': 0.13894954943731375}</td>\n",
       "      <td>0.769710</td>\n",
       "      <td>0.774194</td>\n",
       "      <td>0.775258</td>\n",
       "      <td>0.757789</td>\n",
       "      <td>0.777320</td>\n",
       "      <td>0.770854</td>\n",
       "      <td>0.006991</td>\n",
       "      <td>37</td>\n",
       "    </tr>\n",
       "    <tr>\n",
       "      <th>15</th>\n",
       "      <td>0.041618</td>\n",
       "      <td>0.002682</td>\n",
       "      <td>0.003342</td>\n",
       "      <td>0.001230</td>\n",
       "      <td>0.167683</td>\n",
       "      <td>{'C': 0.16768329368110074}</td>\n",
       "      <td>0.769710</td>\n",
       "      <td>0.775468</td>\n",
       "      <td>0.775258</td>\n",
       "      <td>0.757789</td>\n",
       "      <td>0.777320</td>\n",
       "      <td>0.771109</td>\n",
       "      <td>0.007130</td>\n",
       "      <td>31</td>\n",
       "    </tr>\n",
       "    <tr>\n",
       "      <th>16</th>\n",
       "      <td>0.047118</td>\n",
       "      <td>0.011136</td>\n",
       "      <td>0.001951</td>\n",
       "      <td>0.001017</td>\n",
       "      <td>0.202359</td>\n",
       "      <td>{'C': 0.20235896477251566}</td>\n",
       "      <td>0.769710</td>\n",
       "      <td>0.774194</td>\n",
       "      <td>0.775258</td>\n",
       "      <td>0.758551</td>\n",
       "      <td>0.776058</td>\n",
       "      <td>0.770754</td>\n",
       "      <td>0.006484</td>\n",
       "      <td>39</td>\n",
       "    </tr>\n",
       "    <tr>\n",
       "      <th>17</th>\n",
       "      <td>0.067471</td>\n",
       "      <td>0.004943</td>\n",
       "      <td>0.007994</td>\n",
       "      <td>0.001986</td>\n",
       "      <td>0.244205</td>\n",
       "      <td>{'C': 0.2442053094548651}</td>\n",
       "      <td>0.770984</td>\n",
       "      <td>0.774194</td>\n",
       "      <td>0.775258</td>\n",
       "      <td>0.758551</td>\n",
       "      <td>0.776058</td>\n",
       "      <td>0.771009</td>\n",
       "      <td>0.006463</td>\n",
       "      <td>32</td>\n",
       "    </tr>\n",
       "    <tr>\n",
       "      <th>18</th>\n",
       "      <td>0.068818</td>\n",
       "      <td>0.002900</td>\n",
       "      <td>0.006468</td>\n",
       "      <td>0.001644</td>\n",
       "      <td>0.294705</td>\n",
       "      <td>{'C': 0.29470517025518095}</td>\n",
       "      <td>0.770984</td>\n",
       "      <td>0.774194</td>\n",
       "      <td>0.775258</td>\n",
       "      <td>0.758551</td>\n",
       "      <td>0.776058</td>\n",
       "      <td>0.771009</td>\n",
       "      <td>0.006463</td>\n",
       "      <td>32</td>\n",
       "    </tr>\n",
       "    <tr>\n",
       "      <th>19</th>\n",
       "      <td>0.068652</td>\n",
       "      <td>0.002316</td>\n",
       "      <td>0.008219</td>\n",
       "      <td>0.001250</td>\n",
       "      <td>0.355648</td>\n",
       "      <td>{'C': 0.35564803062231287}</td>\n",
       "      <td>0.770984</td>\n",
       "      <td>0.775000</td>\n",
       "      <td>0.775258</td>\n",
       "      <td>0.758551</td>\n",
       "      <td>0.776058</td>\n",
       "      <td>0.771170</td>\n",
       "      <td>0.006550</td>\n",
       "      <td>29</td>\n",
       "    </tr>\n",
       "    <tr>\n",
       "      <th>20</th>\n",
       "      <td>0.065660</td>\n",
       "      <td>0.005573</td>\n",
       "      <td>0.007049</td>\n",
       "      <td>0.001467</td>\n",
       "      <td>0.429193</td>\n",
       "      <td>{'C': 0.42919342601287763}</td>\n",
       "      <td>0.770984</td>\n",
       "      <td>0.775000</td>\n",
       "      <td>0.775258</td>\n",
       "      <td>0.758551</td>\n",
       "      <td>0.776058</td>\n",
       "      <td>0.771170</td>\n",
       "      <td>0.006550</td>\n",
       "      <td>29</td>\n",
       "    </tr>\n",
       "    <tr>\n",
       "      <th>21</th>\n",
       "      <td>0.042387</td>\n",
       "      <td>0.004980</td>\n",
       "      <td>0.005955</td>\n",
       "      <td>0.001063</td>\n",
       "      <td>0.517947</td>\n",
       "      <td>{'C': 0.517947467923121}</td>\n",
       "      <td>0.772257</td>\n",
       "      <td>0.775000</td>\n",
       "      <td>0.774793</td>\n",
       "      <td>0.758551</td>\n",
       "      <td>0.777320</td>\n",
       "      <td>0.771584</td>\n",
       "      <td>0.006711</td>\n",
       "      <td>16</td>\n",
       "    </tr>\n",
       "    <tr>\n",
       "      <th>22</th>\n",
       "      <td>0.054848</td>\n",
       "      <td>0.007967</td>\n",
       "      <td>0.005416</td>\n",
       "      <td>0.003275</td>\n",
       "      <td>0.625055</td>\n",
       "      <td>{'C': 0.6250551925273969}</td>\n",
       "      <td>0.773526</td>\n",
       "      <td>0.775000</td>\n",
       "      <td>0.774793</td>\n",
       "      <td>0.759315</td>\n",
       "      <td>0.777320</td>\n",
       "      <td>0.771991</td>\n",
       "      <td>0.006455</td>\n",
       "      <td>2</td>\n",
       "    </tr>\n",
       "    <tr>\n",
       "      <th>23</th>\n",
       "      <td>0.035978</td>\n",
       "      <td>0.001276</td>\n",
       "      <td>0.002616</td>\n",
       "      <td>0.000385</td>\n",
       "      <td>0.754312</td>\n",
       "      <td>{'C': 0.7543120063354615}</td>\n",
       "      <td>0.773526</td>\n",
       "      <td>0.773723</td>\n",
       "      <td>0.773526</td>\n",
       "      <td>0.759315</td>\n",
       "      <td>0.777320</td>\n",
       "      <td>0.771482</td>\n",
       "      <td>0.006253</td>\n",
       "      <td>17</td>\n",
       "    </tr>\n",
       "    <tr>\n",
       "      <th>24</th>\n",
       "      <td>0.038348</td>\n",
       "      <td>0.004902</td>\n",
       "      <td>0.004386</td>\n",
       "      <td>0.002193</td>\n",
       "      <td>0.910298</td>\n",
       "      <td>{'C': 0.9102981779915218}</td>\n",
       "      <td>0.772257</td>\n",
       "      <td>0.773723</td>\n",
       "      <td>0.773526</td>\n",
       "      <td>0.758065</td>\n",
       "      <td>0.777320</td>\n",
       "      <td>0.770978</td>\n",
       "      <td>0.006673</td>\n",
       "      <td>34</td>\n",
       "    </tr>\n",
       "    <tr>\n",
       "      <th>25</th>\n",
       "      <td>0.046020</td>\n",
       "      <td>0.002844</td>\n",
       "      <td>0.004878</td>\n",
       "      <td>0.004237</td>\n",
       "      <td>1.09854</td>\n",
       "      <td>{'C': 1.0985411419875584}</td>\n",
       "      <td>0.772257</td>\n",
       "      <td>0.772443</td>\n",
       "      <td>0.773526</td>\n",
       "      <td>0.758065</td>\n",
       "      <td>0.777320</td>\n",
       "      <td>0.770722</td>\n",
       "      <td>0.006587</td>\n",
       "      <td>40</td>\n",
       "    </tr>\n",
       "    <tr>\n",
       "      <th>26</th>\n",
       "      <td>0.044718</td>\n",
       "      <td>0.001899</td>\n",
       "      <td>0.004141</td>\n",
       "      <td>0.000503</td>\n",
       "      <td>1.32571</td>\n",
       "      <td>{'C': 1.325711365590108}</td>\n",
       "      <td>0.773057</td>\n",
       "      <td>0.772443</td>\n",
       "      <td>0.774327</td>\n",
       "      <td>0.758829</td>\n",
       "      <td>0.777320</td>\n",
       "      <td>0.771195</td>\n",
       "      <td>0.006407</td>\n",
       "      <td>28</td>\n",
       "    </tr>\n",
       "    <tr>\n",
       "      <th>27</th>\n",
       "      <td>0.044478</td>\n",
       "      <td>0.001985</td>\n",
       "      <td>0.003970</td>\n",
       "      <td>0.000489</td>\n",
       "      <td>1.59986</td>\n",
       "      <td>{'C': 1.5998587196060574}</td>\n",
       "      <td>0.774327</td>\n",
       "      <td>0.771160</td>\n",
       "      <td>0.774327</td>\n",
       "      <td>0.760081</td>\n",
       "      <td>0.777320</td>\n",
       "      <td>0.771443</td>\n",
       "      <td>0.006006</td>\n",
       "      <td>18</td>\n",
       "    </tr>\n",
       "    <tr>\n",
       "      <th>28</th>\n",
       "      <td>0.043516</td>\n",
       "      <td>0.003870</td>\n",
       "      <td>0.001113</td>\n",
       "      <td>0.002225</td>\n",
       "      <td>1.9307</td>\n",
       "      <td>{'C': 1.9306977288832496}</td>\n",
       "      <td>0.774327</td>\n",
       "      <td>0.771160</td>\n",
       "      <td>0.775595</td>\n",
       "      <td>0.760081</td>\n",
       "      <td>0.778579</td>\n",
       "      <td>0.771948</td>\n",
       "      <td>0.006393</td>\n",
       "      <td>3</td>\n",
       "    </tr>\n",
       "    <tr>\n",
       "      <th>29</th>\n",
       "      <td>0.065497</td>\n",
       "      <td>0.005403</td>\n",
       "      <td>0.006732</td>\n",
       "      <td>0.001615</td>\n",
       "      <td>2.32995</td>\n",
       "      <td>{'C': 2.329951810515372}</td>\n",
       "      <td>0.774327</td>\n",
       "      <td>0.769874</td>\n",
       "      <td>0.774327</td>\n",
       "      <td>0.760081</td>\n",
       "      <td>0.778579</td>\n",
       "      <td>0.771438</td>\n",
       "      <td>0.006311</td>\n",
       "      <td>19</td>\n",
       "    </tr>\n",
       "    <tr>\n",
       "      <th>30</th>\n",
       "      <td>0.045841</td>\n",
       "      <td>0.012514</td>\n",
       "      <td>0.004395</td>\n",
       "      <td>0.001959</td>\n",
       "      <td>2.81177</td>\n",
       "      <td>{'C': 2.811768697974228}</td>\n",
       "      <td>0.774327</td>\n",
       "      <td>0.769874</td>\n",
       "      <td>0.774327</td>\n",
       "      <td>0.761329</td>\n",
       "      <td>0.778579</td>\n",
       "      <td>0.771687</td>\n",
       "      <td>0.005865</td>\n",
       "      <td>8</td>\n",
       "    </tr>\n",
       "    <tr>\n",
       "      <th>31</th>\n",
       "      <td>0.039945</td>\n",
       "      <td>0.005421</td>\n",
       "      <td>0.003014</td>\n",
       "      <td>0.002254</td>\n",
       "      <td>3.39322</td>\n",
       "      <td>{'C': 3.3932217718953264}</td>\n",
       "      <td>0.774327</td>\n",
       "      <td>0.769874</td>\n",
       "      <td>0.775595</td>\n",
       "      <td>0.761329</td>\n",
       "      <td>0.778579</td>\n",
       "      <td>0.771941</td>\n",
       "      <td>0.006000</td>\n",
       "      <td>4</td>\n",
       "    </tr>\n",
       "    <tr>\n",
       "      <th>32</th>\n",
       "      <td>0.053297</td>\n",
       "      <td>0.012564</td>\n",
       "      <td>0.004457</td>\n",
       "      <td>0.003440</td>\n",
       "      <td>4.09492</td>\n",
       "      <td>{'C': 4.094915062380423}</td>\n",
       "      <td>0.773526</td>\n",
       "      <td>0.769874</td>\n",
       "      <td>0.776860</td>\n",
       "      <td>0.761329</td>\n",
       "      <td>0.778579</td>\n",
       "      <td>0.772034</td>\n",
       "      <td>0.006125</td>\n",
       "      <td>1</td>\n",
       "    </tr>\n",
       "    <tr>\n",
       "      <th>33</th>\n",
       "      <td>0.057092</td>\n",
       "      <td>0.007502</td>\n",
       "      <td>0.003334</td>\n",
       "      <td>0.002656</td>\n",
       "      <td>4.94171</td>\n",
       "      <td>{'C': 4.941713361323833}</td>\n",
       "      <td>0.773526</td>\n",
       "      <td>0.769874</td>\n",
       "      <td>0.776058</td>\n",
       "      <td>0.761329</td>\n",
       "      <td>0.778579</td>\n",
       "      <td>0.771873</td>\n",
       "      <td>0.006006</td>\n",
       "      <td>5</td>\n",
       "    </tr>\n",
       "    <tr>\n",
       "      <th>34</th>\n",
       "      <td>0.050676</td>\n",
       "      <td>0.012156</td>\n",
       "      <td>0.002915</td>\n",
       "      <td>0.002789</td>\n",
       "      <td>5.96362</td>\n",
       "      <td>{'C': 5.963623316594643}</td>\n",
       "      <td>0.773526</td>\n",
       "      <td>0.771160</td>\n",
       "      <td>0.775258</td>\n",
       "      <td>0.761329</td>\n",
       "      <td>0.777320</td>\n",
       "      <td>0.771719</td>\n",
       "      <td>0.005575</td>\n",
       "      <td>6</td>\n",
       "    </tr>\n",
       "    <tr>\n",
       "      <th>35</th>\n",
       "      <td>0.040311</td>\n",
       "      <td>0.002140</td>\n",
       "      <td>0.003148</td>\n",
       "      <td>0.002068</td>\n",
       "      <td>7.19686</td>\n",
       "      <td>{'C': 7.196856730011514}</td>\n",
       "      <td>0.773526</td>\n",
       "      <td>0.771160</td>\n",
       "      <td>0.775258</td>\n",
       "      <td>0.761329</td>\n",
       "      <td>0.777320</td>\n",
       "      <td>0.771719</td>\n",
       "      <td>0.005575</td>\n",
       "      <td>6</td>\n",
       "    </tr>\n",
       "    <tr>\n",
       "      <th>36</th>\n",
       "      <td>0.042340</td>\n",
       "      <td>0.002631</td>\n",
       "      <td>0.003383</td>\n",
       "      <td>0.001736</td>\n",
       "      <td>8.68511</td>\n",
       "      <td>{'C': 8.68511373751352}</td>\n",
       "      <td>0.773526</td>\n",
       "      <td>0.771967</td>\n",
       "      <td>0.775258</td>\n",
       "      <td>0.761329</td>\n",
       "      <td>0.776058</td>\n",
       "      <td>0.771628</td>\n",
       "      <td>0.005340</td>\n",
       "      <td>9</td>\n",
       "    </tr>\n",
       "    <tr>\n",
       "      <th>37</th>\n",
       "      <td>0.043574</td>\n",
       "      <td>0.004923</td>\n",
       "      <td>0.003643</td>\n",
       "      <td>0.003532</td>\n",
       "      <td>10.4811</td>\n",
       "      <td>{'C': 10.481131341546853}</td>\n",
       "      <td>0.773526</td>\n",
       "      <td>0.771967</td>\n",
       "      <td>0.775258</td>\n",
       "      <td>0.761329</td>\n",
       "      <td>0.776058</td>\n",
       "      <td>0.771628</td>\n",
       "      <td>0.005340</td>\n",
       "      <td>9</td>\n",
       "    </tr>\n",
       "    <tr>\n",
       "      <th>38</th>\n",
       "      <td>0.042810</td>\n",
       "      <td>0.002406</td>\n",
       "      <td>0.003144</td>\n",
       "      <td>0.001730</td>\n",
       "      <td>12.6486</td>\n",
       "      <td>{'C': 12.648552168552959}</td>\n",
       "      <td>0.773526</td>\n",
       "      <td>0.771967</td>\n",
       "      <td>0.775258</td>\n",
       "      <td>0.761329</td>\n",
       "      <td>0.776058</td>\n",
       "      <td>0.771628</td>\n",
       "      <td>0.005340</td>\n",
       "      <td>9</td>\n",
       "    </tr>\n",
       "    <tr>\n",
       "      <th>39</th>\n",
       "      <td>0.043420</td>\n",
       "      <td>0.002281</td>\n",
       "      <td>0.001641</td>\n",
       "      <td>0.001647</td>\n",
       "      <td>15.2642</td>\n",
       "      <td>{'C': 15.264179671752318}</td>\n",
       "      <td>0.772257</td>\n",
       "      <td>0.771967</td>\n",
       "      <td>0.775258</td>\n",
       "      <td>0.761329</td>\n",
       "      <td>0.776058</td>\n",
       "      <td>0.771374</td>\n",
       "      <td>0.005273</td>\n",
       "      <td>20</td>\n",
       "    </tr>\n",
       "    <tr>\n",
       "      <th>40</th>\n",
       "      <td>0.060097</td>\n",
       "      <td>0.006340</td>\n",
       "      <td>0.006927</td>\n",
       "      <td>0.002766</td>\n",
       "      <td>18.4207</td>\n",
       "      <td>{'C': 18.420699693267146}</td>\n",
       "      <td>0.772257</td>\n",
       "      <td>0.771967</td>\n",
       "      <td>0.775258</td>\n",
       "      <td>0.761329</td>\n",
       "      <td>0.776058</td>\n",
       "      <td>0.771374</td>\n",
       "      <td>0.005273</td>\n",
       "      <td>20</td>\n",
       "    </tr>\n",
       "    <tr>\n",
       "      <th>41</th>\n",
       "      <td>0.054398</td>\n",
       "      <td>0.004520</td>\n",
       "      <td>0.005563</td>\n",
       "      <td>0.002573</td>\n",
       "      <td>22.23</td>\n",
       "      <td>{'C': 22.229964825261934}</td>\n",
       "      <td>0.772257</td>\n",
       "      <td>0.771967</td>\n",
       "      <td>0.775258</td>\n",
       "      <td>0.761329</td>\n",
       "      <td>0.776058</td>\n",
       "      <td>0.771374</td>\n",
       "      <td>0.005273</td>\n",
       "      <td>20</td>\n",
       "    </tr>\n",
       "    <tr>\n",
       "      <th>42</th>\n",
       "      <td>0.057006</td>\n",
       "      <td>0.004035</td>\n",
       "      <td>0.004565</td>\n",
       "      <td>0.003920</td>\n",
       "      <td>26.827</td>\n",
       "      <td>{'C': 26.826957952797247}</td>\n",
       "      <td>0.772257</td>\n",
       "      <td>0.771967</td>\n",
       "      <td>0.775258</td>\n",
       "      <td>0.761329</td>\n",
       "      <td>0.776058</td>\n",
       "      <td>0.771374</td>\n",
       "      <td>0.005273</td>\n",
       "      <td>20</td>\n",
       "    </tr>\n",
       "    <tr>\n",
       "      <th>43</th>\n",
       "      <td>0.056160</td>\n",
       "      <td>0.002818</td>\n",
       "      <td>0.004015</td>\n",
       "      <td>0.003901</td>\n",
       "      <td>32.3746</td>\n",
       "      <td>{'C': 32.374575428176435}</td>\n",
       "      <td>0.772257</td>\n",
       "      <td>0.771967</td>\n",
       "      <td>0.775258</td>\n",
       "      <td>0.761329</td>\n",
       "      <td>0.776058</td>\n",
       "      <td>0.771374</td>\n",
       "      <td>0.005273</td>\n",
       "      <td>20</td>\n",
       "    </tr>\n",
       "    <tr>\n",
       "      <th>44</th>\n",
       "      <td>0.039797</td>\n",
       "      <td>0.001660</td>\n",
       "      <td>0.001813</td>\n",
       "      <td>0.001155</td>\n",
       "      <td>39.0694</td>\n",
       "      <td>{'C': 39.06939937054613}</td>\n",
       "      <td>0.772257</td>\n",
       "      <td>0.771967</td>\n",
       "      <td>0.775258</td>\n",
       "      <td>0.761329</td>\n",
       "      <td>0.776058</td>\n",
       "      <td>0.771374</td>\n",
       "      <td>0.005273</td>\n",
       "      <td>20</td>\n",
       "    </tr>\n",
       "    <tr>\n",
       "      <th>45</th>\n",
       "      <td>0.038071</td>\n",
       "      <td>0.002368</td>\n",
       "      <td>0.003865</td>\n",
       "      <td>0.001656</td>\n",
       "      <td>47.1487</td>\n",
       "      <td>{'C': 47.1486636345739}</td>\n",
       "      <td>0.772257</td>\n",
       "      <td>0.771967</td>\n",
       "      <td>0.775258</td>\n",
       "      <td>0.761329</td>\n",
       "      <td>0.776058</td>\n",
       "      <td>0.771374</td>\n",
       "      <td>0.005273</td>\n",
       "      <td>20</td>\n",
       "    </tr>\n",
       "    <tr>\n",
       "      <th>46</th>\n",
       "      <td>0.041358</td>\n",
       "      <td>0.003309</td>\n",
       "      <td>0.003059</td>\n",
       "      <td>0.002129</td>\n",
       "      <td>56.8987</td>\n",
       "      <td>{'C': 56.89866029018293}</td>\n",
       "      <td>0.772257</td>\n",
       "      <td>0.771967</td>\n",
       "      <td>0.775258</td>\n",
       "      <td>0.761329</td>\n",
       "      <td>0.777320</td>\n",
       "      <td>0.771626</td>\n",
       "      <td>0.005516</td>\n",
       "      <td>12</td>\n",
       "    </tr>\n",
       "    <tr>\n",
       "      <th>47</th>\n",
       "      <td>0.037161</td>\n",
       "      <td>0.007460</td>\n",
       "      <td>0.001218</td>\n",
       "      <td>0.001148</td>\n",
       "      <td>68.6649</td>\n",
       "      <td>{'C': 68.66488450042998}</td>\n",
       "      <td>0.772257</td>\n",
       "      <td>0.771967</td>\n",
       "      <td>0.775258</td>\n",
       "      <td>0.761329</td>\n",
       "      <td>0.777320</td>\n",
       "      <td>0.771626</td>\n",
       "      <td>0.005516</td>\n",
       "      <td>12</td>\n",
       "    </tr>\n",
       "    <tr>\n",
       "      <th>48</th>\n",
       "      <td>0.061835</td>\n",
       "      <td>0.007750</td>\n",
       "      <td>0.005644</td>\n",
       "      <td>0.002089</td>\n",
       "      <td>82.8643</td>\n",
       "      <td>{'C': 82.86427728546842}</td>\n",
       "      <td>0.772257</td>\n",
       "      <td>0.771967</td>\n",
       "      <td>0.775258</td>\n",
       "      <td>0.761329</td>\n",
       "      <td>0.777320</td>\n",
       "      <td>0.771626</td>\n",
       "      <td>0.005516</td>\n",
       "      <td>12</td>\n",
       "    </tr>\n",
       "    <tr>\n",
       "      <th>49</th>\n",
       "      <td>0.061627</td>\n",
       "      <td>0.003967</td>\n",
       "      <td>0.003501</td>\n",
       "      <td>0.003899</td>\n",
       "      <td>100</td>\n",
       "      <td>{'C': 100.0}</td>\n",
       "      <td>0.772257</td>\n",
       "      <td>0.771967</td>\n",
       "      <td>0.775258</td>\n",
       "      <td>0.761329</td>\n",
       "      <td>0.777320</td>\n",
       "      <td>0.771626</td>\n",
       "      <td>0.005516</td>\n",
       "      <td>12</td>\n",
       "    </tr>\n",
       "  </tbody>\n",
       "</table>\n",
       "</div>"
      ],
      "text/plain": [
       "    mean_fit_time  std_fit_time  mean_score_time  std_score_time    param_C  \\\n",
       "0        0.034674      0.008560         0.002397        0.001957       0.01   \n",
       "1        0.045883      0.005623         0.003905        0.003629  0.0120679   \n",
       "2        0.042101      0.005563         0.004121        0.003485  0.0145635   \n",
       "3        0.031214      0.002714         0.002978        0.001508  0.0175751   \n",
       "4        0.026212      0.007636         0.003659        0.001617  0.0212095   \n",
       "5        0.035224      0.002017         0.003561        0.001394  0.0255955   \n",
       "6        0.035239      0.003939         0.002451        0.001383  0.0308884   \n",
       "7        0.032060      0.003455         0.002588        0.002337  0.0372759   \n",
       "8        0.027412      0.010521         0.001825        0.002298  0.0449843   \n",
       "9        0.029966      0.007168         0.003999        0.001208  0.0542868   \n",
       "10       0.038513      0.009024         0.003447        0.001858  0.0655129   \n",
       "11       0.037053      0.001765         0.003997        0.000654  0.0790604   \n",
       "12       0.038806      0.003184         0.004899        0.002637  0.0954095   \n",
       "13       0.038073      0.002941         0.006131        0.003285    0.11514   \n",
       "14       0.040117      0.001373         0.003015        0.000427    0.13895   \n",
       "15       0.041618      0.002682         0.003342        0.001230   0.167683   \n",
       "16       0.047118      0.011136         0.001951        0.001017   0.202359   \n",
       "17       0.067471      0.004943         0.007994        0.001986   0.244205   \n",
       "18       0.068818      0.002900         0.006468        0.001644   0.294705   \n",
       "19       0.068652      0.002316         0.008219        0.001250   0.355648   \n",
       "20       0.065660      0.005573         0.007049        0.001467   0.429193   \n",
       "21       0.042387      0.004980         0.005955        0.001063   0.517947   \n",
       "22       0.054848      0.007967         0.005416        0.003275   0.625055   \n",
       "23       0.035978      0.001276         0.002616        0.000385   0.754312   \n",
       "24       0.038348      0.004902         0.004386        0.002193   0.910298   \n",
       "25       0.046020      0.002844         0.004878        0.004237    1.09854   \n",
       "26       0.044718      0.001899         0.004141        0.000503    1.32571   \n",
       "27       0.044478      0.001985         0.003970        0.000489    1.59986   \n",
       "28       0.043516      0.003870         0.001113        0.002225     1.9307   \n",
       "29       0.065497      0.005403         0.006732        0.001615    2.32995   \n",
       "30       0.045841      0.012514         0.004395        0.001959    2.81177   \n",
       "31       0.039945      0.005421         0.003014        0.002254    3.39322   \n",
       "32       0.053297      0.012564         0.004457        0.003440    4.09492   \n",
       "33       0.057092      0.007502         0.003334        0.002656    4.94171   \n",
       "34       0.050676      0.012156         0.002915        0.002789    5.96362   \n",
       "35       0.040311      0.002140         0.003148        0.002068    7.19686   \n",
       "36       0.042340      0.002631         0.003383        0.001736    8.68511   \n",
       "37       0.043574      0.004923         0.003643        0.003532    10.4811   \n",
       "38       0.042810      0.002406         0.003144        0.001730    12.6486   \n",
       "39       0.043420      0.002281         0.001641        0.001647    15.2642   \n",
       "40       0.060097      0.006340         0.006927        0.002766    18.4207   \n",
       "41       0.054398      0.004520         0.005563        0.002573      22.23   \n",
       "42       0.057006      0.004035         0.004565        0.003920     26.827   \n",
       "43       0.056160      0.002818         0.004015        0.003901    32.3746   \n",
       "44       0.039797      0.001660         0.001813        0.001155    39.0694   \n",
       "45       0.038071      0.002368         0.003865        0.001656    47.1487   \n",
       "46       0.041358      0.003309         0.003059        0.002129    56.8987   \n",
       "47       0.037161      0.007460         0.001218        0.001148    68.6649   \n",
       "48       0.061835      0.007750         0.005644        0.002089    82.8643   \n",
       "49       0.061627      0.003967         0.003501        0.003899        100   \n",
       "\n",
       "                         params  split0_test_score  split1_test_score  \\\n",
       "0                   {'C': 0.01}           0.773663           0.765073   \n",
       "1   {'C': 0.012067926406393288}           0.775258           0.769710   \n",
       "2   {'C': 0.014563484775012436}           0.776519           0.775130   \n",
       "3   {'C': 0.017575106248547922}           0.774459           0.776398   \n",
       "4   {'C': 0.021209508879201904}           0.771930           0.775130   \n",
       "5   {'C': 0.025595479226995357}           0.770661           0.774327   \n",
       "6   {'C': 0.030888435964774818}           0.769866           0.771458   \n",
       "7     {'C': 0.0372759372031494}           0.769866           0.772257   \n",
       "8    {'C': 0.04498432668969444}           0.769390           0.770984   \n",
       "9   {'C': 0.054286754393238594}           0.768116           0.771310   \n",
       "10    {'C': 0.0655128556859551}           0.768116           0.770833   \n",
       "11   {'C': 0.07906043210907697}           0.768116           0.770833   \n",
       "12   {'C': 0.09540954763499938}           0.770186           0.772917   \n",
       "13    {'C': 0.1151395399326447}           0.770186           0.774194   \n",
       "14   {'C': 0.13894954943731375}           0.769710           0.774194   \n",
       "15   {'C': 0.16768329368110074}           0.769710           0.775468   \n",
       "16   {'C': 0.20235896477251566}           0.769710           0.774194   \n",
       "17    {'C': 0.2442053094548651}           0.770984           0.774194   \n",
       "18   {'C': 0.29470517025518095}           0.770984           0.774194   \n",
       "19   {'C': 0.35564803062231287}           0.770984           0.775000   \n",
       "20   {'C': 0.42919342601287763}           0.770984           0.775000   \n",
       "21     {'C': 0.517947467923121}           0.772257           0.775000   \n",
       "22    {'C': 0.6250551925273969}           0.773526           0.775000   \n",
       "23    {'C': 0.7543120063354615}           0.773526           0.773723   \n",
       "24    {'C': 0.9102981779915218}           0.772257           0.773723   \n",
       "25    {'C': 1.0985411419875584}           0.772257           0.772443   \n",
       "26     {'C': 1.325711365590108}           0.773057           0.772443   \n",
       "27    {'C': 1.5998587196060574}           0.774327           0.771160   \n",
       "28    {'C': 1.9306977288832496}           0.774327           0.771160   \n",
       "29     {'C': 2.329951810515372}           0.774327           0.769874   \n",
       "30     {'C': 2.811768697974228}           0.774327           0.769874   \n",
       "31    {'C': 3.3932217718953264}           0.774327           0.769874   \n",
       "32     {'C': 4.094915062380423}           0.773526           0.769874   \n",
       "33     {'C': 4.941713361323833}           0.773526           0.769874   \n",
       "34     {'C': 5.963623316594643}           0.773526           0.771160   \n",
       "35     {'C': 7.196856730011514}           0.773526           0.771160   \n",
       "36      {'C': 8.68511373751352}           0.773526           0.771967   \n",
       "37    {'C': 10.481131341546853}           0.773526           0.771967   \n",
       "38    {'C': 12.648552168552959}           0.773526           0.771967   \n",
       "39    {'C': 15.264179671752318}           0.772257           0.771967   \n",
       "40    {'C': 18.420699693267146}           0.772257           0.771967   \n",
       "41    {'C': 22.229964825261934}           0.772257           0.771967   \n",
       "42    {'C': 26.826957952797247}           0.772257           0.771967   \n",
       "43    {'C': 32.374575428176435}           0.772257           0.771967   \n",
       "44     {'C': 39.06939937054613}           0.772257           0.771967   \n",
       "45      {'C': 47.1486636345739}           0.772257           0.771967   \n",
       "46     {'C': 56.89866029018293}           0.772257           0.771967   \n",
       "47     {'C': 68.66488450042998}           0.772257           0.771967   \n",
       "48     {'C': 82.86427728546842}           0.772257           0.771967   \n",
       "49                 {'C': 100.0}           0.772257           0.771967   \n",
       "\n",
       "    split2_test_score  split3_test_score  split4_test_score  mean_test_score  \\\n",
       "0            0.771930           0.761044           0.778689         0.770080   \n",
       "1            0.773196           0.759036           0.779487         0.771337   \n",
       "2            0.769072           0.757028           0.776978         0.770945   \n",
       "3            0.767802           0.758275           0.776181         0.770623   \n",
       "4            0.768595           0.758275           0.776181         0.770022   \n",
       "5            0.769390           0.759519           0.775720         0.769923   \n",
       "6            0.771930           0.759799           0.776978         0.770006   \n",
       "7            0.769866           0.758551           0.775720         0.769252   \n",
       "8            0.771134           0.758551           0.775720         0.769156   \n",
       "9            0.773196           0.759036           0.775720         0.769476   \n",
       "10           0.773196           0.759036           0.777778         0.769792   \n",
       "11           0.774459           0.759036           0.777320         0.769953   \n",
       "12           0.774459           0.759036           0.777320         0.770784   \n",
       "13           0.775258           0.757789           0.777320         0.770949   \n",
       "14           0.775258           0.757789           0.777320         0.770854   \n",
       "15           0.775258           0.757789           0.777320         0.771109   \n",
       "16           0.775258           0.758551           0.776058         0.770754   \n",
       "17           0.775258           0.758551           0.776058         0.771009   \n",
       "18           0.775258           0.758551           0.776058         0.771009   \n",
       "19           0.775258           0.758551           0.776058         0.771170   \n",
       "20           0.775258           0.758551           0.776058         0.771170   \n",
       "21           0.774793           0.758551           0.777320         0.771584   \n",
       "22           0.774793           0.759315           0.777320         0.771991   \n",
       "23           0.773526           0.759315           0.777320         0.771482   \n",
       "24           0.773526           0.758065           0.777320         0.770978   \n",
       "25           0.773526           0.758065           0.777320         0.770722   \n",
       "26           0.774327           0.758829           0.777320         0.771195   \n",
       "27           0.774327           0.760081           0.777320         0.771443   \n",
       "28           0.775595           0.760081           0.778579         0.771948   \n",
       "29           0.774327           0.760081           0.778579         0.771438   \n",
       "30           0.774327           0.761329           0.778579         0.771687   \n",
       "31           0.775595           0.761329           0.778579         0.771941   \n",
       "32           0.776860           0.761329           0.778579         0.772034   \n",
       "33           0.776058           0.761329           0.778579         0.771873   \n",
       "34           0.775258           0.761329           0.777320         0.771719   \n",
       "35           0.775258           0.761329           0.777320         0.771719   \n",
       "36           0.775258           0.761329           0.776058         0.771628   \n",
       "37           0.775258           0.761329           0.776058         0.771628   \n",
       "38           0.775258           0.761329           0.776058         0.771628   \n",
       "39           0.775258           0.761329           0.776058         0.771374   \n",
       "40           0.775258           0.761329           0.776058         0.771374   \n",
       "41           0.775258           0.761329           0.776058         0.771374   \n",
       "42           0.775258           0.761329           0.776058         0.771374   \n",
       "43           0.775258           0.761329           0.776058         0.771374   \n",
       "44           0.775258           0.761329           0.776058         0.771374   \n",
       "45           0.775258           0.761329           0.776058         0.771374   \n",
       "46           0.775258           0.761329           0.777320         0.771626   \n",
       "47           0.775258           0.761329           0.777320         0.771626   \n",
       "48           0.775258           0.761329           0.777320         0.771626   \n",
       "49           0.775258           0.761329           0.777320         0.771626   \n",
       "\n",
       "    std_test_score  rank_test_score  \n",
       "0         0.006278               42  \n",
       "1         0.006917               27  \n",
       "2         0.007512               36  \n",
       "3         0.006919               41  \n",
       "4         0.006445               43  \n",
       "5         0.005693               46  \n",
       "6         0.005633               44  \n",
       "7         0.005764               49  \n",
       "8         0.005707               50  \n",
       "9         0.005780               48  \n",
       "10        0.006244               47  \n",
       "11        0.006291               45  \n",
       "12        0.006311               38  \n",
       "13        0.006978               35  \n",
       "14        0.006991               37  \n",
       "15        0.007130               31  \n",
       "16        0.006484               39  \n",
       "17        0.006463               32  \n",
       "18        0.006463               32  \n",
       "19        0.006550               29  \n",
       "20        0.006550               29  \n",
       "21        0.006711               16  \n",
       "22        0.006455                2  \n",
       "23        0.006253               17  \n",
       "24        0.006673               34  \n",
       "25        0.006587               40  \n",
       "26        0.006407               28  \n",
       "27        0.006006               18  \n",
       "28        0.006393                3  \n",
       "29        0.006311               19  \n",
       "30        0.005865                8  \n",
       "31        0.006000                4  \n",
       "32        0.006125                1  \n",
       "33        0.006006                5  \n",
       "34        0.005575                6  \n",
       "35        0.005575                6  \n",
       "36        0.005340                9  \n",
       "37        0.005340                9  \n",
       "38        0.005340                9  \n",
       "39        0.005273               20  \n",
       "40        0.005273               20  \n",
       "41        0.005273               20  \n",
       "42        0.005273               20  \n",
       "43        0.005273               20  \n",
       "44        0.005273               20  \n",
       "45        0.005273               20  \n",
       "46        0.005516               12  \n",
       "47        0.005516               12  \n",
       "48        0.005516               12  \n",
       "49        0.005516               12  "
      ]
     },
     "execution_count": 29,
     "metadata": {},
     "output_type": "execute_result"
    }
   ],
   "source": [
    "pd.DataFrame(grid_ridge.cv_results_)"
   ]
  },
  {
   "cell_type": "markdown",
   "id": "dc7536da",
   "metadata": {},
   "source": [
    "Le tableau nous donne comme valeur optimale : $C = \\frac{1}{\\lambda} = 4.094915062380423$"
   ]
  },
  {
   "cell_type": "markdown",
   "id": "7fcf3583",
   "metadata": {
    "tags": []
   },
   "source": [
    "#### Question 13.b\n",
    "Quel est le F-score, sur le jeu de test, d'une régression logistique avec régularisation ridge et ce coefficient de régularisation optimal, entraînée sur le jeu d'entraînement ?"
   ]
  },
  {
   "cell_type": "code",
   "execution_count": 30,
   "id": "88a48655",
   "metadata": {},
   "outputs": [],
   "source": [
    "predict_ridge = grid_ridge.best_estimator_\n",
    "predict_ridge.fit(X_train,y_train)\n",
    "y_pred_ridge=predict_ridge.predict(X_test)"
   ]
  },
  {
   "cell_type": "code",
   "execution_count": 31,
   "id": "3eb542a6",
   "metadata": {},
   "outputs": [
    {
     "name": "stdout",
     "output_type": "stream",
     "text": [
      "performance sur le set de test : 0.7765869744435284\n"
     ]
    }
   ],
   "source": [
    "f1_logreg_ridge = metrics.f1_score(y_pred_ridge,y_test)\n",
    "print(\"performance sur le set de test : {}\".format(f1_logreg_ridge))"
   ]
  },
  {
   "cell_type": "markdown",
   "id": "0d930300",
   "metadata": {},
   "source": [
    "#### Question 13.c\n",
    "Commentez ce résultat en regard de votre réponse à la question 12."
   ]
  },
  {
   "cell_type": "markdown",
   "id": "ef5b5fd8",
   "metadata": {},
   "source": [
    "Comme on s'y attendait, même en optimisant le coefficient de régularisation L2, nous n'obtenons pas de meilleures performances car il n'y a pas eu de sur apprentissage. "
   ]
  },
  {
   "cell_type": "markdown",
   "id": "bb8d5aa0",
   "metadata": {},
   "source": [
    "#### Question 14\n",
    "\n",
    "Entraînez une forêt aléatoire sur le jeu d'entraînement et évaluez son F-score sur le jeu de test.\n",
    "\n",
    "__Conseils :__\n",
    "* Vous trouverez les outils nécessaires dans la classe `RandomForestClassifier` du module `ensemble` de `scikit-learn`.\n",
    "* Choisissez le nombre d'arbres par validation croisée."
   ]
  },
  {
   "cell_type": "code",
   "execution_count": 32,
   "id": "44926bb1",
   "metadata": {},
   "outputs": [
    {
     "data": {
      "text/html": [
       "<div>\n",
       "<style scoped>\n",
       "    .dataframe tbody tr th:only-of-type {\n",
       "        vertical-align: middle;\n",
       "    }\n",
       "\n",
       "    .dataframe tbody tr th {\n",
       "        vertical-align: top;\n",
       "    }\n",
       "\n",
       "    .dataframe thead th {\n",
       "        text-align: right;\n",
       "    }\n",
       "</style>\n",
       "<table border=\"1\" class=\"dataframe\">\n",
       "  <thead>\n",
       "    <tr style=\"text-align: right;\">\n",
       "      <th></th>\n",
       "      <th>mean_fit_time</th>\n",
       "      <th>std_fit_time</th>\n",
       "      <th>mean_score_time</th>\n",
       "      <th>std_score_time</th>\n",
       "      <th>param_n_estimators</th>\n",
       "      <th>params</th>\n",
       "      <th>split0_test_score</th>\n",
       "      <th>split1_test_score</th>\n",
       "      <th>split2_test_score</th>\n",
       "      <th>split3_test_score</th>\n",
       "      <th>split4_test_score</th>\n",
       "      <th>mean_test_score</th>\n",
       "      <th>std_test_score</th>\n",
       "      <th>rank_test_score</th>\n",
       "    </tr>\n",
       "  </thead>\n",
       "  <tbody>\n",
       "    <tr>\n",
       "      <th>0</th>\n",
       "      <td>5.293355</td>\n",
       "      <td>0.458981</td>\n",
       "      <td>0.173761</td>\n",
       "      <td>0.006293</td>\n",
       "      <td>300</td>\n",
       "      <td>{'n_estimators': 300}</td>\n",
       "      <td>0.937374</td>\n",
       "      <td>0.933868</td>\n",
       "      <td>0.926441</td>\n",
       "      <td>0.928929</td>\n",
       "      <td>0.935354</td>\n",
       "      <td>0.932393</td>\n",
       "      <td>0.004078</td>\n",
       "      <td>4</td>\n",
       "    </tr>\n",
       "    <tr>\n",
       "      <th>1</th>\n",
       "      <td>6.082190</td>\n",
       "      <td>0.466654</td>\n",
       "      <td>0.194921</td>\n",
       "      <td>0.005781</td>\n",
       "      <td>400</td>\n",
       "      <td>{'n_estimators': 400}</td>\n",
       "      <td>0.930653</td>\n",
       "      <td>0.934804</td>\n",
       "      <td>0.931069</td>\n",
       "      <td>0.931864</td>\n",
       "      <td>0.933468</td>\n",
       "      <td>0.932372</td>\n",
       "      <td>0.001551</td>\n",
       "      <td>5</td>\n",
       "    </tr>\n",
       "    <tr>\n",
       "      <th>2</th>\n",
       "      <td>7.067663</td>\n",
       "      <td>0.037974</td>\n",
       "      <td>0.247296</td>\n",
       "      <td>0.010479</td>\n",
       "      <td>500</td>\n",
       "      <td>{'n_estimators': 500}</td>\n",
       "      <td>0.935484</td>\n",
       "      <td>0.933868</td>\n",
       "      <td>0.930931</td>\n",
       "      <td>0.933067</td>\n",
       "      <td>0.933333</td>\n",
       "      <td>0.933337</td>\n",
       "      <td>0.001466</td>\n",
       "      <td>1</td>\n",
       "    </tr>\n",
       "    <tr>\n",
       "      <th>3</th>\n",
       "      <td>8.754397</td>\n",
       "      <td>0.088640</td>\n",
       "      <td>0.293432</td>\n",
       "      <td>0.007426</td>\n",
       "      <td>600</td>\n",
       "      <td>{'n_estimators': 600}</td>\n",
       "      <td>0.934542</td>\n",
       "      <td>0.933868</td>\n",
       "      <td>0.930000</td>\n",
       "      <td>0.930931</td>\n",
       "      <td>0.934542</td>\n",
       "      <td>0.932776</td>\n",
       "      <td>0.001926</td>\n",
       "      <td>3</td>\n",
       "    </tr>\n",
       "    <tr>\n",
       "      <th>4</th>\n",
       "      <td>9.710247</td>\n",
       "      <td>1.276770</td>\n",
       "      <td>0.360221</td>\n",
       "      <td>0.027296</td>\n",
       "      <td>700</td>\n",
       "      <td>{'n_estimators': 700}</td>\n",
       "      <td>0.935484</td>\n",
       "      <td>0.933868</td>\n",
       "      <td>0.933200</td>\n",
       "      <td>0.930792</td>\n",
       "      <td>0.933333</td>\n",
       "      <td>0.933336</td>\n",
       "      <td>0.001509</td>\n",
       "      <td>2</td>\n",
       "    </tr>\n",
       "  </tbody>\n",
       "</table>\n",
       "</div>"
      ],
      "text/plain": [
       "   mean_fit_time  std_fit_time  mean_score_time  std_score_time  \\\n",
       "0       5.293355      0.458981         0.173761        0.006293   \n",
       "1       6.082190      0.466654         0.194921        0.005781   \n",
       "2       7.067663      0.037974         0.247296        0.010479   \n",
       "3       8.754397      0.088640         0.293432        0.007426   \n",
       "4       9.710247      1.276770         0.360221        0.027296   \n",
       "\n",
       "  param_n_estimators                 params  split0_test_score  \\\n",
       "0                300  {'n_estimators': 300}           0.937374   \n",
       "1                400  {'n_estimators': 400}           0.930653   \n",
       "2                500  {'n_estimators': 500}           0.935484   \n",
       "3                600  {'n_estimators': 600}           0.934542   \n",
       "4                700  {'n_estimators': 700}           0.935484   \n",
       "\n",
       "   split1_test_score  split2_test_score  split3_test_score  split4_test_score  \\\n",
       "0           0.933868           0.926441           0.928929           0.935354   \n",
       "1           0.934804           0.931069           0.931864           0.933468   \n",
       "2           0.933868           0.930931           0.933067           0.933333   \n",
       "3           0.933868           0.930000           0.930931           0.934542   \n",
       "4           0.933868           0.933200           0.930792           0.933333   \n",
       "\n",
       "   mean_test_score  std_test_score  rank_test_score  \n",
       "0         0.932393        0.004078                4  \n",
       "1         0.932372        0.001551                5  \n",
       "2         0.933337        0.001466                1  \n",
       "3         0.932776        0.001926                3  \n",
       "4         0.933336        0.001509                2  "
      ]
     },
     "execution_count": 32,
     "metadata": {},
     "output_type": "execute_result"
    }
   ],
   "source": [
    "from sklearn.ensemble import RandomForestClassifier\n",
    "\n",
    "predictor_forest = RandomForestClassifier()\n",
    "n_values = np.arange(300, 800, 100)\n",
    "# define gridsearch\n",
    "tuned_parameters = [{'n_estimators': n_values}]\n",
    "nb_folds = 5\n",
    "grid_forest = GridSearchCV(predictor_forest, tuned_parameters, cv=nb_folds, refit=True, scoring=metrics.make_scorer(metrics.f1_score))\n",
    "grid_forest.fit(X_train, y_train)\n",
    "\n",
    "pd.DataFrame(grid_forest.cv_results_)"
   ]
  },
  {
   "cell_type": "code",
   "execution_count": 33,
   "id": "69ab7063",
   "metadata": {},
   "outputs": [
    {
     "name": "stdout",
     "output_type": "stream",
     "text": [
      "performances sur le set de test : 0.9333365607539763\n"
     ]
    }
   ],
   "source": [
    "predict_forest = grid_forest.best_estimator_\n",
    "predict_forest.fit(X_train,y_train)\n",
    "y_pred_forest=predict_ridge.predict(X_test)\n",
    "f1_forest = grid_forest.best_score_\n",
    "print(\"performances sur le set de test : {}\".format(f1_forest))"
   ]
  },
  {
   "cell_type": "markdown",
   "id": "ca70a3f1",
   "metadata": {},
   "source": [
    "## Modèle final"
   ]
  },
  {
   "cell_type": "markdown",
   "id": "8976321c",
   "metadata": {},
   "source": [
    "#### Question 15.a\n",
    "Visualisez les performances des différents modèles (et pré-traitements) que vous avez évalués sur le jeu de test."
   ]
  },
  {
   "cell_type": "code",
   "execution_count": 34,
   "id": "59da4ab4",
   "metadata": {},
   "outputs": [
    {
     "data": {
      "image/png": "[encoded data removed]",
      "text/plain": [
       "<Figure size 1152x648 with 1 Axes>"
      ]
     },
     "metadata": {
      "needs_background": "light"
     },
     "output_type": "display_data"
    }
   ],
   "source": [
    "fig = plt.figure(figsize=(16, 9))\n",
    "\n",
    "\n",
    "import numpy as np\n",
    "import matplotlib.pyplot as plt\n",
    " \n",
    "\n",
    "    \n",
    "data = {'Neighbors initial':f1_5NN, 'Neighbors grid':f1_neigh_grid, 'Logistic Regression reg : none':f1_logreg_none,\n",
    "        'Logistic Regression reg : L2':f1_logreg_ridge, 'Random tree forest grid': f1_forest }\n",
    "model = list(data.keys())\n",
    "f1_score = list(data.values())\n",
    "  \n",
    "\n",
    "plt.bar(model, f1_score,\n",
    "        width = 0.4)\n",
    "plt.ylabel(\"F1 score\")\n",
    "for index, value in enumerate(f1_score):\n",
    "    plt.text(index -0.05 , value+0.01, str(round(value*100,1))+\"%\", fontweight = 'bold')\n",
    "plt.title(\"Performance comparision\")\n",
    "plt.show()\n"
   ]
  },
  {
   "cell_type": "markdown",
   "id": "eb5ccc23",
   "metadata": {},
   "source": [
    "#### Question 15.b\n",
    "Utilisez cette figure pour __sélectionner votre modèle favori__. Quel pré-traitement choisissez-vous ? Quel algorithme choisissez-vous, avec quel hyper-paramètre ? "
   ]
  },
  {
   "cell_type": "markdown",
   "id": "a933c9f3",
   "metadata": {},
   "source": [
    "En se basant sur le F1-score, le modele ayant le meilleur score est celui utilisant une forêt aléatoire.\n",
    "L'hyper paramètre associé est n_estimators= 500"
   ]
  },
  {
   "cell_type": "markdown",
   "id": "9c0453b2",
   "metadata": {},
   "source": [
    "#### Question 16.a\n",
    "Chargez les données privées de `data/foret_prive.tsv` pour obtenir un array `X_private`. Le fichier suit la même syntaxe que `data/foret_public.tsv`, mais sans la colonne des étiquettes."
   ]
  },
  {
   "cell_type": "code",
   "execution_count": 35,
   "id": "68f294e7",
   "metadata": {},
   "outputs": [],
   "source": [
    "df_prive = pd.read_csv('data/foret_prive.tsv' , delimiter='\\t')\n",
    "X_private = np.array(df_prive)"
   ]
  },
  {
   "cell_type": "markdown",
   "id": "f498949e",
   "metadata": {},
   "source": [
    "#### Question 16.b\n",
    "Appliquez le pré-traitement que vous avez choisi à l'intégralité du jeu de données public `X_public` pour obtenir `X_public_preprocessed`."
   ]
  },
  {
   "cell_type": "code",
   "execution_count": 36,
   "id": "95abfbe3",
   "metadata": {},
   "outputs": [],
   "source": [
    "standard_scaler2 = preprocessing.StandardScaler()\n",
    "standard_scaler2.fit(X_public)\n",
    "X_public_preprocessed = standard_scaler2.transform(X_public)"
   ]
  },
  {
   "cell_type": "markdown",
   "id": "c863afe7",
   "metadata": {},
   "source": [
    "#### Question 16.c\n",
    "Appliquez à `X_private` le pré-traitement que vous avez choisi ; enregistrez le résultat dans `X_private_preprocessed`."
   ]
  },
  {
   "cell_type": "code",
   "execution_count": 37,
   "id": "956c31bb",
   "metadata": {},
   "outputs": [],
   "source": [
    "standard_scaler3 = preprocessing.StandardScaler()\n",
    "standard_scaler3.fit(X_private)\n",
    "X_private_preprocessed = standard_scaler3.transform(X_private)"
   ]
  },
  {
   "cell_type": "markdown",
   "id": "95c57b2f",
   "metadata": {},
   "source": [
    "#### Question 16.d\n",
    "Entraînez l'algorithme que vous avez sélectionné sur l'intégralité des données publiques `(X_public_processed, y_public)`. "
   ]
  },
  {
   "cell_type": "code",
   "execution_count": 38,
   "id": "fd566c3b",
   "metadata": {},
   "outputs": [
    {
     "data": {
      "text/plain": [
       "RandomForestClassifier(n_estimators=500)"
      ]
     },
     "execution_count": 38,
     "metadata": {},
     "output_type": "execute_result"
    }
   ],
   "source": [
    "predict_forest_final = RandomForestClassifier(n_estimators=500)\n",
    "predict_forest_final.fit(X_public_preprocessed,y_public)"
   ]
  },
  {
   "cell_type": "markdown",
   "id": "db04b074",
   "metadata": {},
   "source": [
    "#### Question 16.e\n",
    "Prédisez les étiquettes de `X_private_preprocessed` ; enregistrez le résultat dans un array `y_pred_final`"
   ]
  },
  {
   "cell_type": "code",
   "execution_count": 39,
   "id": "b828088c",
   "metadata": {},
   "outputs": [],
   "source": [
    "y_pred_final=predict_forest_final.predict(X_private_preprocessed)"
   ]
  },
  {
   "cell_type": "markdown",
   "id": "d05b0666",
   "metadata": {},
   "source": [
    "#### Question 16.f\n",
    "Utilisez le code suivant pour créer le fichier de prédictions que vous rendrez. \n",
    "\n",
    "__Attention__ Si vous ouvrez ce fichier avec un programme externe type Microsoft Excel ou LibreOffice Calc pour le lire, il est possible que ce programme modifie le fichier sans que vous ne le réalisiez. Préférez utiliser une commande bash type `less` ou `cat` ou éditeur de texte simple ; ou alors assurez-vous de relancer la commande."
   ]
  },
  {
   "cell_type": "code",
   "execution_count": 40,
   "id": "29fa6161",
   "metadata": {},
   "outputs": [],
   "source": [
    "# Save array to file\n",
    "np.savetxt(\"test_file.tsv\", \n",
    "           y_pred_final,\n",
    "           fmt=('%d'), \n",
    "           header='Prediction',\n",
    "           delimiter='\\t', comments=\"\")"
   ]
  },
  {
   "cell_type": "markdown",
   "id": "f4fb36c5",
   "metadata": {},
   "source": [
    "## Bonus"
   ]
  },
  {
   "cell_type": "markdown",
   "id": "e4f7ff78",
   "metadata": {},
   "source": [
    "1. En alternative au F-score, utilisez des courbes ROC (et l'aire sous ces courbes) pour comparer vos modèles. Attention à utiliser les méthodes `predict_proba()` plutôt que `predict()` pour obtenir des scores non-seuillés plutôt que des prédictions binaires. Documentation pertinente : https://scikit-learn.org/stable/modules/generated/sklearn.metrics.plot_roc_curve.html et  https://scikit-learn.org/stable/modules/generated/sklearn.metrics.roc_auc_score.html.\n",
    "\n",
    "1. Explorez d'autres pré-traitements (comme par exemple le fait de réduire la dimension des données) et d'autres algorithmes d'apprentissage implémentés dans scikit-learn (par exemple SVM, perceptrons multi-couches) pour essayer d'améliorer vos prédictions et reprenez la question 15."
   ]
  },
  {
   "cell_type": "code",
   "execution_count": 41,
   "id": "202441c9",
   "metadata": {
    "scrolled": false
   },
   "outputs": [
    {
     "name": "stdout",
     "output_type": "stream",
     "text": [
      "Performance de KNN sur le set de test : 0.9066874027993779\n",
      "Performance de la régression Logistique sur le set de test : 0.7768595041322314\n",
      "Performance de la forêt aléatoire sur le set de test : 0.9404186795491144\n"
     ]
    }
   ],
   "source": [
    "#Pré-traitement : transformation minmax\n",
    "minmax_scaler = preprocessing.MinMaxScaler()\n",
    "minmax_scaler.fit(X_train)\n",
    "X_train_minmax = minmax_scaler.transform(X_train)\n",
    "X_test_minmax = minmax_scaler.transform(X_test)\n",
    "\n",
    "#KNN\n",
    "predictor_neigh_minmax = neighbors.KNeighborsClassifier()\n",
    "\n",
    "tuned_parameters = [{'n_neighbors': k_values}]\n",
    "nb_folds = 5\n",
    "grid_minmax_neigh = GridSearchCV(predictor_neigh_minmax, tuned_parameters, cv=nb_folds, refit=True, scoring=metrics.make_scorer(metrics.f1_score))\n",
    "grid_minmax_neigh.fit(X_train, y_train)\n",
    "\n",
    "neigh_minmax = grid_minmax_neigh.best_estimator_\n",
    "neigh_minmax.fit(X_train_minmax,y_train)\n",
    "f1_score_minmax_neigh = metrics.f1_score(y_test,neigh_minmax.predict(X_test_minmax))\n",
    "print(\"Performance de KNN sur le set de test : {}\".format(f1_score_minmax_neigh))\n",
    "\n",
    "#Regression Logistique pénalisée l2\n",
    "\n",
    "predictor_logreg_minmax = LogisticRegression(penalty='l2')\n",
    "tuned_parameters = [{'C': C_values}]\n",
    "nb_folds = 5\n",
    "grid_minmax_ridge = GridSearchCV(predictor_logreg_minmax, tuned_parameters, cv=nb_folds, refit=True, scoring=metrics.make_scorer(metrics.f1_score))\n",
    "grid_minmax_ridge.fit(X_train_minmax, y_train)\n",
    "\n",
    "logreg_minmax = grid_minmax_ridge.best_estimator_\n",
    "logreg_minmax.fit(X_train_minmax,y_train)\n",
    "f1_score_minmax_logreg = metrics.f1_score(y_test,logreg_minmax.predict(X_test_minmax))\n",
    "print(\"Performance de la régression Logistique sur le set de test : {}\".format(f1_score_minmax_logreg))\n",
    "\n",
    "#Forêt Aléatoire\n",
    "\n",
    "predictor_forest_minmax = RandomForestClassifier()\n",
    "n_values = np.arange(300, 800, 100)\n",
    "# define gridsearch\n",
    "tuned_parameters = [{'n_estimators': n_values}]\n",
    "nb_folds = 5\n",
    "grid_minmax_forest = GridSearchCV(predictor_forest_minmax, tuned_parameters, cv=nb_folds, refit=True, scoring=metrics.make_scorer(metrics.f1_score))\n",
    "grid_minmax_forest.fit(X_train_minmax, y_train)\n",
    "\n",
    "forest_minmax = grid_minmax_forest.best_estimator_\n",
    "forest_minmax.fit(X_train_minmax,y_train)\n",
    "f1_score_minmax_forest = metrics.f1_score(y_test,forest_minmax.predict(X_test_minmax))\n",
    "print(\"Performance de la forêt aléatoire sur le set de test : {}\".format(f1_score_minmax_forest))"
   ]
  },
  {
   "cell_type": "code",
   "execution_count": 42,
   "id": "50efed97",
   "metadata": {
    "scrolled": true
   },
   "outputs": [
    {
     "data": {
      "image/png": "[encoded data removed]",
      "text/plain": [
       "<Figure size 432x288 with 1 Axes>"
      ]
     },
     "metadata": {
      "needs_background": "light"
     },
     "output_type": "display_data"
    }
   ],
   "source": [
    "data = {'Neighbors initial':f1_5NN, 'Neighbors grid':f1_neigh_grid, 'Logistic Regression reg : none':f1_logreg_none,\n",
    "        'Logistic Regression reg : L2':f1_logreg_ridge, 'Random tree forest grid': f1_forest, \"Neighbors with MinMAx\" : f1_score_minmax_neigh,\n",
    "        \"Logistic Regresion MinMAx\" : f1_score_minmax_logreg, \"Forest MinMax\" : f1_score_minmax_forest}\n",
    "\n",
    "model = list(data.keys())\n",
    "f1_score = list(data.values())\n",
    "  \n",
    "\n",
    "plt.bar(model, f1_score,\n",
    "        width = 0.4)\n",
    "\n",
    "plt.ylabel(\"F1 score\")\n",
    "for index, value in enumerate(f1_score):\n",
    "    plt.text(index -0.05 , value+0.01, str(round(value*100,1))+\"%\", fontweight = 'bold')\n",
    "plt.xticks(rotation = 90)\n",
    "plt.title(\"Performance comparision\")\n",
    "plt.show()"
   ]
  },
  {
   "cell_type": "markdown",
   "id": "fe3f320d",
   "metadata": {},
   "source": [
    "Il semble donc qu'appliquer une transfromation minmax puis un algorithme de forêt alétoire conduirait à de meilleurs résultats"
   ]
  },
  {
   "cell_type": "markdown",
   "id": "2d54a3f1",
   "metadata": {},
   "source": [
    "Nous ne traitons pas la transformation Box-Cox car certaines valeurs sont négatives"
   ]
  },
  {
   "cell_type": "markdown",
   "id": "4fc5c3d7",
   "metadata": {},
   "source": [
    "Nous allons essayer de réduire la dimension :"
   ]
  },
  {
   "cell_type": "code",
   "execution_count": 43,
   "id": "270980bf",
   "metadata": {},
   "outputs": [
    {
     "data": {
      "image/png": "[encoded data removed]",
      "text/plain": [
       "<Figure size 432x288 with 1 Axes>"
      ]
     },
     "metadata": {
      "needs_background": "light"
     },
     "output_type": "display_data"
    }
   ],
   "source": [
    "#Réduction de dimension :\n",
    "\n",
    "from sklearn import decomposition\n",
    "pca = decomposition.PCA(n_components=10)\n",
    "pca.fit(X_train)\n",
    "\n",
    "cumulative_pca = [0]\n",
    "for e in pca.explained_variance_ratio_ :\n",
    "    cumulative_pca.append(e+cumulative_pca[-1])\n",
    "    \n",
    "plt.plot(np.arange(11), cumulative_pca, marker='o')\n",
    "\n",
    "plt.xlabel(\"Nombre de composantes principales\")\n",
    "plt.ylabel(\"Proportion de variance expliquée\")\n",
    "plt.show()"
   ]
  },
  {
   "cell_type": "markdown",
   "id": "7e897cd3",
   "metadata": {},
   "source": [
    "On se rend compte qu'avec 3 composantes il est possible d'expliquer plus de 50% de la variance, et qu'avec 6 composantes on peut monter à 90% de la variance.\n",
    "\n",
    "Nous allons comparer les résultats obtenus en projettant sur les 6 premières composantes."
   ]
  },
  {
   "cell_type": "code",
   "execution_count": 44,
   "id": "9d714836",
   "metadata": {},
   "outputs": [],
   "source": [
    "pca1 = decomposition.PCA(n_components=6)\n",
    "pca1.fit(X_train)\n",
    "X_train_proj = pca1.transform(X_train)\n",
    "pca2 = decomposition.PCA(n_components=6)\n",
    "pca2.fit(X_train)\n",
    "X_test_proj = pca2.transform(X_test)"
   ]
  },
  {
   "cell_type": "code",
   "execution_count": 45,
   "id": "01364177",
   "metadata": {},
   "outputs": [
    {
     "name": "stdout",
     "output_type": "stream",
     "text": [
      "Performance de KNN sur le set de test : 0.875968992248062\n",
      "Performance de la régression Logistique sur le set de test : 0.7440381558028617\n",
      "Performance de la forêt aléatoire sur le set de test : 0.885691446842526\n"
     ]
    }
   ],
   "source": [
    "#KNN\n",
    "predictor_neigh_proj = neighbors.KNeighborsClassifier()\n",
    "\n",
    "tuned_parameters = [{'n_neighbors': k_values}]\n",
    "nb_folds = 5\n",
    "grid_proj_neigh = GridSearchCV(predictor_neigh_proj, tuned_parameters, cv=nb_folds, refit=True, scoring=metrics.make_scorer(metrics.f1_score))\n",
    "grid_proj_neigh.fit(X_train_proj, y_train)\n",
    "\n",
    "neigh_proj = grid_proj_neigh.best_estimator_\n",
    "neigh_proj.fit(X_train_proj,y_train)\n",
    "f1_score_proj_neigh = metrics.f1_score(y_test,neigh_proj.predict(X_test_proj))\n",
    "print(\"Performance de KNN sur le set de test : {}\".format(f1_score_proj_neigh))\n",
    "\n",
    "#Regression Logistique pénalisée l2\n",
    "\n",
    "predictor_logreg_proj = LogisticRegression(penalty='l2')\n",
    "tuned_parameters = [{'C': C_values}]\n",
    "nb_folds = 5\n",
    "grid_proj_ridge = GridSearchCV(predictor_logreg_proj, tuned_parameters, cv=nb_folds, refit=True, scoring=metrics.make_scorer(metrics.f1_score))\n",
    "grid_proj_ridge.fit(X_train_proj, y_train)\n",
    "\n",
    "logreg_proj = grid_proj_ridge.best_estimator_\n",
    "logreg_proj.fit(X_train_proj,y_train)\n",
    "f1_score_proj_logreg = metrics.f1_score(y_test,logreg_proj.predict(X_test_proj))\n",
    "print(\"Performance de la régression Logistique sur le set de test : {}\".format(f1_score_proj_logreg))\n",
    "\n",
    "#Forêt Aléatoire\n",
    "\n",
    "predictor_forest_proj = RandomForestClassifier()\n",
    "n_values = np.arange(300, 800, 100)\n",
    "# define gridsearch\n",
    "tuned_parameters = [{'n_estimators': n_values}]\n",
    "nb_folds = 5\n",
    "grid_proj_forest = GridSearchCV(predictor_forest_proj, tuned_parameters, cv=nb_folds, refit=True, scoring=metrics.make_scorer(metrics.f1_score))\n",
    "grid_proj_forest.fit(X_train_proj, y_train)\n",
    "\n",
    "forest_proj = grid_proj_forest.best_estimator_\n",
    "forest_proj.fit(X_train_proj,y_train)\n",
    "f1_score_proj_forest = metrics.f1_score(y_test,forest_proj.predict(X_test_proj))\n",
    "print(\"Performance de la forêt aléatoire sur le set de test : {}\".format(f1_score_proj_forest))"
   ]
  },
  {
   "cell_type": "code",
   "execution_count": 46,
   "id": "6a48b07d",
   "metadata": {},
   "outputs": [
    {
     "data": {
      "image/png": "[encoded data removed]",
      "text/plain": [
       "<Figure size 432x288 with 1 Axes>"
      ]
     },
     "metadata": {
      "needs_background": "light"
     },
     "output_type": "display_data"
    }
   ],
   "source": [
    "data = {'Neighbors initial':f1_5NN, 'Neighbors grid':f1_neigh_grid, 'Logistic Regression reg : none':f1_logreg_none,\n",
    "        'Logistic Regression reg : L2':f1_logreg_ridge, 'Random tree forest grid': f1_forest, \"Neighbors with MinMAx\" : f1_score_minmax_neigh,\n",
    "        \"Logistic Regresion MinMAx\" : f1_score_minmax_logreg, \"Forest MinMax\" : f1_score_minmax_forest, \"Neighbors with PCA\" : f1_score_proj_neigh,\n",
    "        \"Logistic Regresion PCA\" : f1_score_proj_logreg, \"Forest PCA\" : f1_score_proj_forest}\n",
    "\n",
    "model = list(data.keys())\n",
    "f1_score = list(data.values())\n",
    "  \n",
    "\n",
    "plt.bar(model, f1_score,\n",
    "        width = 0.4)\n",
    "\n",
    "plt.ylabel(\"F1 score\")\n",
    "for index, value in enumerate(f1_score):\n",
    "    plt.text(index -0.05 , value+0.01, str(round(value*100,1))+\"%\", fontweight = 'bold')\n",
    "plt.xticks(rotation = 90)\n",
    "plt.title(\"Performance comparision\")\n",
    "plt.show()"
   ]
  },
  {
   "cell_type": "markdown",
   "id": "deafb33c",
   "metadata": {},
   "source": [
    "Au vu de tous ces résultats, la meilleur méthode semble être celle d'un forêt aléatoire entrainée avec un jeu de données transformé par une transformation Min Max"
   ]
  }
 ],
 "metadata": {
  "kernelspec": {
   "display_name": "Python 3",
   "language": "python",
   "name": "python3"
  },
  "language_info": {
   "codemirror_mode": {
    "name": "ipython",
    "version": 3
   },
   "file_extension": ".py",
   "mimetype": "text/x-python",
   "name": "python",
   "nbconvert_exporter": "python",
   "pygments_lexer": "ipython3",
   "version": "3.8.3"
  }
 },
 "nbformat": 4,
 "nbformat_minor": 5
}
