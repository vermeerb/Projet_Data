{
 "cells": [
  {
   "cell_type": "markdown",
   "metadata": {},
   "source": [
    "# Projet numérique de science des données - Bonhomme Vermeer et Rigaut Gaétan"
   ]
  },
  {
   "cell_type": "markdown",
   "metadata": {},
   "source": [
    "## Introduction au projet\n",
    "\n",
    "Il s'agit dans ce projet d'utiliser des données cartographiques décrivant des carrées de 30m x 30m pour construire un modèle prédictif de l'espèce d'arbre présente sur un tel carré.\n",
    "\n",
    "Le but final est d'appliquer ce modèle pour faire des prédictions pour des données pour lesquelles vous ne disposez pas d'une étiquette.\n",
    "\n",
    "__Consignes :__ \n",
    "* Vous devez rendre, par binôme :\n",
    "    * un notebook jupyter\n",
    "    * un fichier de prédictions (voir plus bas pour le format)\n",
    "* __Renseignez vos noms/prénoms__ dans le titre du notebook\n",
    "* Vous avez jusqu'au __1er juillet midi heure de Paris__\n",
    "* Déposez vos fichiers [sur Campus](https://campus.mines-paristech.fr/course/view.php?id=404) dans la section dédiée (un seul rendu par binôme est nécessaire)\n",
    "\n",
    "\n",
    "__Déroulé :__\n",
    "* Les séances du lundi 14/06 (15h30-17h) et jeudi 24/06 (15h30-17h) sont dédiées au projet numérique. Faites-en bon usage.\n",
    "* Certaines sections font appel à des notions qui n'auront pas encore été vues le 14/06 ; c'est indiqué le cas échéant."
   ]
  },
  {
   "cell_type": "markdown",
   "metadata": {},
   "source": [
    "## Données"
   ]
  },
  {
   "cell_type": "markdown",
   "metadata": {},
   "source": [
    "### Données publiques et privées\n",
    "\n",
    "Le dossier `data/` contient deux jeux de données :\n",
    "* `data/foret_public.tsv` contient les données étiquetées, à partir desquelles construire votre modèle\n",
    "* `data/foret_prive.tsv` contient les données non-étiquetées, pour lesquelles faire vos prédictions.\n",
    "\n",
    "Chaque ligne dans les données correspond à un carré de 30 m x 30m, décrit par les variables suivantes :\n",
    "* `altitude` : altitude en mètres\n",
    "* `exposition` : azimut en degrés \n",
    "* `pente` : pente en degrés\n",
    "* `distance_horizontale_hydro` : distance horizontale au point d'eau le plus proche (en mètres)\n",
    "* `distance_verticale_hydro` : distance verticale au point d'eau le plus proche (en mètres)\n",
    "* `distance_horizontale_route` : distance horizontale à la route la plus proche (en mètres)\n",
    "* `ombrage_0900` : index d'ombrages à 9h du matin, au solstice, sur une échelle de 0 à 255\n",
    "* `ombrage_1200` : index d'ombrages à midi, au solstice, sur une échelle de 0 à 255\n",
    "* `ombrage_1500` : index d'ombrages à 15h, au solstice, sur une échelle de 0 à 255\n",
    "* `distance_horizontale_depart_feu` : distance horizontale au départ de feu de forêt le plus proche (en mètres)\n",
    "* `espece` : étiquette : espèce d'arbre présente (0 = pin tordu ; 1 = peuplier)|"
   ]
  },
  {
   "cell_type": "markdown",
   "metadata": {},
   "source": [
    "### Chargement des données étiquetées"
   ]
  },
  {
   "cell_type": "code",
   "execution_count": 2,
   "metadata": {},
   "outputs": [
    {
     "name": "stdout",
     "output_type": "stream",
     "text": [
      "Populating the interactive namespace from numpy and matplotlib\n"
     ]
    }
   ],
   "source": [
    "%pylab inline"
   ]
  },
  {
   "cell_type": "code",
   "execution_count": 3,
   "metadata": {},
   "outputs": [],
   "source": [
    "import pandas as pd"
   ]
  },
  {
   "cell_type": "code",
   "execution_count": 4,
   "metadata": {},
   "outputs": [],
   "source": [
    "df_public = pd.read_csv('data/foret_public.tsv', delimiter='\\t')\n",
    "df_prive = pd.read_csv('data/foret_prive.tsv' , delimiter='\\t')"
   ]
  },
  {
   "cell_type": "code",
   "execution_count": 87,
   "metadata": {},
   "outputs": [
    {
     "data": {
      "text/html": [
       "<div>\n",
       "<style scoped>\n",
       "    .dataframe tbody tr th:only-of-type {\n",
       "        vertical-align: middle;\n",
       "    }\n",
       "\n",
       "    .dataframe tbody tr th {\n",
       "        vertical-align: top;\n",
       "    }\n",
       "\n",
       "    .dataframe thead th {\n",
       "        text-align: right;\n",
       "    }\n",
       "</style>\n",
       "<table border=\"1\" class=\"dataframe\">\n",
       "  <thead>\n",
       "    <tr style=\"text-align: right;\">\n",
       "      <th></th>\n",
       "      <th>altitude</th>\n",
       "      <th>exposition</th>\n",
       "      <th>pente</th>\n",
       "      <th>distance_horizontale_hydro</th>\n",
       "      <th>distance_verticale_hydro</th>\n",
       "      <th>distance_horizontale_route</th>\n",
       "      <th>ombrage_0900</th>\n",
       "      <th>ombrage_1200</th>\n",
       "      <th>ombrage_1500</th>\n",
       "      <th>distance_horizontale_depart_feu</th>\n",
       "      <th>espece</th>\n",
       "    </tr>\n",
       "  </thead>\n",
       "  <tbody>\n",
       "    <tr>\n",
       "      <th>0</th>\n",
       "      <td>2804</td>\n",
       "      <td>139</td>\n",
       "      <td>9</td>\n",
       "      <td>268</td>\n",
       "      <td>65</td>\n",
       "      <td>3180</td>\n",
       "      <td>234</td>\n",
       "      <td>238</td>\n",
       "      <td>135</td>\n",
       "      <td>6121</td>\n",
       "      <td>0</td>\n",
       "    </tr>\n",
       "    <tr>\n",
       "      <th>1</th>\n",
       "      <td>2785</td>\n",
       "      <td>155</td>\n",
       "      <td>18</td>\n",
       "      <td>242</td>\n",
       "      <td>118</td>\n",
       "      <td>3090</td>\n",
       "      <td>238</td>\n",
       "      <td>238</td>\n",
       "      <td>122</td>\n",
       "      <td>6211</td>\n",
       "      <td>0</td>\n",
       "    </tr>\n",
       "    <tr>\n",
       "      <th>2</th>\n",
       "      <td>2579</td>\n",
       "      <td>132</td>\n",
       "      <td>6</td>\n",
       "      <td>300</td>\n",
       "      <td>-15</td>\n",
       "      <td>67</td>\n",
       "      <td>230</td>\n",
       "      <td>237</td>\n",
       "      <td>140</td>\n",
       "      <td>6031</td>\n",
       "      <td>0</td>\n",
       "    </tr>\n",
       "    <tr>\n",
       "      <th>3</th>\n",
       "      <td>2886</td>\n",
       "      <td>151</td>\n",
       "      <td>11</td>\n",
       "      <td>371</td>\n",
       "      <td>26</td>\n",
       "      <td>5253</td>\n",
       "      <td>234</td>\n",
       "      <td>240</td>\n",
       "      <td>136</td>\n",
       "      <td>4051</td>\n",
       "      <td>0</td>\n",
       "    </tr>\n",
       "    <tr>\n",
       "      <th>4</th>\n",
       "      <td>2742</td>\n",
       "      <td>134</td>\n",
       "      <td>22</td>\n",
       "      <td>150</td>\n",
       "      <td>69</td>\n",
       "      <td>3215</td>\n",
       "      <td>248</td>\n",
       "      <td>224</td>\n",
       "      <td>92</td>\n",
       "      <td>6091</td>\n",
       "      <td>0</td>\n",
       "    </tr>\n",
       "    <tr>\n",
       "      <th>...</th>\n",
       "      <td>...</td>\n",
       "      <td>...</td>\n",
       "      <td>...</td>\n",
       "      <td>...</td>\n",
       "      <td>...</td>\n",
       "      <td>...</td>\n",
       "      <td>...</td>\n",
       "      <td>...</td>\n",
       "      <td>...</td>\n",
       "      <td>...</td>\n",
       "      <td>...</td>\n",
       "    </tr>\n",
       "    <tr>\n",
       "      <th>5995</th>\n",
       "      <td>2935</td>\n",
       "      <td>41</td>\n",
       "      <td>13</td>\n",
       "      <td>42</td>\n",
       "      <td>9</td>\n",
       "      <td>4692</td>\n",
       "      <td>221</td>\n",
       "      <td>211</td>\n",
       "      <td>123</td>\n",
       "      <td>2080</td>\n",
       "      <td>1</td>\n",
       "    </tr>\n",
       "    <tr>\n",
       "      <th>5996</th>\n",
       "      <td>2931</td>\n",
       "      <td>17</td>\n",
       "      <td>9</td>\n",
       "      <td>30</td>\n",
       "      <td>5</td>\n",
       "      <td>4722</td>\n",
       "      <td>213</td>\n",
       "      <td>221</td>\n",
       "      <td>145</td>\n",
       "      <td>2064</td>\n",
       "      <td>1</td>\n",
       "    </tr>\n",
       "    <tr>\n",
       "      <th>5997</th>\n",
       "      <td>2932</td>\n",
       "      <td>323</td>\n",
       "      <td>7</td>\n",
       "      <td>0</td>\n",
       "      <td>0</td>\n",
       "      <td>4752</td>\n",
       "      <td>202</td>\n",
       "      <td>233</td>\n",
       "      <td>170</td>\n",
       "      <td>2048</td>\n",
       "      <td>1</td>\n",
       "    </tr>\n",
       "    <tr>\n",
       "      <th>5998</th>\n",
       "      <td>2935</td>\n",
       "      <td>294</td>\n",
       "      <td>6</td>\n",
       "      <td>0</td>\n",
       "      <td>0</td>\n",
       "      <td>4782</td>\n",
       "      <td>202</td>\n",
       "      <td>239</td>\n",
       "      <td>176</td>\n",
       "      <td>2032</td>\n",
       "      <td>1</td>\n",
       "    </tr>\n",
       "    <tr>\n",
       "      <th>5999</th>\n",
       "      <td>2937</td>\n",
       "      <td>281</td>\n",
       "      <td>8</td>\n",
       "      <td>30</td>\n",
       "      <td>2</td>\n",
       "      <td>4811</td>\n",
       "      <td>197</td>\n",
       "      <td>241</td>\n",
       "      <td>184</td>\n",
       "      <td>2017</td>\n",
       "      <td>1</td>\n",
       "    </tr>\n",
       "  </tbody>\n",
       "</table>\n",
       "<p>6000 rows × 11 columns</p>\n",
       "</div>"
      ],
      "text/plain": [
       "      altitude  exposition  pente  distance_horizontale_hydro  \\\n",
       "0         2804         139      9                         268   \n",
       "1         2785         155     18                         242   \n",
       "2         2579         132      6                         300   \n",
       "3         2886         151     11                         371   \n",
       "4         2742         134     22                         150   \n",
       "...        ...         ...    ...                         ...   \n",
       "5995      2935          41     13                          42   \n",
       "5996      2931          17      9                          30   \n",
       "5997      2932         323      7                           0   \n",
       "5998      2935         294      6                           0   \n",
       "5999      2937         281      8                          30   \n",
       "\n",
       "      distance_verticale_hydro  distance_horizontale_route  ombrage_0900  \\\n",
       "0                           65                        3180           234   \n",
       "1                          118                        3090           238   \n",
       "2                          -15                          67           230   \n",
       "3                           26                        5253           234   \n",
       "4                           69                        3215           248   \n",
       "...                        ...                         ...           ...   \n",
       "5995                         9                        4692           221   \n",
       "5996                         5                        4722           213   \n",
       "5997                         0                        4752           202   \n",
       "5998                         0                        4782           202   \n",
       "5999                         2                        4811           197   \n",
       "\n",
       "      ombrage_1200  ombrage_1500  distance_horizontale_depart_feu  espece  \n",
       "0              238           135                             6121       0  \n",
       "1              238           122                             6211       0  \n",
       "2              237           140                             6031       0  \n",
       "3              240           136                             4051       0  \n",
       "4              224            92                             6091       0  \n",
       "...            ...           ...                              ...     ...  \n",
       "5995           211           123                             2080       1  \n",
       "5996           221           145                             2064       1  \n",
       "5997           233           170                             2048       1  \n",
       "5998           239           176                             2032       1  \n",
       "5999           241           184                             2017       1  \n",
       "\n",
       "[6000 rows x 11 columns]"
      ]
     },
     "execution_count": 87,
     "metadata": {},
     "output_type": "execute_result"
    }
   ],
   "source": [
    "df_public"
   ]
  },
  {
   "cell_type": "markdown",
   "metadata": {},
   "source": [
    "### Extraction de la matrice de design et des étiquettes "
   ]
  },
  {
   "cell_type": "code",
   "execution_count": 6,
   "metadata": {},
   "outputs": [],
   "source": [
    "X_public = np.array(df_public.drop(columns=[\"espece\"]))\n",
    "y_public = np.array(df_public[\"espece\"])\n",
    "\n",
    "X_prive = np.array(df_prive)"
   ]
  },
  {
   "cell_type": "markdown",
   "metadata": {},
   "source": [
    "### Visualisation des variables\n",
    "\n",
    "#### Question 1\n",
    "Visualisez chacune des variables de `X_public` sous la forme de deux histogrammes superposés, l'un correspondant aux observations de la classe positive, l'autre correspondant aux observations de la classe négative.\n",
    "\n",
    "__Conseils :__\n",
    "* utilisez `pos_indices = np.where(y_public==1)[0]` pour déterminer les indices des lignes de `y_public` (et donc dans `X_public`) dont l'étiquette vaut 0.\n",
    "* utilisez l'argument `alpha` de `plt.hist` pour rendre vos histogrammes transparents."
   ]
  },
  {
   "cell_type": "code",
   "execution_count": 7,
   "metadata": {},
   "outputs": [
    {
     "data": {
      "image/png": "[encoded data removed]",
      "text/plain": [
       "<Figure size 432x288 with 1 Axes>"
      ]
     },
     "metadata": {
      "needs_background": "light"
     },
     "output_type": "display_data"
    },
    {
     "data": {
      "image/png": "[encoded data removed]",
      "text/plain": [
       "<Figure size 432x288 with 1 Axes>"
      ]
     },
     "metadata": {
      "needs_background": "light"
     },
     "output_type": "display_data"
    },
    {
     "data": {
      "image/png": "[encoded data removed]",
      "text/plain": [
       "<Figure size 432x288 with 1 Axes>"
      ]
     },
     "metadata": {
      "needs_background": "light"
     },
     "output_type": "display_data"
    },
    {
     "data": {
      "image/png": "[encoded data removed]",
      "text/plain": [
       "<Figure size 432x288 with 1 Axes>"
      ]
     },
     "metadata": {
      "needs_background": "light"
     },
     "output_type": "display_data"
    },
    {
     "data": {
      "image/png": "[encoded data removed]",
      "text/plain": [
       "<Figure size 432x288 with 1 Axes>"
      ]
     },
     "metadata": {
      "needs_background": "light"
     },
     "output_type": "display_data"
    },
    {
     "data": {
      "image/png": "[encoded data removed]",
      "text/plain": [
       "<Figure size 432x288 with 1 Axes>"
      ]
     },
     "metadata": {
      "needs_background": "light"
     },
     "output_type": "display_data"
    },
    {
     "data": {
      "image/png": "[encoded data removed]",
      "text/plain": [
       "<Figure size 432x288 with 1 Axes>"
      ]
     },
     "metadata": {
      "needs_background": "light"
     },
     "output_type": "display_data"
    },
    {
     "data": {
      "image/png": "[encoded data removed]",
      "text/plain": [
       "<Figure size 432x288 with 1 Axes>"
      ]
     },
     "metadata": {
      "needs_background": "light"
     },
     "output_type": "display_data"
    },
    {
     "data": {
      "image/png": "[encoded data removed]",
      "text/plain": [
       "<Figure size 432x288 with 1 Axes>"
      ]
     },
     "metadata": {
      "needs_background": "light"
     },
     "output_type": "display_data"
    },
    {
     "data": {
      "image/png": "[encoded data removed]",
      "text/plain": [
       "<Figure size 432x288 with 1 Axes>"
      ]
     },
     "metadata": {
      "needs_background": "light"
     },
     "output_type": "display_data"
    }
   ],
   "source": [
    "pos_indices = np.where(y_public==1)[0]\n",
    "pos_indices_2 = np.where(y_public==0)[0]\n",
    "for i in range(10) :\n",
    "    plt.hist([e[i] for e in X_public[pos_indices]],alpha=0.8)\n",
    "    plt.hist([e[i] for e in X_public[pos_indices_2]],alpha = 0.8)\n",
    "    plt.title(df_public.columns.values[i])\n",
    "    plt.legend(['Peuplier','Pin Tordu'])\n",
    "    plt.show()"
   ]
  },
  {
   "cell_type": "markdown",
   "metadata": {},
   "source": [
    "#### Question 2\n",
    "Pensez-vous qu'il va être aisé de distinguer les deux classes ?"
   ]
  },
  {
   "cell_type": "markdown",
   "metadata": {},
   "source": [
    "Non car beaucoup de variables ont les mêmes profils d'histogrammes"
   ]
  },
  {
   "cell_type": "markdown",
   "metadata": {},
   "source": [
    "### Pré-traitement des variables"
   ]
  },
  {
   "cell_type": "markdown",
   "metadata": {},
   "source": [
    "#### Question 3\n",
    "Transformez vos variables d'une manière qui vous parait judicieuse, en vous appuyant notamment sur la PC 3. Vous pouvez essayer différents pré-traitements, mais ce n'est pas nécessaire. \n",
    "\n",
    "# Justifiez vos choix. \n",
    "\n",
    "Utilisez un array numpy `X_public_preprocessed` pour enregistrer le résultat."
   ]
  },
  {
   "cell_type": "code",
   "execution_count": 102,
   "metadata": {},
   "outputs": [],
   "source": [
    "from sklearn import preprocessing\n",
    "standard_scaler = preprocessing.StandardScaler()\n",
    "standard_scaler.fit(X_public)\n",
    "X_public_preprocessed = standard_scaler.transform(X_public)"
   ]
  },
  {
   "cell_type": "markdown",
   "metadata": {},
   "source": [
    "## Premier modèle : 5-NN"
   ]
  },
  {
   "cell_type": "markdown",
   "metadata": {},
   "source": [
    "### Algorithme des k plus proches voisins"
   ]
  },
  {
   "cell_type": "markdown",
   "metadata": {},
   "source": [
    "Nous n'avons pas encore vu d'algorithme permettant d'entraîner un modèle de classification. Nous allons donc commencer avec un modèle simple : celui des __k plus proches voisins__ (ou __kNN__, pour _k nearest neighbors_).\n",
    "\n",
    "Dans ce modèle, la valeur de la fonction de décision en x est la proportion d'individus d'étiquette positive parmi les k plus proches voisins de x au sein des points du jeu d'entraînement ; k est fixé."
   ]
  },
  {
   "cell_type": "markdown",
   "metadata": {},
   "source": [
    "Nous allons commencer par utiliser un algorithme des k plus proches voisins avec k fixé à k=5."
   ]
  },
  {
   "cell_type": "markdown",
   "metadata": {},
   "source": [
    "#### Question 4\n",
    "\n",
    "Entraînez un modèle des sur les données `(X_public_preprocessed, y_public)` grâce à la classe `KNeighborsClassifier` du module `neighbors` de `sklearn`, utilisez l'algorithme des 5 plus proches voisins pour entrainer un modèle sur votre jeu d'entraînement.\n",
    "\n",
    "Documentation https://scikit-learn.org/stable/modules/generated/sklearn.neighbors.KNeighborsClassifier.html"
   ]
  },
  {
   "cell_type": "code",
   "execution_count": 100,
   "metadata": {},
   "outputs": [],
   "source": [
    "from sklearn import neighbors"
   ]
  },
  {
   "cell_type": "code",
   "execution_count": 106,
   "metadata": {},
   "outputs": [],
   "source": [
    "predictor_neigh = neighbors.KNeighborsClassifier(n_neighbors=5)\n",
    "predictor_neigh.fit(X_public_preprocessed, y_public)\n",
    "\n",
    "y_pred_neigh = predictor_neigh.predict(X_public_preprocessed)"
   ]
  },
  {
   "cell_type": "markdown",
   "metadata": {},
   "source": [
    "### Performance\n",
    "\n",
    "Il existe de nombreuses métriques pour évaluer les performances d'un algorithme de classification. Nous allons ici utiliser le F-score, dont vous trouverez une description dans la documentation du module `metrics` de `sklearn` : https://scikit-learn.org/stable/modules/generated/sklearn.metrics.f1_score.html#sklearn.metrics.f1_score et https://scikit-learn.org/stable/modules/model_evaluation.html#precision-recall-f-measure-metrics.\n",
    "\n",
    "#### Question 5\n",
    "Quel serait sur nos données le F-score d'un modèle naïf prédisant systématiquement la classe positive ?"
   ]
  },
  {
   "cell_type": "code",
   "execution_count": 188,
   "metadata": {},
   "outputs": [
    {
     "data": {
      "text/plain": [
       "0.6666666666666666"
      ]
     },
     "execution_count": 188,
     "metadata": {},
     "output_type": "execute_result"
    }
   ],
   "source": [
    "from sklearn import metrics\n",
    "metrics.f1_score(y_public,np.ones((len(y_public))))"
   ]
  },
  {
   "cell_type": "markdown",
   "metadata": {},
   "source": [
    "En effet : \n",
    "    \n",
    "    Précision = 0.5\n",
    "    Rappel = 1\n",
    "    F = 2*(Précision*Rappel)/(Précision+Rappel) = 2/3\n",
    "    "
   ]
  },
  {
   "cell_type": "markdown",
   "metadata": {},
   "source": [
    "#### Question 6\n",
    "\n",
    "Quelle est le F-score du modèle de 5 plus proches voisins que vous venez d'entraîner, sur les données `(X_public_preprocessed, y_public)` ?"
   ]
  },
  {
   "cell_type": "code",
   "execution_count": 189,
   "metadata": {},
   "outputs": [
    {
     "data": {
      "text/plain": [
       "0.9290079924776682"
      ]
     },
     "execution_count": 189,
     "metadata": {},
     "output_type": "execute_result"
    }
   ],
   "source": [
    "metrics.f1_score(y_public,y_pred_neigh)"
   ]
  },
  {
   "cell_type": "markdown",
   "metadata": {},
   "source": [
    "#### Question 7\n",
    "* Que pensez-vous de cette performance ? \n",
    "* Est-ce une bonne idée d'évaluer le modèle sur le jeu d'entraînement ? (Réfléchissez en particulier au cas où k=1.)"
   ]
  },
  {
   "cell_type": "markdown",
   "metadata": {},
   "source": [
    "C'est un résultat satisfaisant. Cependant, on vient de tester la prédiction sur les données qui ont servi a créer le modèle, donc le score obtenu n'est pas représentatif de la performance du modèle. Il y a en effet un risque de surapprentissage : si k=1, on prend exactement l'étiquette du point. Ainsi, on n'obtient jamais d'erreur mais en réalité c'est uniquement de \"l'apprentissage par coeur\"."
   ]
  },
  {
   "cell_type": "markdown",
   "metadata": {},
   "source": [
    "## Création d'un jeu de test\n",
    "\n",
    "À partir de maintenant, nous allons séparer les données en un jeu d'entraînement, que nous utiliserons pour entraîner différents modèles, et un jeu de test, que nous utiliserons pour les comparer. (Cf CM 8)."
   ]
  },
  {
   "cell_type": "code",
   "execution_count": 108,
   "metadata": {},
   "outputs": [],
   "source": [
    "from sklearn import model_selection"
   ]
  },
  {
   "cell_type": "code",
   "execution_count": 190,
   "metadata": {},
   "outputs": [
    {
     "data": {
      "text/plain": [
       "((4800, 10), (1200, 10))"
      ]
     },
     "execution_count": 190,
     "metadata": {},
     "output_type": "execute_result"
    }
   ],
   "source": [
    "# Use 20% for testing\n",
    "X_train, X_test, y_train, y_test = model_selection.train_test_split(X_public_preprocessed, y_public, test_size=0.20,\n",
    "                                                                    stratify=y_public,\n",
    "                                                                    random_state=42) \n",
    "X_train.shape, X_test.shape"
   ]
  },
  {
   "cell_type": "markdown",
   "metadata": {},
   "source": [
    "### Performance sur le jeu de test d'un 5-NN entraîné sur le jeu d'entrainement"
   ]
  },
  {
   "cell_type": "markdown",
   "metadata": {},
   "source": [
    "#### Question 8.a \n",
    "\n",
    "Entrainez de nouveau un modèle avec l'algorithme des 5 plus proches voisins, mais cette fois, utilisez uniquement le jeu d'entraînement. __Attention__ à bien « entraîner » votre pre-processing sur le jeu d'entraînement seulement ; considérez le jeu de test comme des données que vous ne voyez pas au moment de l'entraînement."
   ]
  },
  {
   "cell_type": "code",
   "execution_count": 171,
   "metadata": {},
   "outputs": [
    {
     "data": {
      "text/plain": [
       "KNeighborsClassifier()"
      ]
     },
     "execution_count": 171,
     "metadata": {},
     "output_type": "execute_result"
    }
   ],
   "source": [
    "predictor_neigh_sep = neighbors.KNeighborsClassifier(n_neighbors=5)\n",
    "predictor_neigh_sep.fit(X_train,y_train)"
   ]
  },
  {
   "cell_type": "markdown",
   "metadata": {},
   "source": [
    "#### Question 8.b\n",
    "Évaluez le F-score sur le jeu de test du modèle entraîné à la question précédente."
   ]
  },
  {
   "cell_type": "code",
   "execution_count": 191,
   "metadata": {},
   "outputs": [
    {
     "data": {
      "text/plain": [
       "0.8956587966488957"
      ]
     },
     "execution_count": 191,
     "metadata": {},
     "output_type": "execute_result"
    }
   ],
   "source": [
    "y_pred_5NN = predictor_neigh_sep.predict(X_test)\n",
    "metrics.f1_score(y_test, y_pred_5NN)"
   ]
  },
  {
   "cell_type": "markdown",
   "metadata": {},
   "source": [
    "#### Question 9\n",
    "Commentez le F-score obtenu ci-dessus."
   ]
  },
  {
   "cell_type": "markdown",
   "metadata": {},
   "source": [
    "Il est du même ordre que celui obtenu auparavant, mais il est plus 'significatif', on sait que l'algorithme a de telles performances sur des données qu'il n'a jamais vu.\n",
    "\n",
    "Cette fois nous pouvons tester la prédiction avec k=1 :"
   ]
  },
  {
   "cell_type": "code",
   "execution_count": 192,
   "metadata": {},
   "outputs": [
    {
     "data": {
      "text/plain": [
       "0.9138339920948617"
      ]
     },
     "execution_count": 192,
     "metadata": {},
     "output_type": "execute_result"
    }
   ],
   "source": [
    "predictor_neigh_sep_Q9 = neighbors.KNeighborsClassifier(n_neighbors=1)\n",
    "predictor_neigh_sep_Q9.fit(X_train,y_train)\n",
    "y_pred_5NN_Q9 = predictor_neigh_sep_Q9.predict(X_test)\n",
    "metrics.f1_score(y_test, y_pred_5NN_Q9)"
   ]
  },
  {
   "cell_type": "markdown",
   "metadata": {},
   "source": [
    "Cette fois-ci la prédiction n'est pas parfaite. Heureusement."
   ]
  },
  {
   "cell_type": "markdown",
   "metadata": {},
   "source": [
    "## [À partir du CM 8 / de la PC 4] Sélection du nombre de plus proches voisins"
   ]
  },
  {
   "cell_type": "markdown",
   "metadata": {},
   "source": [
    "#### Question 10.a \n",
    "Utilisez maintenant une validation croisée pour sélectionner la valeur optimale du nombre de voisins avec `GridSearchCV` (voir notamment PC4). \n",
    "\n",
    "Vous pouvez utiliser la grille de valeurs de k suivante, ou la modifier :"
   ]
  },
  {
   "cell_type": "code",
   "execution_count": 193,
   "metadata": {},
   "outputs": [],
   "source": [
    "k_values = np.arange(3,32, step=2)"
   ]
  },
  {
   "cell_type": "code",
   "execution_count": 194,
   "metadata": {},
   "outputs": [
    {
     "data": {
      "text/plain": [
       "GridSearchCV(cv=5, estimator=KNeighborsClassifier(),\n",
       "             param_grid=[{'n_neighbors': array([ 3,  5,  7,  9, 11, 13, 15, 17, 19, 21, 23, 25, 27, 29, 31])}],\n",
       "             scoring=make_scorer(f1_score))"
      ]
     },
     "execution_count": 194,
     "metadata": {},
     "output_type": "execute_result"
    }
   ],
   "source": [
    "from sklearn.model_selection import GridSearchCV\n",
    "\n",
    "predictor_neigh_grid = neighbors.KNeighborsClassifier()\n",
    "\n",
    "# define gridsearch\n",
    "tuned_parameters = [{'n_neighbors': k_values}]\n",
    "nb_folds = 5\n",
    "grid = GridSearchCV(predictor_neigh_grid, tuned_parameters, cv=nb_folds, refit=True, scoring=metrics.make_scorer(metrics.f1_score))\n",
    "grid.fit(X_train, y_train)\n"
   ]
  },
  {
   "cell_type": "markdown",
   "metadata": {},
   "source": [
    "#### Question 10.b\n",
    "Quel est le F-score correspondant au nombre de voisin optimal ?"
   ]
  },
  {
   "cell_type": "code",
   "execution_count": 176,
   "metadata": {},
   "outputs": [
    {
     "data": {
      "text/html": [
       "<div>\n",
       "<style scoped>\n",
       "    .dataframe tbody tr th:only-of-type {\n",
       "        vertical-align: middle;\n",
       "    }\n",
       "\n",
       "    .dataframe tbody tr th {\n",
       "        vertical-align: top;\n",
       "    }\n",
       "\n",
       "    .dataframe thead th {\n",
       "        text-align: right;\n",
       "    }\n",
       "</style>\n",
       "<table border=\"1\" class=\"dataframe\">\n",
       "  <thead>\n",
       "    <tr style=\"text-align: right;\">\n",
       "      <th></th>\n",
       "      <th>mean_fit_time</th>\n",
       "      <th>std_fit_time</th>\n",
       "      <th>mean_score_time</th>\n",
       "      <th>std_score_time</th>\n",
       "      <th>param_n_neighbors</th>\n",
       "      <th>params</th>\n",
       "      <th>split0_test_score</th>\n",
       "      <th>split1_test_score</th>\n",
       "      <th>split2_test_score</th>\n",
       "      <th>split3_test_score</th>\n",
       "      <th>split4_test_score</th>\n",
       "      <th>mean_test_score</th>\n",
       "      <th>std_test_score</th>\n",
       "      <th>rank_test_score</th>\n",
       "    </tr>\n",
       "  </thead>\n",
       "  <tbody>\n",
       "    <tr>\n",
       "      <th>0</th>\n",
       "      <td>0.012461</td>\n",
       "      <td>0.006234</td>\n",
       "      <td>0.088323</td>\n",
       "      <td>0.007539</td>\n",
       "      <td>3</td>\n",
       "      <td>{'n_neighbors': 3}</td>\n",
       "      <td>0.898746</td>\n",
       "      <td>0.901163</td>\n",
       "      <td>0.891013</td>\n",
       "      <td>0.882353</td>\n",
       "      <td>0.908913</td>\n",
       "      <td>0.896438</td>\n",
       "      <td>0.009067</td>\n",
       "      <td>1</td>\n",
       "    </tr>\n",
       "    <tr>\n",
       "      <th>1</th>\n",
       "      <td>0.009382</td>\n",
       "      <td>0.007660</td>\n",
       "      <td>0.090649</td>\n",
       "      <td>0.006251</td>\n",
       "      <td>5</td>\n",
       "      <td>{'n_neighbors': 5}</td>\n",
       "      <td>0.893617</td>\n",
       "      <td>0.892514</td>\n",
       "      <td>0.886124</td>\n",
       "      <td>0.871028</td>\n",
       "      <td>0.893167</td>\n",
       "      <td>0.887290</td>\n",
       "      <td>0.008575</td>\n",
       "      <td>2</td>\n",
       "    </tr>\n",
       "    <tr>\n",
       "      <th>2</th>\n",
       "      <td>0.012516</td>\n",
       "      <td>0.006258</td>\n",
       "      <td>0.098993</td>\n",
       "      <td>0.010820</td>\n",
       "      <td>7</td>\n",
       "      <td>{'n_neighbors': 7}</td>\n",
       "      <td>0.888676</td>\n",
       "      <td>0.888046</td>\n",
       "      <td>0.879392</td>\n",
       "      <td>0.860315</td>\n",
       "      <td>0.891841</td>\n",
       "      <td>0.881654</td>\n",
       "      <td>0.011440</td>\n",
       "      <td>3</td>\n",
       "    </tr>\n",
       "    <tr>\n",
       "      <th>3</th>\n",
       "      <td>0.007928</td>\n",
       "      <td>0.007075</td>\n",
       "      <td>0.110733</td>\n",
       "      <td>0.010469</td>\n",
       "      <td>9</td>\n",
       "      <td>{'n_neighbors': 9}</td>\n",
       "      <td>0.879849</td>\n",
       "      <td>0.878417</td>\n",
       "      <td>0.871698</td>\n",
       "      <td>0.860572</td>\n",
       "      <td>0.876532</td>\n",
       "      <td>0.873413</td>\n",
       "      <td>0.006986</td>\n",
       "      <td>4</td>\n",
       "    </tr>\n",
       "    <tr>\n",
       "      <th>4</th>\n",
       "      <td>0.012626</td>\n",
       "      <td>0.006315</td>\n",
       "      <td>0.101099</td>\n",
       "      <td>0.007669</td>\n",
       "      <td>11</td>\n",
       "      <td>{'n_neighbors': 11}</td>\n",
       "      <td>0.871212</td>\n",
       "      <td>0.876995</td>\n",
       "      <td>0.866856</td>\n",
       "      <td>0.860595</td>\n",
       "      <td>0.877358</td>\n",
       "      <td>0.870603</td>\n",
       "      <td>0.006342</td>\n",
       "      <td>5</td>\n",
       "    </tr>\n",
       "    <tr>\n",
       "      <th>5</th>\n",
       "      <td>0.014135</td>\n",
       "      <td>0.003187</td>\n",
       "      <td>0.106173</td>\n",
       "      <td>0.007476</td>\n",
       "      <td>13</td>\n",
       "      <td>{'n_neighbors': 13}</td>\n",
       "      <td>0.870633</td>\n",
       "      <td>0.878505</td>\n",
       "      <td>0.865475</td>\n",
       "      <td>0.855019</td>\n",
       "      <td>0.880076</td>\n",
       "      <td>0.869941</td>\n",
       "      <td>0.009156</td>\n",
       "      <td>6</td>\n",
       "    </tr>\n",
       "    <tr>\n",
       "      <th>6</th>\n",
       "      <td>0.014074</td>\n",
       "      <td>0.003039</td>\n",
       "      <td>0.113870</td>\n",
       "      <td>0.010567</td>\n",
       "      <td>15</td>\n",
       "      <td>{'n_neighbors': 15}</td>\n",
       "      <td>0.868744</td>\n",
       "      <td>0.870610</td>\n",
       "      <td>0.869728</td>\n",
       "      <td>0.850554</td>\n",
       "      <td>0.878049</td>\n",
       "      <td>0.867537</td>\n",
       "      <td>0.009106</td>\n",
       "      <td>7</td>\n",
       "    </tr>\n",
       "    <tr>\n",
       "      <th>7</th>\n",
       "      <td>0.012577</td>\n",
       "      <td>0.003739</td>\n",
       "      <td>0.112950</td>\n",
       "      <td>0.004361</td>\n",
       "      <td>17</td>\n",
       "      <td>{'n_neighbors': 17}</td>\n",
       "      <td>0.864662</td>\n",
       "      <td>0.871415</td>\n",
       "      <td>0.863039</td>\n",
       "      <td>0.848485</td>\n",
       "      <td>0.872897</td>\n",
       "      <td>0.864100</td>\n",
       "      <td>0.008674</td>\n",
       "      <td>8</td>\n",
       "    </tr>\n",
       "    <tr>\n",
       "      <th>8</th>\n",
       "      <td>0.014231</td>\n",
       "      <td>0.010337</td>\n",
       "      <td>0.128187</td>\n",
       "      <td>0.015545</td>\n",
       "      <td>19</td>\n",
       "      <td>{'n_neighbors': 19}</td>\n",
       "      <td>0.860356</td>\n",
       "      <td>0.865314</td>\n",
       "      <td>0.864105</td>\n",
       "      <td>0.845304</td>\n",
       "      <td>0.873134</td>\n",
       "      <td>0.861643</td>\n",
       "      <td>0.009167</td>\n",
       "      <td>9</td>\n",
       "    </tr>\n",
       "    <tr>\n",
       "      <th>9</th>\n",
       "      <td>0.014120</td>\n",
       "      <td>0.003003</td>\n",
       "      <td>0.115995</td>\n",
       "      <td>0.016992</td>\n",
       "      <td>21</td>\n",
       "      <td>{'n_neighbors': 21}</td>\n",
       "      <td>0.856876</td>\n",
       "      <td>0.862419</td>\n",
       "      <td>0.860075</td>\n",
       "      <td>0.843750</td>\n",
       "      <td>0.875585</td>\n",
       "      <td>0.859741</td>\n",
       "      <td>0.010220</td>\n",
       "      <td>10</td>\n",
       "    </tr>\n",
       "    <tr>\n",
       "      <th>10</th>\n",
       "      <td>0.010976</td>\n",
       "      <td>0.006233</td>\n",
       "      <td>0.111300</td>\n",
       "      <td>0.003414</td>\n",
       "      <td>23</td>\n",
       "      <td>{'n_neighbors': 23}</td>\n",
       "      <td>0.860902</td>\n",
       "      <td>0.858202</td>\n",
       "      <td>0.857939</td>\n",
       "      <td>0.837167</td>\n",
       "      <td>0.873714</td>\n",
       "      <td>0.857585</td>\n",
       "      <td>0.011735</td>\n",
       "      <td>11</td>\n",
       "    </tr>\n",
       "    <tr>\n",
       "      <th>11</th>\n",
       "      <td>0.015638</td>\n",
       "      <td>0.000010</td>\n",
       "      <td>0.119428</td>\n",
       "      <td>0.013139</td>\n",
       "      <td>25</td>\n",
       "      <td>{'n_neighbors': 25}</td>\n",
       "      <td>0.857411</td>\n",
       "      <td>0.853974</td>\n",
       "      <td>0.857407</td>\n",
       "      <td>0.838710</td>\n",
       "      <td>0.869972</td>\n",
       "      <td>0.855495</td>\n",
       "      <td>0.010010</td>\n",
       "      <td>12</td>\n",
       "    </tr>\n",
       "    <tr>\n",
       "      <th>12</th>\n",
       "      <td>0.009376</td>\n",
       "      <td>0.007655</td>\n",
       "      <td>0.119188</td>\n",
       "      <td>0.008025</td>\n",
       "      <td>27</td>\n",
       "      <td>{'n_neighbors': 27}</td>\n",
       "      <td>0.856343</td>\n",
       "      <td>0.853974</td>\n",
       "      <td>0.854225</td>\n",
       "      <td>0.837167</td>\n",
       "      <td>0.869159</td>\n",
       "      <td>0.854173</td>\n",
       "      <td>0.010184</td>\n",
       "      <td>14</td>\n",
       "    </tr>\n",
       "    <tr>\n",
       "      <th>13</th>\n",
       "      <td>0.011647</td>\n",
       "      <td>0.006057</td>\n",
       "      <td>0.127922</td>\n",
       "      <td>0.004385</td>\n",
       "      <td>29</td>\n",
       "      <td>{'n_neighbors': 29}</td>\n",
       "      <td>0.853408</td>\n",
       "      <td>0.854225</td>\n",
       "      <td>0.853432</td>\n",
       "      <td>0.839302</td>\n",
       "      <td>0.870787</td>\n",
       "      <td>0.854231</td>\n",
       "      <td>0.009983</td>\n",
       "      <td>13</td>\n",
       "    </tr>\n",
       "    <tr>\n",
       "      <th>14</th>\n",
       "      <td>0.011809</td>\n",
       "      <td>0.006054</td>\n",
       "      <td>0.135935</td>\n",
       "      <td>0.007151</td>\n",
       "      <td>31</td>\n",
       "      <td>{'n_neighbors': 31}</td>\n",
       "      <td>0.855805</td>\n",
       "      <td>0.850788</td>\n",
       "      <td>0.848881</td>\n",
       "      <td>0.834559</td>\n",
       "      <td>0.873477</td>\n",
       "      <td>0.852702</td>\n",
       "      <td>0.012559</td>\n",
       "      <td>15</td>\n",
       "    </tr>\n",
       "  </tbody>\n",
       "</table>\n",
       "</div>"
      ],
      "text/plain": [
       "    mean_fit_time  std_fit_time  mean_score_time  std_score_time  \\\n",
       "0        0.012461      0.006234         0.088323        0.007539   \n",
       "1        0.009382      0.007660         0.090649        0.006251   \n",
       "2        0.012516      0.006258         0.098993        0.010820   \n",
       "3        0.007928      0.007075         0.110733        0.010469   \n",
       "4        0.012626      0.006315         0.101099        0.007669   \n",
       "5        0.014135      0.003187         0.106173        0.007476   \n",
       "6        0.014074      0.003039         0.113870        0.010567   \n",
       "7        0.012577      0.003739         0.112950        0.004361   \n",
       "8        0.014231      0.010337         0.128187        0.015545   \n",
       "9        0.014120      0.003003         0.115995        0.016992   \n",
       "10       0.010976      0.006233         0.111300        0.003414   \n",
       "11       0.015638      0.000010         0.119428        0.013139   \n",
       "12       0.009376      0.007655         0.119188        0.008025   \n",
       "13       0.011647      0.006057         0.127922        0.004385   \n",
       "14       0.011809      0.006054         0.135935        0.007151   \n",
       "\n",
       "   param_n_neighbors               params  split0_test_score  \\\n",
       "0                  3   {'n_neighbors': 3}           0.898746   \n",
       "1                  5   {'n_neighbors': 5}           0.893617   \n",
       "2                  7   {'n_neighbors': 7}           0.888676   \n",
       "3                  9   {'n_neighbors': 9}           0.879849   \n",
       "4                 11  {'n_neighbors': 11}           0.871212   \n",
       "5                 13  {'n_neighbors': 13}           0.870633   \n",
       "6                 15  {'n_neighbors': 15}           0.868744   \n",
       "7                 17  {'n_neighbors': 17}           0.864662   \n",
       "8                 19  {'n_neighbors': 19}           0.860356   \n",
       "9                 21  {'n_neighbors': 21}           0.856876   \n",
       "10                23  {'n_neighbors': 23}           0.860902   \n",
       "11                25  {'n_neighbors': 25}           0.857411   \n",
       "12                27  {'n_neighbors': 27}           0.856343   \n",
       "13                29  {'n_neighbors': 29}           0.853408   \n",
       "14                31  {'n_neighbors': 31}           0.855805   \n",
       "\n",
       "    split1_test_score  split2_test_score  split3_test_score  \\\n",
       "0            0.901163           0.891013           0.882353   \n",
       "1            0.892514           0.886124           0.871028   \n",
       "2            0.888046           0.879392           0.860315   \n",
       "3            0.878417           0.871698           0.860572   \n",
       "4            0.876995           0.866856           0.860595   \n",
       "5            0.878505           0.865475           0.855019   \n",
       "6            0.870610           0.869728           0.850554   \n",
       "7            0.871415           0.863039           0.848485   \n",
       "8            0.865314           0.864105           0.845304   \n",
       "9            0.862419           0.860075           0.843750   \n",
       "10           0.858202           0.857939           0.837167   \n",
       "11           0.853974           0.857407           0.838710   \n",
       "12           0.853974           0.854225           0.837167   \n",
       "13           0.854225           0.853432           0.839302   \n",
       "14           0.850788           0.848881           0.834559   \n",
       "\n",
       "    split4_test_score  mean_test_score  std_test_score  rank_test_score  \n",
       "0            0.908913         0.896438        0.009067                1  \n",
       "1            0.893167         0.887290        0.008575                2  \n",
       "2            0.891841         0.881654        0.011440                3  \n",
       "3            0.876532         0.873413        0.006986                4  \n",
       "4            0.877358         0.870603        0.006342                5  \n",
       "5            0.880076         0.869941        0.009156                6  \n",
       "6            0.878049         0.867537        0.009106                7  \n",
       "7            0.872897         0.864100        0.008674                8  \n",
       "8            0.873134         0.861643        0.009167                9  \n",
       "9            0.875585         0.859741        0.010220               10  \n",
       "10           0.873714         0.857585        0.011735               11  \n",
       "11           0.869972         0.855495        0.010010               12  \n",
       "12           0.869159         0.854173        0.010184               14  \n",
       "13           0.870787         0.854231        0.009983               13  \n",
       "14           0.873477         0.852702        0.012559               15  "
      ]
     },
     "execution_count": 176,
     "metadata": {},
     "output_type": "execute_result"
    }
   ],
   "source": [
    "pd.DataFrame(grid.cv_results_)"
   ]
  },
  {
   "cell_type": "code",
   "execution_count": 177,
   "metadata": {},
   "outputs": [
    {
     "data": {
      "text/plain": [
       "0.8964376661106133"
      ]
     },
     "execution_count": 177,
     "metadata": {},
     "output_type": "execute_result"
    }
   ],
   "source": [
    "grid.best_score_"
   ]
  },
  {
   "cell_type": "markdown",
   "metadata": {},
   "source": [
    "#### Question 10.c\n",
    "\n",
    "Quel est le F-score, sur le jeu de test, d'un modèle obtenu en entraînant un algorithme des k plus proches voisins, avec le k que vous venez de déterminer, sur le jeu d'entraînement ? Commentez."
   ]
  },
  {
   "cell_type": "code",
   "execution_count": 178,
   "metadata": {},
   "outputs": [
    {
     "data": {
      "text/plain": [
       "0.8988416988416988"
      ]
     },
     "execution_count": 178,
     "metadata": {},
     "output_type": "execute_result"
    }
   ],
   "source": [
    "predictor_neigh_best = neighbors.KNeighborsClassifier(n_neighbors=3)\n",
    "predictor_neigh_best.fit(X_train,y_train)\n",
    "y_pred = predictor_neigh_best.predict(X_test)\n",
    "metrics.f1_score(y_pred,y_test)"
   ]
  },
  {
   "cell_type": "markdown",
   "metadata": {},
   "source": [
    "Le résultat de ce F-score est plus élevé que celui obtenu par la méthode grid. Cela nous indique que la population d'entrainement n'est pas tout à fait réprésentative de la population de jeu"
   ]
  },
  {
   "cell_type": "markdown",
   "metadata": {},
   "source": [
    "## [À partir de la PC 5] Régression logistique"
   ]
  },
  {
   "cell_type": "markdown",
   "metadata": {},
   "source": [
    "### Régression logistique non-régularisée"
   ]
  },
  {
   "cell_type": "markdown",
   "metadata": {},
   "source": [
    "#### Question 11.a\n",
    "\n",
    "Entraînez une régression logistique non-régularisée sur le jeu d'entraînement.\n",
    "\n",
    "__Conseils :__\n",
    "* Vous trouverez les outils nécessaires dans la classe `LogisticRegression` du module `linear_model` de `scikit-learn` ; il s'agit ainsi d'une variante de la PC5. Comme toujours, référez-vous à la [documentation](https://scikit-learn.org/stable/modules/generated/sklearn.linear_model.LogisticRegression.html).\n",
    "* Pour ne pas avoir de régularisation, utilisez `penalty='none'`"
   ]
  },
  {
   "cell_type": "code",
   "execution_count": 205,
   "metadata": {},
   "outputs": [],
   "source": [
    "from sklearn.linear_model import LogisticRegression\n",
    "predictor_logreg = LogisticRegression(penalty='none')\n",
    "predictor_logreg.fit(X_train,y_train)\n",
    "y_pred_logreg=predictor_logreg.predict(X_test)"
   ]
  },
  {
   "cell_type": "markdown",
   "metadata": {},
   "source": [
    "#### Question 11.b\n",
    "Évaluez le F-score de cette régression logistique non-régularisée sur le jeu de test."
   ]
  },
  {
   "cell_type": "code",
   "execution_count": 206,
   "metadata": {},
   "outputs": [
    {
     "data": {
      "text/plain": [
       "0.7756778964667215"
      ]
     },
     "execution_count": 206,
     "metadata": {},
     "output_type": "execute_result"
    }
   ],
   "source": [
    "metrics.f1_score(y_pred_logreg,y_test)"
   ]
  },
  {
   "cell_type": "markdown",
   "metadata": {},
   "source": [
    "#### Question 12\n",
    "Vous attendez-vous à ce qu'utiliser une régularisation l2 améliore les performances du modèle ? Pourquoi ?"
   ]
  },
  {
   "cell_type": "markdown",
   "metadata": {},
   "source": [
    "#### Question 13.a\n",
    "Déterminez par validation croisée une valeur optimale du coefficient de régularisation d'une régression logistique avec régularisation ridge."
   ]
  },
  {
   "cell_type": "code",
   "execution_count": null,
   "metadata": {},
   "outputs": [],
   "source": []
  },
  {
   "cell_type": "markdown",
   "metadata": {
    "tags": []
   },
   "source": [
    "#### Question 13.b\n",
    "Quel est le F-score, sur le jeu de test, d'une régression logistique avec régularisation ridge et ce coefficient de régularisation optimal, entraînée sur le jeu d'entraînement ?"
   ]
  },
  {
   "cell_type": "code",
   "execution_count": null,
   "metadata": {},
   "outputs": [],
   "source": []
  },
  {
   "cell_type": "markdown",
   "metadata": {},
   "source": [
    "#### Question 13.c\n",
    "Commentez ce résultat en regard de votre réponse à la question 12."
   ]
  },
  {
   "cell_type": "code",
   "execution_count": null,
   "metadata": {},
   "outputs": [],
   "source": []
  },
  {
   "cell_type": "markdown",
   "metadata": {},
   "source": [
    "#### Question 14\n",
    "\n",
    "Entraînez une forêt aléatoire sur le jeu d'entraînement et évaluez son F-score sur le jeu de test.\n",
    "\n",
    "__Conseils :__\n",
    "* Vous trouverez les outils nécessaires dans la classe `RandomForestClassifier` du module `ensemble` de `scikit-learn`.\n",
    "* Choisissez le nombre d'arbres par validation croisée."
   ]
  },
  {
   "cell_type": "code",
   "execution_count": null,
   "metadata": {},
   "outputs": [],
   "source": []
  },
  {
   "cell_type": "markdown",
   "metadata": {},
   "source": [
    "## Modèle final"
   ]
  },
  {
   "cell_type": "markdown",
   "metadata": {},
   "source": [
    "#### Question 15.a\n",
    "Visualisez les performances des différents modèles (et pré-traitements) que vous avez évalués sur le jeu de test."
   ]
  },
  {
   "cell_type": "code",
   "execution_count": null,
   "metadata": {},
   "outputs": [],
   "source": []
  },
  {
   "cell_type": "markdown",
   "metadata": {},
   "source": [
    "#### Question 15.b\n",
    "Utilisez cette figure pour __sélectionner votre modèle favori__. Quel pré-traitement choisissez-vous ? Quel algorithme choisissez-vous, avec quel hyper-paramètre ? "
   ]
  },
  {
   "cell_type": "code",
   "execution_count": null,
   "metadata": {},
   "outputs": [],
   "source": []
  },
  {
   "cell_type": "markdown",
   "metadata": {},
   "source": [
    "#### Question 16.a\n",
    "Chargez les données privées de `data/foret_prive.tsv` pour obtenir un array `X_private`. Le fichier suit la même syntaxe que `data/foret_public.tsv`, mais sans la colonne des étiquettes."
   ]
  },
  {
   "cell_type": "code",
   "execution_count": null,
   "metadata": {},
   "outputs": [],
   "source": []
  },
  {
   "cell_type": "markdown",
   "metadata": {},
   "source": [
    "#### Question 16.b\n",
    "Appliquez le pré-traitement que vous avez choisi à l'intégralité du jeu de données public `X_public` pour obtenir `X_public_preprocessed`."
   ]
  },
  {
   "cell_type": "code",
   "execution_count": null,
   "metadata": {},
   "outputs": [],
   "source": []
  },
  {
   "cell_type": "markdown",
   "metadata": {},
   "source": [
    "#### Question 16.c\n",
    "Appliquez à `X_private` le pré-traitement que vous avez choisi ; enregistrez le résultat dans `X_private_preprocessed`."
   ]
  },
  {
   "cell_type": "code",
   "execution_count": null,
   "metadata": {},
   "outputs": [],
   "source": []
  },
  {
   "cell_type": "markdown",
   "metadata": {},
   "source": [
    "#### Question 16.d\n",
    "Entraînez l'algorithme que vous avez sélectionné sur l'intégralité des données publiques `(X_public_processed, y_public)`. "
   ]
  },
  {
   "cell_type": "code",
   "execution_count": null,
   "metadata": {},
   "outputs": [],
   "source": []
  },
  {
   "cell_type": "markdown",
   "metadata": {},
   "source": [
    "#### Question 16.e\n",
    "Prédisez les étiquettes de `X_private_preprocessed` ; enregistrez le résultat dans un array `y_pred_final`"
   ]
  },
  {
   "cell_type": "code",
   "execution_count": null,
   "metadata": {},
   "outputs": [],
   "source": []
  },
  {
   "cell_type": "markdown",
   "metadata": {},
   "source": [
    "#### Question 16.f\n",
    "Utilisez le code suivant pour créer le fichier de prédictions que vous rendrez. \n",
    "\n",
    "__Attention__ Si vous ouvrez ce fichier avec un programme externe type Microsoft Excel ou LibreOffice Calc pour le lire, il est possible que ce programme modifie le fichier sans que vous ne le réalisiez. Préférez utiliser une commande bash type `less` ou `cat` ou éditeur de texte simple ; ou alors assurez-vous de relancer la commande."
   ]
  },
  {
   "cell_type": "code",
   "execution_count": null,
   "metadata": {},
   "outputs": [],
   "source": [
    "# Save array to file\n",
    "np.savetxt(\"test_file.tsv\", \n",
    "           y_pred_final,\n",
    "           fmt=('%d'), \n",
    "           header='Prediction',\n",
    "           delimiter='\\t', comments=\"\")"
   ]
  },
  {
   "cell_type": "markdown",
   "metadata": {},
   "source": [
    "## Bonus"
   ]
  },
  {
   "cell_type": "markdown",
   "metadata": {},
   "source": [
    "1. En alternative au F-score, utilisez des courbes ROC (et l'aire sous ces courbes) pour comparer vos modèles. Attention à utiliser les méthodes `predict_proba()` plutôt que `predict()` pour obtenir des scores non-seuillés plutôt que des prédictions binaires. Documentation pertinente : https://scikit-learn.org/stable/modules/generated/sklearn.metrics.plot_roc_curve.html et  https://scikit-learn.org/stable/modules/generated/sklearn.metrics.roc_auc_score.html.\n",
    "\n",
    "1. Explorez d'autres pré-traitements (comme par exemple le fait de réduire la dimension des données) et d'autres algorithmes d'apprentissage implémentés dans scikit-learn (par exemple SVM, perceptrons multi-couches) pour essayer d'améliorer vos prédictions et reprenez la question 15."
   ]
  }
 ],
 "metadata": {
  "kernelspec": {
   "display_name": "Python 3",
   "language": "python",
   "name": "python3"
  },
  "language_info": {
   "codemirror_mode": {
    "name": "ipython",
    "version": 3
   },
   "file_extension": ".py",
   "mimetype": "text/x-python",
   "name": "python",
   "nbconvert_exporter": "python",
   "pygments_lexer": "ipython3",
   "version": "3.8.3"
  }
 },
 "nbformat": 4,
 "nbformat_minor": 5
}
